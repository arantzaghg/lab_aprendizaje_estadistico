{
 "cells": [
  {
   "cell_type": "markdown",
   "id": "1dd13b03",
   "metadata": {},
   "source": [
    "# Examen Práctico 1\n",
    "## Arantza Gomez Haro Gamboa"
   ]
  },
  {
   "cell_type": "code",
   "execution_count": 1,
   "id": "7243af75",
   "metadata": {},
   "outputs": [],
   "source": [
    "import pandas as pd\n",
    "import numpy as np\n",
    "from itertools import combinations\n",
    "from sklearn.model_selection import train_test_split\n",
    "from sklearn import linear_model\n",
    "from sklearn.metrics import r2_score\n",
    "from sklearn.preprocessing import PolynomialFeatures\n",
    "import matplotlib.pyplot as plt\n",
    "from scipy import stats\n",
    "import statsmodels.formula.api as smf\n",
    "from sklearn.preprocessing import StandardScaler\n",
    "from sklearn.neighbors import KNeighborsRegressor"
   ]
  },
  {
   "cell_type": "markdown",
   "id": "1e01d824",
   "metadata": {},
   "source": [
    "## Datos:"
   ]
  },
  {
   "cell_type": "code",
   "execution_count": 2,
   "id": "06e46e81",
   "metadata": {},
   "outputs": [
    {
     "data": {
      "text/html": [
       "<div>\n",
       "<style scoped>\n",
       "    .dataframe tbody tr th:only-of-type {\n",
       "        vertical-align: middle;\n",
       "    }\n",
       "\n",
       "    .dataframe tbody tr th {\n",
       "        vertical-align: top;\n",
       "    }\n",
       "\n",
       "    .dataframe thead th {\n",
       "        text-align: right;\n",
       "    }\n",
       "</style>\n",
       "<table border=\"1\" class=\"dataframe\">\n",
       "  <thead>\n",
       "    <tr style=\"text-align: right;\">\n",
       "      <th></th>\n",
       "      <th>crim</th>\n",
       "      <th>zn</th>\n",
       "      <th>indus</th>\n",
       "      <th>chas</th>\n",
       "      <th>nox</th>\n",
       "      <th>rm</th>\n",
       "      <th>age</th>\n",
       "      <th>dis</th>\n",
       "      <th>tax</th>\n",
       "      <th>ptratio</th>\n",
       "      <th>...</th>\n",
       "      <th>medv</th>\n",
       "      <th>rad_1</th>\n",
       "      <th>rad_2</th>\n",
       "      <th>rad_3</th>\n",
       "      <th>rad_4</th>\n",
       "      <th>rad_5</th>\n",
       "      <th>rad_6</th>\n",
       "      <th>rad_7</th>\n",
       "      <th>rad_8</th>\n",
       "      <th>rad_24</th>\n",
       "    </tr>\n",
       "  </thead>\n",
       "  <tbody>\n",
       "    <tr>\n",
       "      <th>0</th>\n",
       "      <td>0.00632</td>\n",
       "      <td>18.0</td>\n",
       "      <td>2.31</td>\n",
       "      <td>0</td>\n",
       "      <td>0.538</td>\n",
       "      <td>6.575</td>\n",
       "      <td>65.2</td>\n",
       "      <td>4.0900</td>\n",
       "      <td>296</td>\n",
       "      <td>15.3</td>\n",
       "      <td>...</td>\n",
       "      <td>24.0</td>\n",
       "      <td>1</td>\n",
       "      <td>0</td>\n",
       "      <td>0</td>\n",
       "      <td>0</td>\n",
       "      <td>0</td>\n",
       "      <td>0</td>\n",
       "      <td>0</td>\n",
       "      <td>0</td>\n",
       "      <td>0</td>\n",
       "    </tr>\n",
       "    <tr>\n",
       "      <th>1</th>\n",
       "      <td>0.02731</td>\n",
       "      <td>0.0</td>\n",
       "      <td>7.07</td>\n",
       "      <td>0</td>\n",
       "      <td>0.469</td>\n",
       "      <td>6.421</td>\n",
       "      <td>78.9</td>\n",
       "      <td>4.9671</td>\n",
       "      <td>242</td>\n",
       "      <td>17.8</td>\n",
       "      <td>...</td>\n",
       "      <td>21.6</td>\n",
       "      <td>0</td>\n",
       "      <td>1</td>\n",
       "      <td>0</td>\n",
       "      <td>0</td>\n",
       "      <td>0</td>\n",
       "      <td>0</td>\n",
       "      <td>0</td>\n",
       "      <td>0</td>\n",
       "      <td>0</td>\n",
       "    </tr>\n",
       "    <tr>\n",
       "      <th>2</th>\n",
       "      <td>0.02729</td>\n",
       "      <td>0.0</td>\n",
       "      <td>7.07</td>\n",
       "      <td>0</td>\n",
       "      <td>0.469</td>\n",
       "      <td>7.185</td>\n",
       "      <td>61.1</td>\n",
       "      <td>4.9671</td>\n",
       "      <td>242</td>\n",
       "      <td>17.8</td>\n",
       "      <td>...</td>\n",
       "      <td>34.7</td>\n",
       "      <td>0</td>\n",
       "      <td>1</td>\n",
       "      <td>0</td>\n",
       "      <td>0</td>\n",
       "      <td>0</td>\n",
       "      <td>0</td>\n",
       "      <td>0</td>\n",
       "      <td>0</td>\n",
       "      <td>0</td>\n",
       "    </tr>\n",
       "    <tr>\n",
       "      <th>3</th>\n",
       "      <td>0.03237</td>\n",
       "      <td>0.0</td>\n",
       "      <td>2.18</td>\n",
       "      <td>0</td>\n",
       "      <td>0.458</td>\n",
       "      <td>6.998</td>\n",
       "      <td>45.8</td>\n",
       "      <td>6.0622</td>\n",
       "      <td>222</td>\n",
       "      <td>18.7</td>\n",
       "      <td>...</td>\n",
       "      <td>33.4</td>\n",
       "      <td>0</td>\n",
       "      <td>0</td>\n",
       "      <td>1</td>\n",
       "      <td>0</td>\n",
       "      <td>0</td>\n",
       "      <td>0</td>\n",
       "      <td>0</td>\n",
       "      <td>0</td>\n",
       "      <td>0</td>\n",
       "    </tr>\n",
       "    <tr>\n",
       "      <th>4</th>\n",
       "      <td>0.06905</td>\n",
       "      <td>0.0</td>\n",
       "      <td>2.18</td>\n",
       "      <td>0</td>\n",
       "      <td>0.458</td>\n",
       "      <td>7.147</td>\n",
       "      <td>54.2</td>\n",
       "      <td>6.0622</td>\n",
       "      <td>222</td>\n",
       "      <td>18.7</td>\n",
       "      <td>...</td>\n",
       "      <td>36.2</td>\n",
       "      <td>0</td>\n",
       "      <td>0</td>\n",
       "      <td>1</td>\n",
       "      <td>0</td>\n",
       "      <td>0</td>\n",
       "      <td>0</td>\n",
       "      <td>0</td>\n",
       "      <td>0</td>\n",
       "      <td>0</td>\n",
       "    </tr>\n",
       "  </tbody>\n",
       "</table>\n",
       "<p>5 rows × 21 columns</p>\n",
       "</div>"
      ],
      "text/plain": [
       "      crim    zn  indus  chas    nox     rm   age     dis  tax  ptratio  ...  \\\n",
       "0  0.00632  18.0   2.31     0  0.538  6.575  65.2  4.0900  296     15.3  ...   \n",
       "1  0.02731   0.0   7.07     0  0.469  6.421  78.9  4.9671  242     17.8  ...   \n",
       "2  0.02729   0.0   7.07     0  0.469  7.185  61.1  4.9671  242     17.8  ...   \n",
       "3  0.03237   0.0   2.18     0  0.458  6.998  45.8  6.0622  222     18.7  ...   \n",
       "4  0.06905   0.0   2.18     0  0.458  7.147  54.2  6.0622  222     18.7  ...   \n",
       "\n",
       "   medv  rad_1  rad_2  rad_3  rad_4  rad_5  rad_6  rad_7  rad_8  rad_24  \n",
       "0  24.0      1      0      0      0      0      0      0      0       0  \n",
       "1  21.6      0      1      0      0      0      0      0      0       0  \n",
       "2  34.7      0      1      0      0      0      0      0      0       0  \n",
       "3  33.4      0      0      1      0      0      0      0      0       0  \n",
       "4  36.2      0      0      1      0      0      0      0      0       0  \n",
       "\n",
       "[5 rows x 21 columns]"
      ]
     },
     "execution_count": 2,
     "metadata": {},
     "output_type": "execute_result"
    }
   ],
   "source": [
    "df = pd.read_csv('Boston.csv')\n",
    "df = df.drop(columns = ['Unnamed: 0'])\n",
    "df = pd.get_dummies(df, columns = ['rad'])\n",
    "df.head()"
   ]
  },
  {
   "cell_type": "code",
   "execution_count": 3,
   "id": "0525d138",
   "metadata": {},
   "outputs": [
    {
     "name": "stdout",
     "output_type": "stream",
     "text": [
      "<class 'pandas.core.frame.DataFrame'>\n",
      "RangeIndex: 506 entries, 0 to 505\n",
      "Data columns (total 21 columns):\n",
      " #   Column   Non-Null Count  Dtype  \n",
      "---  ------   --------------  -----  \n",
      " 0   crim     506 non-null    float64\n",
      " 1   zn       506 non-null    float64\n",
      " 2   indus    506 non-null    float64\n",
      " 3   chas     506 non-null    int64  \n",
      " 4   nox      506 non-null    float64\n",
      " 5   rm       506 non-null    float64\n",
      " 6   age      506 non-null    float64\n",
      " 7   dis      506 non-null    float64\n",
      " 8   tax      506 non-null    int64  \n",
      " 9   ptratio  506 non-null    float64\n",
      " 10  lstat    506 non-null    float64\n",
      " 11  medv     506 non-null    float64\n",
      " 12  rad_1    506 non-null    uint8  \n",
      " 13  rad_2    506 non-null    uint8  \n",
      " 14  rad_3    506 non-null    uint8  \n",
      " 15  rad_4    506 non-null    uint8  \n",
      " 16  rad_5    506 non-null    uint8  \n",
      " 17  rad_6    506 non-null    uint8  \n",
      " 18  rad_7    506 non-null    uint8  \n",
      " 19  rad_8    506 non-null    uint8  \n",
      " 20  rad_24   506 non-null    uint8  \n",
      "dtypes: float64(10), int64(2), uint8(9)\n",
      "memory usage: 52.0 KB\n"
     ]
    }
   ],
   "source": [
    "df.info()"
   ]
  },
  {
   "cell_type": "code",
   "execution_count": 4,
   "id": "fa955ced",
   "metadata": {},
   "outputs": [
    {
     "data": {
      "text/html": [
       "<div>\n",
       "<style scoped>\n",
       "    .dataframe tbody tr th:only-of-type {\n",
       "        vertical-align: middle;\n",
       "    }\n",
       "\n",
       "    .dataframe tbody tr th {\n",
       "        vertical-align: top;\n",
       "    }\n",
       "\n",
       "    .dataframe thead th {\n",
       "        text-align: right;\n",
       "    }\n",
       "</style>\n",
       "<table border=\"1\" class=\"dataframe\">\n",
       "  <thead>\n",
       "    <tr style=\"text-align: right;\">\n",
       "      <th></th>\n",
       "      <th>crim</th>\n",
       "      <th>zn</th>\n",
       "      <th>indus</th>\n",
       "      <th>chas</th>\n",
       "      <th>nox</th>\n",
       "      <th>rm</th>\n",
       "      <th>age</th>\n",
       "      <th>dis</th>\n",
       "      <th>tax</th>\n",
       "      <th>ptratio</th>\n",
       "      <th>...</th>\n",
       "      <th>medv</th>\n",
       "      <th>rad_1</th>\n",
       "      <th>rad_2</th>\n",
       "      <th>rad_3</th>\n",
       "      <th>rad_4</th>\n",
       "      <th>rad_5</th>\n",
       "      <th>rad_6</th>\n",
       "      <th>rad_7</th>\n",
       "      <th>rad_8</th>\n",
       "      <th>rad_24</th>\n",
       "    </tr>\n",
       "  </thead>\n",
       "  <tbody>\n",
       "    <tr>\n",
       "      <th>count</th>\n",
       "      <td>506.000000</td>\n",
       "      <td>506.000000</td>\n",
       "      <td>506.000000</td>\n",
       "      <td>506.000000</td>\n",
       "      <td>506.000000</td>\n",
       "      <td>506.000000</td>\n",
       "      <td>506.000000</td>\n",
       "      <td>506.000000</td>\n",
       "      <td>506.000000</td>\n",
       "      <td>506.000000</td>\n",
       "      <td>...</td>\n",
       "      <td>506.000000</td>\n",
       "      <td>506.000000</td>\n",
       "      <td>506.000000</td>\n",
       "      <td>506.000000</td>\n",
       "      <td>506.000000</td>\n",
       "      <td>506.000000</td>\n",
       "      <td>506.000000</td>\n",
       "      <td>506.000000</td>\n",
       "      <td>506.000000</td>\n",
       "      <td>506.000000</td>\n",
       "    </tr>\n",
       "    <tr>\n",
       "      <th>mean</th>\n",
       "      <td>3.613524</td>\n",
       "      <td>11.363636</td>\n",
       "      <td>11.136779</td>\n",
       "      <td>0.069170</td>\n",
       "      <td>0.554695</td>\n",
       "      <td>6.284634</td>\n",
       "      <td>68.574901</td>\n",
       "      <td>3.795043</td>\n",
       "      <td>408.237154</td>\n",
       "      <td>18.455534</td>\n",
       "      <td>...</td>\n",
       "      <td>22.532806</td>\n",
       "      <td>0.039526</td>\n",
       "      <td>0.047431</td>\n",
       "      <td>0.075099</td>\n",
       "      <td>0.217391</td>\n",
       "      <td>0.227273</td>\n",
       "      <td>0.051383</td>\n",
       "      <td>0.033597</td>\n",
       "      <td>0.047431</td>\n",
       "      <td>0.260870</td>\n",
       "    </tr>\n",
       "    <tr>\n",
       "      <th>std</th>\n",
       "      <td>8.601545</td>\n",
       "      <td>23.322453</td>\n",
       "      <td>6.860353</td>\n",
       "      <td>0.253994</td>\n",
       "      <td>0.115878</td>\n",
       "      <td>0.702617</td>\n",
       "      <td>28.148861</td>\n",
       "      <td>2.105710</td>\n",
       "      <td>168.537116</td>\n",
       "      <td>2.164946</td>\n",
       "      <td>...</td>\n",
       "      <td>9.197104</td>\n",
       "      <td>0.195035</td>\n",
       "      <td>0.212769</td>\n",
       "      <td>0.263812</td>\n",
       "      <td>0.412879</td>\n",
       "      <td>0.419485</td>\n",
       "      <td>0.220997</td>\n",
       "      <td>0.180367</td>\n",
       "      <td>0.212769</td>\n",
       "      <td>0.439543</td>\n",
       "    </tr>\n",
       "    <tr>\n",
       "      <th>min</th>\n",
       "      <td>0.006320</td>\n",
       "      <td>0.000000</td>\n",
       "      <td>0.460000</td>\n",
       "      <td>0.000000</td>\n",
       "      <td>0.385000</td>\n",
       "      <td>3.561000</td>\n",
       "      <td>2.900000</td>\n",
       "      <td>1.129600</td>\n",
       "      <td>187.000000</td>\n",
       "      <td>12.600000</td>\n",
       "      <td>...</td>\n",
       "      <td>5.000000</td>\n",
       "      <td>0.000000</td>\n",
       "      <td>0.000000</td>\n",
       "      <td>0.000000</td>\n",
       "      <td>0.000000</td>\n",
       "      <td>0.000000</td>\n",
       "      <td>0.000000</td>\n",
       "      <td>0.000000</td>\n",
       "      <td>0.000000</td>\n",
       "      <td>0.000000</td>\n",
       "    </tr>\n",
       "    <tr>\n",
       "      <th>25%</th>\n",
       "      <td>0.082045</td>\n",
       "      <td>0.000000</td>\n",
       "      <td>5.190000</td>\n",
       "      <td>0.000000</td>\n",
       "      <td>0.449000</td>\n",
       "      <td>5.885500</td>\n",
       "      <td>45.025000</td>\n",
       "      <td>2.100175</td>\n",
       "      <td>279.000000</td>\n",
       "      <td>17.400000</td>\n",
       "      <td>...</td>\n",
       "      <td>17.025000</td>\n",
       "      <td>0.000000</td>\n",
       "      <td>0.000000</td>\n",
       "      <td>0.000000</td>\n",
       "      <td>0.000000</td>\n",
       "      <td>0.000000</td>\n",
       "      <td>0.000000</td>\n",
       "      <td>0.000000</td>\n",
       "      <td>0.000000</td>\n",
       "      <td>0.000000</td>\n",
       "    </tr>\n",
       "    <tr>\n",
       "      <th>50%</th>\n",
       "      <td>0.256510</td>\n",
       "      <td>0.000000</td>\n",
       "      <td>9.690000</td>\n",
       "      <td>0.000000</td>\n",
       "      <td>0.538000</td>\n",
       "      <td>6.208500</td>\n",
       "      <td>77.500000</td>\n",
       "      <td>3.207450</td>\n",
       "      <td>330.000000</td>\n",
       "      <td>19.050000</td>\n",
       "      <td>...</td>\n",
       "      <td>21.200000</td>\n",
       "      <td>0.000000</td>\n",
       "      <td>0.000000</td>\n",
       "      <td>0.000000</td>\n",
       "      <td>0.000000</td>\n",
       "      <td>0.000000</td>\n",
       "      <td>0.000000</td>\n",
       "      <td>0.000000</td>\n",
       "      <td>0.000000</td>\n",
       "      <td>0.000000</td>\n",
       "    </tr>\n",
       "    <tr>\n",
       "      <th>75%</th>\n",
       "      <td>3.677083</td>\n",
       "      <td>12.500000</td>\n",
       "      <td>18.100000</td>\n",
       "      <td>0.000000</td>\n",
       "      <td>0.624000</td>\n",
       "      <td>6.623500</td>\n",
       "      <td>94.075000</td>\n",
       "      <td>5.188425</td>\n",
       "      <td>666.000000</td>\n",
       "      <td>20.200000</td>\n",
       "      <td>...</td>\n",
       "      <td>25.000000</td>\n",
       "      <td>0.000000</td>\n",
       "      <td>0.000000</td>\n",
       "      <td>0.000000</td>\n",
       "      <td>0.000000</td>\n",
       "      <td>0.000000</td>\n",
       "      <td>0.000000</td>\n",
       "      <td>0.000000</td>\n",
       "      <td>0.000000</td>\n",
       "      <td>1.000000</td>\n",
       "    </tr>\n",
       "    <tr>\n",
       "      <th>max</th>\n",
       "      <td>88.976200</td>\n",
       "      <td>100.000000</td>\n",
       "      <td>27.740000</td>\n",
       "      <td>1.000000</td>\n",
       "      <td>0.871000</td>\n",
       "      <td>8.780000</td>\n",
       "      <td>100.000000</td>\n",
       "      <td>12.126500</td>\n",
       "      <td>711.000000</td>\n",
       "      <td>22.000000</td>\n",
       "      <td>...</td>\n",
       "      <td>50.000000</td>\n",
       "      <td>1.000000</td>\n",
       "      <td>1.000000</td>\n",
       "      <td>1.000000</td>\n",
       "      <td>1.000000</td>\n",
       "      <td>1.000000</td>\n",
       "      <td>1.000000</td>\n",
       "      <td>1.000000</td>\n",
       "      <td>1.000000</td>\n",
       "      <td>1.000000</td>\n",
       "    </tr>\n",
       "  </tbody>\n",
       "</table>\n",
       "<p>8 rows × 21 columns</p>\n",
       "</div>"
      ],
      "text/plain": [
       "             crim          zn       indus        chas         nox          rm  \\\n",
       "count  506.000000  506.000000  506.000000  506.000000  506.000000  506.000000   \n",
       "mean     3.613524   11.363636   11.136779    0.069170    0.554695    6.284634   \n",
       "std      8.601545   23.322453    6.860353    0.253994    0.115878    0.702617   \n",
       "min      0.006320    0.000000    0.460000    0.000000    0.385000    3.561000   \n",
       "25%      0.082045    0.000000    5.190000    0.000000    0.449000    5.885500   \n",
       "50%      0.256510    0.000000    9.690000    0.000000    0.538000    6.208500   \n",
       "75%      3.677083   12.500000   18.100000    0.000000    0.624000    6.623500   \n",
       "max     88.976200  100.000000   27.740000    1.000000    0.871000    8.780000   \n",
       "\n",
       "              age         dis         tax     ptratio  ...        medv  \\\n",
       "count  506.000000  506.000000  506.000000  506.000000  ...  506.000000   \n",
       "mean    68.574901    3.795043  408.237154   18.455534  ...   22.532806   \n",
       "std     28.148861    2.105710  168.537116    2.164946  ...    9.197104   \n",
       "min      2.900000    1.129600  187.000000   12.600000  ...    5.000000   \n",
       "25%     45.025000    2.100175  279.000000   17.400000  ...   17.025000   \n",
       "50%     77.500000    3.207450  330.000000   19.050000  ...   21.200000   \n",
       "75%     94.075000    5.188425  666.000000   20.200000  ...   25.000000   \n",
       "max    100.000000   12.126500  711.000000   22.000000  ...   50.000000   \n",
       "\n",
       "            rad_1       rad_2       rad_3       rad_4       rad_5       rad_6  \\\n",
       "count  506.000000  506.000000  506.000000  506.000000  506.000000  506.000000   \n",
       "mean     0.039526    0.047431    0.075099    0.217391    0.227273    0.051383   \n",
       "std      0.195035    0.212769    0.263812    0.412879    0.419485    0.220997   \n",
       "min      0.000000    0.000000    0.000000    0.000000    0.000000    0.000000   \n",
       "25%      0.000000    0.000000    0.000000    0.000000    0.000000    0.000000   \n",
       "50%      0.000000    0.000000    0.000000    0.000000    0.000000    0.000000   \n",
       "75%      0.000000    0.000000    0.000000    0.000000    0.000000    0.000000   \n",
       "max      1.000000    1.000000    1.000000    1.000000    1.000000    1.000000   \n",
       "\n",
       "            rad_7       rad_8      rad_24  \n",
       "count  506.000000  506.000000  506.000000  \n",
       "mean     0.033597    0.047431    0.260870  \n",
       "std      0.180367    0.212769    0.439543  \n",
       "min      0.000000    0.000000    0.000000  \n",
       "25%      0.000000    0.000000    0.000000  \n",
       "50%      0.000000    0.000000    0.000000  \n",
       "75%      0.000000    0.000000    1.000000  \n",
       "max      1.000000    1.000000    1.000000  \n",
       "\n",
       "[8 rows x 21 columns]"
      ]
     },
     "execution_count": 4,
     "metadata": {},
     "output_type": "execute_result"
    }
   ],
   "source": [
    "df.describe()"
   ]
  },
  {
   "cell_type": "code",
   "execution_count": 5,
   "id": "5779247d",
   "metadata": {},
   "outputs": [
    {
     "data": {
      "text/html": [
       "<div>\n",
       "<style scoped>\n",
       "    .dataframe tbody tr th:only-of-type {\n",
       "        vertical-align: middle;\n",
       "    }\n",
       "\n",
       "    .dataframe tbody tr th {\n",
       "        vertical-align: top;\n",
       "    }\n",
       "\n",
       "    .dataframe thead th {\n",
       "        text-align: right;\n",
       "    }\n",
       "</style>\n",
       "<table border=\"1\" class=\"dataframe\">\n",
       "  <thead>\n",
       "    <tr style=\"text-align: right;\">\n",
       "      <th></th>\n",
       "      <th>crim</th>\n",
       "      <th>zn</th>\n",
       "      <th>indus</th>\n",
       "      <th>chas</th>\n",
       "      <th>nox</th>\n",
       "      <th>rm</th>\n",
       "      <th>age</th>\n",
       "      <th>dis</th>\n",
       "      <th>tax</th>\n",
       "      <th>ptratio</th>\n",
       "      <th>...</th>\n",
       "      <th>medv</th>\n",
       "      <th>rad_1</th>\n",
       "      <th>rad_2</th>\n",
       "      <th>rad_3</th>\n",
       "      <th>rad_4</th>\n",
       "      <th>rad_5</th>\n",
       "      <th>rad_6</th>\n",
       "      <th>rad_7</th>\n",
       "      <th>rad_8</th>\n",
       "      <th>rad_24</th>\n",
       "    </tr>\n",
       "  </thead>\n",
       "  <tbody>\n",
       "    <tr>\n",
       "      <th>0</th>\n",
       "      <td>0.00632</td>\n",
       "      <td>18.0</td>\n",
       "      <td>2.31</td>\n",
       "      <td>0</td>\n",
       "      <td>0.538</td>\n",
       "      <td>6.575</td>\n",
       "      <td>65.2</td>\n",
       "      <td>4.0900</td>\n",
       "      <td>296</td>\n",
       "      <td>15.3</td>\n",
       "      <td>...</td>\n",
       "      <td>24.0</td>\n",
       "      <td>1</td>\n",
       "      <td>0</td>\n",
       "      <td>0</td>\n",
       "      <td>0</td>\n",
       "      <td>0</td>\n",
       "      <td>0</td>\n",
       "      <td>0</td>\n",
       "      <td>0</td>\n",
       "      <td>0</td>\n",
       "    </tr>\n",
       "    <tr>\n",
       "      <th>1</th>\n",
       "      <td>0.02731</td>\n",
       "      <td>0.0</td>\n",
       "      <td>7.07</td>\n",
       "      <td>0</td>\n",
       "      <td>0.469</td>\n",
       "      <td>6.421</td>\n",
       "      <td>78.9</td>\n",
       "      <td>4.9671</td>\n",
       "      <td>242</td>\n",
       "      <td>17.8</td>\n",
       "      <td>...</td>\n",
       "      <td>21.6</td>\n",
       "      <td>0</td>\n",
       "      <td>1</td>\n",
       "      <td>0</td>\n",
       "      <td>0</td>\n",
       "      <td>0</td>\n",
       "      <td>0</td>\n",
       "      <td>0</td>\n",
       "      <td>0</td>\n",
       "      <td>0</td>\n",
       "    </tr>\n",
       "    <tr>\n",
       "      <th>2</th>\n",
       "      <td>0.02729</td>\n",
       "      <td>0.0</td>\n",
       "      <td>7.07</td>\n",
       "      <td>0</td>\n",
       "      <td>0.469</td>\n",
       "      <td>7.185</td>\n",
       "      <td>61.1</td>\n",
       "      <td>4.9671</td>\n",
       "      <td>242</td>\n",
       "      <td>17.8</td>\n",
       "      <td>...</td>\n",
       "      <td>34.7</td>\n",
       "      <td>0</td>\n",
       "      <td>1</td>\n",
       "      <td>0</td>\n",
       "      <td>0</td>\n",
       "      <td>0</td>\n",
       "      <td>0</td>\n",
       "      <td>0</td>\n",
       "      <td>0</td>\n",
       "      <td>0</td>\n",
       "    </tr>\n",
       "    <tr>\n",
       "      <th>3</th>\n",
       "      <td>0.03237</td>\n",
       "      <td>0.0</td>\n",
       "      <td>2.18</td>\n",
       "      <td>0</td>\n",
       "      <td>0.458</td>\n",
       "      <td>6.998</td>\n",
       "      <td>45.8</td>\n",
       "      <td>6.0622</td>\n",
       "      <td>222</td>\n",
       "      <td>18.7</td>\n",
       "      <td>...</td>\n",
       "      <td>33.4</td>\n",
       "      <td>0</td>\n",
       "      <td>0</td>\n",
       "      <td>1</td>\n",
       "      <td>0</td>\n",
       "      <td>0</td>\n",
       "      <td>0</td>\n",
       "      <td>0</td>\n",
       "      <td>0</td>\n",
       "      <td>0</td>\n",
       "    </tr>\n",
       "    <tr>\n",
       "      <th>4</th>\n",
       "      <td>0.06905</td>\n",
       "      <td>0.0</td>\n",
       "      <td>2.18</td>\n",
       "      <td>0</td>\n",
       "      <td>0.458</td>\n",
       "      <td>7.147</td>\n",
       "      <td>54.2</td>\n",
       "      <td>6.0622</td>\n",
       "      <td>222</td>\n",
       "      <td>18.7</td>\n",
       "      <td>...</td>\n",
       "      <td>36.2</td>\n",
       "      <td>0</td>\n",
       "      <td>0</td>\n",
       "      <td>1</td>\n",
       "      <td>0</td>\n",
       "      <td>0</td>\n",
       "      <td>0</td>\n",
       "      <td>0</td>\n",
       "      <td>0</td>\n",
       "      <td>0</td>\n",
       "    </tr>\n",
       "  </tbody>\n",
       "</table>\n",
       "<p>5 rows × 21 columns</p>\n",
       "</div>"
      ],
      "text/plain": [
       "      crim    zn  indus  chas    nox     rm   age     dis  tax  ptratio  ...  \\\n",
       "0  0.00632  18.0   2.31     0  0.538  6.575  65.2  4.0900  296     15.3  ...   \n",
       "1  0.02731   0.0   7.07     0  0.469  6.421  78.9  4.9671  242     17.8  ...   \n",
       "2  0.02729   0.0   7.07     0  0.469  7.185  61.1  4.9671  242     17.8  ...   \n",
       "3  0.03237   0.0   2.18     0  0.458  6.998  45.8  6.0622  222     18.7  ...   \n",
       "4  0.06905   0.0   2.18     0  0.458  7.147  54.2  6.0622  222     18.7  ...   \n",
       "\n",
       "   medv  rad_1  rad_2  rad_3  rad_4  rad_5  rad_6  rad_7  rad_8  rad_24  \n",
       "0  24.0      1      0      0      0      0      0      0      0       0  \n",
       "1  21.6      0      1      0      0      0      0      0      0       0  \n",
       "2  34.7      0      1      0      0      0      0      0      0       0  \n",
       "3  33.4      0      0      1      0      0      0      0      0       0  \n",
       "4  36.2      0      0      1      0      0      0      0      0       0  \n",
       "\n",
       "[5 rows x 21 columns]"
      ]
     },
     "execution_count": 5,
     "metadata": {},
     "output_type": "execute_result"
    }
   ],
   "source": [
    "target = 'medv'\n",
    "y = df[target]\n",
    "X = df.copy()\n",
    "X.head()"
   ]
  },
  {
   "cell_type": "code",
   "execution_count": 6,
   "id": "c012cf0b",
   "metadata": {},
   "outputs": [],
   "source": [
    "numerical_features = ['crim', 'zn', 'indus', 'nox', 'rm', 'age', 'dis', 'tax', 'ptratio', 'lstat']"
   ]
  },
  {
   "cell_type": "markdown",
   "id": "a9306af7",
   "metadata": {},
   "source": [
    "## Modelos sin modificaciones"
   ]
  },
  {
   "cell_type": "markdown",
   "id": "087b2348",
   "metadata": {},
   "source": [
    "### Regresión lineal mútliple:"
   ]
  },
  {
   "cell_type": "code",
   "execution_count": 7,
   "id": "715e3e05",
   "metadata": {},
   "outputs": [],
   "source": [
    "def calibracion(predicciones, y, bins):\n",
    "    df_calibracion = pd.DataFrame({\n",
    "        'predicciones': predicciones,\n",
    "        'y': y\n",
    "    })\n",
    "    \n",
    "    df_calibracion['bins'] = pd.qcut(df_calibracion['predicciones'], q=bins, labels=False) + 1\n",
    "    grouped = df_calibracion.groupby('bins').mean()\n",
    "    \n",
    "    plt.plot(grouped.predicciones, grouped.y, label=\"Modelo\", marker=\"o\", color = \"darkmagenta\")\n",
    "    plt.plot(grouped.predicciones, grouped.predicciones, label=\"Real\", marker=\"o\", color =\"lightseagreen\")\n",
    "    plt.grid()\n",
    "    plt.legend()\n",
    "    plt.xlabel(\"Prediccion\")\n",
    "    plt.ylabel(\"Real\")"
   ]
  },
  {
   "cell_type": "code",
   "execution_count": 8,
   "id": "ed013a6b",
   "metadata": {},
   "outputs": [
    {
     "data": {
      "text/plain": [
       "0.7211432830626592"
      ]
     },
     "execution_count": 8,
     "metadata": {},
     "output_type": "execute_result"
    }
   ],
   "source": [
    "X = X.drop(target, axis = 1)\n",
    "X_train, X_test, y_train, y_test = train_test_split(X, y, test_size=0.3, random_state=42)\n",
    "\n",
    "modelo_lineal = linear_model.LinearRegression().fit(X_train,y_train)\n",
    "predicciones_lineal = modelo_lineal.predict(X_test)\n",
    "\n",
    "r2_score(y_pred = predicciones_lineal, y_true = y_test)"
   ]
  },
  {
   "cell_type": "code",
   "execution_count": 9,
   "id": "85fe6fbf",
   "metadata": {},
   "outputs": [
    {
     "data": {
      "image/png": "[encoded data removed]",
      "text/plain": [
       "<Figure size 640x480 with 1 Axes>"
      ]
     },
     "metadata": {},
     "output_type": "display_data"
    }
   ],
   "source": [
    "calibracion(predicciones_lineal, y_test, bins=10)"
   ]
  },
  {
   "cell_type": "markdown",
   "id": "046151d9",
   "metadata": {},
   "source": [
    "#### ANÁLISIS:\n",
    "\n",
    "Al hacer el modelo de regresión lineal sin ninguna modificación, podemos ver que se obtiene un R2 de 0.7211, lo cual indice un 72.11% de explicación de la variablilidad de los datos. "
   ]
  },
  {
   "cell_type": "markdown",
   "id": "376ee0bd",
   "metadata": {},
   "source": [
    "### Regresión polinomial grado 2:"
   ]
  },
  {
   "cell_type": "code",
   "execution_count": 10,
   "id": "57bca118",
   "metadata": {},
   "outputs": [
    {
     "data": {
      "text/plain": [
       "0.812194024694802"
      ]
     },
     "execution_count": 10,
     "metadata": {},
     "output_type": "execute_result"
    }
   ],
   "source": [
    "degree = 2\n",
    "\n",
    "scaler = StandardScaler().fit(X)\n",
    "X_scaled = scaler.transform(X)\n",
    "\n",
    "poly_features = PolynomialFeatures(degree=degree)\n",
    "X_poly = poly_features.fit_transform(X_scaled)\n",
    "\n",
    "X_train, X_test, y_train, y_test = train_test_split(X_poly, y, test_size=0.3, random_state=42)\n",
    "\n",
    "model = linear_model.Ridge().fit(X_train, y_train)\n",
    " \n",
    "predicciones_poly2 = model.predict(X_test)\n",
    "r2_score(y_pred=predicciones_poly2, y_true=y_test)"
   ]
  },
  {
   "cell_type": "code",
   "execution_count": 11,
   "id": "8ec0e46f",
   "metadata": {},
   "outputs": [
    {
     "data": {
      "image/png": "[encoded data removed]",
      "text/plain": [
       "<Figure size 640x480 with 1 Axes>"
      ]
     },
     "metadata": {},
     "output_type": "display_data"
    }
   ],
   "source": [
    "calibracion(predicciones_poly2, y_test, bins=10)"
   ]
  },
  {
   "cell_type": "markdown",
   "id": "d842fbda",
   "metadata": {},
   "source": [
    "#### ANÁLISIS:\n",
    "\n",
    "Al hacer el modelo de regresión polinomial de grado 2 sin ninguna modificación, podemos ver que se obtiene un R2 de 0.8122, lo cual indice un 81.22% de explicación de la variablilidad de los datos. Este modelo fue mejor que la regresión lineal múltiple. Este modelo se hizo con Ridge"
   ]
  },
  {
   "cell_type": "markdown",
   "id": "192739d9",
   "metadata": {},
   "source": [
    "### Regresión polinomial grado 3:"
   ]
  },
  {
   "cell_type": "code",
   "execution_count": 12,
   "id": "5f56be31",
   "metadata": {},
   "outputs": [
    {
     "data": {
      "text/plain": [
       "0.728675493313274"
      ]
     },
     "execution_count": 12,
     "metadata": {},
     "output_type": "execute_result"
    }
   ],
   "source": [
    "degree = 3\n",
    "\n",
    "scaler = StandardScaler().fit(X)\n",
    "X_scaled = scaler.transform(X)\n",
    "\n",
    "poly_features = PolynomialFeatures(degree=degree)\n",
    "X_poly = poly_features.fit_transform(X_scaled)\n",
    "\n",
    "X_train, X_test, y_train, y_test = train_test_split(X_poly, y, test_size=0.3, random_state=42)\n",
    "\n",
    "model = linear_model.Lasso().fit(X_train, y_train)\n",
    " \n",
    "predicciones_poly3 = model.predict(X_test)\n",
    "r2_score(y_pred=predicciones_poly3, y_true=y_test)"
   ]
  },
  {
   "cell_type": "code",
   "execution_count": 13,
   "id": "6f87e3a2",
   "metadata": {},
   "outputs": [
    {
     "data": {
      "image/png": "[encoded data removed]",
      "text/plain": [
       "<Figure size 640x480 with 1 Axes>"
      ]
     },
     "metadata": {},
     "output_type": "display_data"
    }
   ],
   "source": [
    "calibracion(predicciones_poly3, y_test, bins=10)"
   ]
  },
  {
   "cell_type": "markdown",
   "id": "d1e581ff",
   "metadata": {},
   "source": [
    "#### ANÁLISIS:\n",
    "\n",
    "Al hacer el modelo de regresión polinomial grado 3 sin ninguna modificación, podemos ver que se obtiene un R2 de 0.7286, lo cual indice un 72.86% de explicación de la variablilidad de los datos. Aunque este modelo obtuvo un R2 mayor que el modelo de regresión lineal múltiple, no logró alcanzar el R2 que se obtuvo con la regresión polinomial de grado 2. Este modelo se hizo con Lasso."
   ]
  },
  {
   "cell_type": "markdown",
   "id": "43cbd774",
   "metadata": {},
   "source": [
    "### Regresión polinomial grado 4"
   ]
  },
  {
   "cell_type": "code",
   "execution_count": 14,
   "id": "7fd218c0",
   "metadata": {},
   "outputs": [
    {
     "name": "stderr",
     "output_type": "stream",
     "text": [
      "C:\\Users\\arant\\anaconda3\\Lib\\site-packages\\sklearn\\linear_model\\_coordinate_descent.py:628: ConvergenceWarning: Objective did not converge. You might want to increase the number of iterations, check the scale of the features or consider increasing regularisation. Duality gap: 6.106e+02, tolerance: 3.112e+00\n",
      "  model = cd_fast.enet_coordinate_descent(\n"
     ]
    },
    {
     "data": {
      "text/plain": [
       "0.7734863443437723"
      ]
     },
     "execution_count": 14,
     "metadata": {},
     "output_type": "execute_result"
    }
   ],
   "source": [
    "degree = 4\n",
    "\n",
    "scaler = StandardScaler().fit(X)\n",
    "X_scaled = scaler.transform(X)\n",
    "\n",
    "poly_features = PolynomialFeatures(degree=degree)\n",
    "X_poly = poly_features.fit_transform(X_scaled)\n",
    "\n",
    "X_train, X_test, y_train, y_test = train_test_split(X_poly, y, test_size=0.3, random_state=42)\n",
    "\n",
    "model = linear_model.Lasso().fit(X_train, y_train)\n",
    " \n",
    "predicciones_poly4 = model.predict(X_test)\n",
    "r2_score(y_pred=predicciones_poly4, y_true=y_test)"
   ]
  },
  {
   "cell_type": "code",
   "execution_count": 15,
   "id": "2cdeb7c3",
   "metadata": {},
   "outputs": [
    {
     "data": {
      "image/png": "[encoded data removed]",
      "text/plain": [
       "<Figure size 640x480 with 1 Axes>"
      ]
     },
     "metadata": {},
     "output_type": "display_data"
    }
   ],
   "source": [
    "calibracion(predicciones_poly4, y_test, bins=10)"
   ]
  },
  {
   "cell_type": "markdown",
   "id": "dc664f85",
   "metadata": {},
   "source": [
    "#### ANÁLISIS:\n",
    "\n",
    "Al hacer el modelo de regresión polinomial grado 4 sin ninguna modificación, podemos ver que se obtiene un R2 de 0.7734, lo cual indice un 77.34% de explicación de la variablilidad de los datos. Aunque este modelo obtuvo un R2 mayor que el modelo de regresión lineal múltiple y que la regresión polinomial grado 3, no logró alcanzar el R2 que se obtuvo con la regresión polinomial de grado 2. Es por esto que hasta el momento el modelo que se ajusta de mejor manera a los datos reales es el de regresión polinomial de grado 2. Este modelo se hizo con Lasso."
   ]
  },
  {
   "cell_type": "markdown",
   "id": "95f76a1b",
   "metadata": {},
   "source": [
    "### Modelo KNN"
   ]
  },
  {
   "cell_type": "code",
   "execution_count": 16,
   "id": "03b198fa",
   "metadata": {},
   "outputs": [],
   "source": [
    "X_train, X_test, y_train, y_test = train_test_split(X, y, test_size=0.3, random_state=42)\n",
    "\n",
    "scaler = StandardScaler()\n",
    "X_train_scaled = scaler.fit_transform(X_train)\n",
    "X_test_scaled = scaler.transform(X_test)\n",
    "\n",
    "nn = []\n",
    "r2 = []\n",
    "r2_train = []\n",
    "for i in range(1, 60):\n",
    "    nn.append(i)\n",
    "    model = KNeighborsRegressor(n_neighbors=i).fit(X_train_scaled, y_train)\n",
    "    predicciones = model.predict(X_test_scaled)\n",
    "    r2.append(r2_score(y_pred=predicciones, y_true=y_test))\n",
    "    predicciones_train = model.predict(X_train_scaled)\n",
    "    r2_train.append(r2_score(y_pred = predicciones_train, y_true = y_train))"
   ]
  },
  {
   "cell_type": "code",
   "execution_count": 17,
   "id": "d6825b9a",
   "metadata": {},
   "outputs": [
    {
     "data": {
      "text/plain": [
       "<matplotlib.legend.Legend at 0x1b1b71b1e90>"
      ]
     },
     "execution_count": 17,
     "metadata": {},
     "output_type": "execute_result"
    },
    {
     "data": {
      "image/png": "[encoded data removed]",
      "text/plain": [
       "<Figure size 640x480 with 1 Axes>"
      ]
     },
     "metadata": {},
     "output_type": "display_data"
    }
   ],
   "source": [
    "resultados = pd.DataFrame({\n",
    "    'nn': nn,\n",
    "    'r2': r2,\n",
    "    'r2_train': r2_train\n",
    "})\n",
    "\n",
    "plt.plot(resultados.nn, resultados.r2, marker = \"o\", label = \"real\", color = \"darkmagenta\")\n",
    "plt.plot(resultados.nn, resultados.r2_train, marker = \"o\", label = \"entrenamiento\", color = \"lightseagreen\")\n",
    "plt.legend()"
   ]
  },
  {
   "cell_type": "code",
   "execution_count": 18,
   "id": "a5e4ae4a",
   "metadata": {},
   "outputs": [
    {
     "name": "stdout",
     "output_type": "stream",
     "text": [
      "El valor de nn con el mayor r2 es: 2.0\n",
      "El valor máximo de r2 es: 0.7272181189961682\n"
     ]
    }
   ],
   "source": [
    "óptimo = resultados.loc[resultados['r2'].idxmax()]\n",
    "\n",
    "print(\"El valor de nn con el mayor r2 es:\", óptimo['nn'])\n",
    "print(\"El valor máximo de r2 es:\", óptimo['r2'])"
   ]
  },
  {
   "cell_type": "code",
   "execution_count": 19,
   "id": "8f0f630e",
   "metadata": {},
   "outputs": [
    {
     "data": {
      "image/png": "[encoded data removed]",
      "text/plain": [
       "<Figure size 640x480 with 1 Axes>"
      ]
     },
     "metadata": {},
     "output_type": "display_data"
    }
   ],
   "source": [
    "calibracion(predicciones, y_test, bins = 10)"
   ]
  },
  {
   "cell_type": "markdown",
   "id": "5cee4320",
   "metadata": {},
   "source": [
    "#### ANÁLISIS:\n",
    "\n",
    "Al hacer el modelo de KNN sin ninguna modificación, nomas tomando en cuenta los nn óptimos, podemos ver que se obtiene un R2 de 0.7272, lo cual indice un 72.72% de explicación de la variablilidad de los datos. Este modelo tampoco logra superar el R2 de la regresión polinomial de grado 2"
   ]
  },
  {
   "cell_type": "markdown",
   "id": "88d7794c",
   "metadata": {},
   "source": [
    "### Categorizar variables numéricas"
   ]
  },
  {
   "cell_type": "code",
   "execution_count": 20,
   "id": "f001a208",
   "metadata": {},
   "outputs": [
    {
     "data": {
      "text/plain": [
       "0.7277417026504243"
      ]
     },
     "execution_count": 20,
     "metadata": {},
     "output_type": "execute_result"
    }
   ],
   "source": [
    "numerical_features=['crim', 'zn', 'indus', 'nox','rm', 'age', 'dis', 'tax','ptratio', 'lstat']\n",
    "X_train, X_test, y_train, y_test = train_test_split(X, y, test_size = 0.3, random_state=42)\n",
    "\n",
    "def create_bins(X, numeric_vars, bins):\n",
    "    for var in numeric_vars:\n",
    "        X[f'{var} _bin']= pd.qcut(X[var], q=bins, labels=False, duplicates='drop')\n",
    "    return X\n",
    "\n",
    "X_train=create_bins(X_train, numerical_features, 3)\n",
    "X_test=create_bins(X_test, numerical_features, 3)\n",
    "\n",
    "bin_features = [i for i in X_train.keys() if 'bin' in i]\n",
    "not_features = [i for i in X_train.keys() if 'bin' not in i]\n",
    "\n",
    "final_features= bin_features + not_features\n",
    "\n",
    "X_train = pd.get_dummies(X_train[final_features], columns = bin_features, drop_first=True)\n",
    "X_test = pd.get_dummies(X_test[final_features], columns = bin_features, drop_first=True)\n",
    "\n",
    "model_bin=linear_model.Ridge()\n",
    "model_bin.fit(X_train, y_train)\n",
    "predicciones_bin = model_bin.predict(X_test)\n",
    "r2_score(y_pred=predicciones_bin, y_true=y_test)"
   ]
  },
  {
   "cell_type": "markdown",
   "id": "440077db",
   "metadata": {},
   "source": [
    "#### ANÁLISIS:\n",
    "\n",
    "Categorizando las variables numéricas y utilizando Ridge, se obtiene un R2 de 72.77%. Este modelo sigue sin ser el mejor."
   ]
  },
  {
   "cell_type": "code",
   "execution_count": 21,
   "id": "9eff8fe9",
   "metadata": {},
   "outputs": [
    {
     "data": {
      "text/plain": [
       "0.6394005031261463"
      ]
     },
     "execution_count": 21,
     "metadata": {},
     "output_type": "execute_result"
    }
   ],
   "source": [
    "numerical_features=['crim', 'zn', 'indus', 'nox','rm', 'age', 'dis', 'tax','ptratio', 'lstat']\n",
    "X_train, X_test, y_train, y_test = train_test_split(X, y, test_size = 0.3, random_state=42)\n",
    "\n",
    "def create_bins(X, numeric_vars, bins):\n",
    "    for var in numeric_vars:\n",
    "        X[f'{var} _bin']= pd.qcut(X[var], q=bins, labels=False, duplicates='drop')\n",
    "    return X\n",
    "\n",
    "X_train=create_bins(X_train, numerical_features, 3)\n",
    "X_test=create_bins(X_test, numerical_features, 3)\n",
    "\n",
    "bin_features = [i for i in X_train.keys() if 'bin' in i]\n",
    "not_features = [i for i in X_train.keys() if 'bin' not in i]\n",
    "\n",
    "final_features= bin_features + not_features\n",
    "\n",
    "X_train = pd.get_dummies(X_train[final_features], columns = bin_features, drop_first=True)\n",
    "X_test = pd.get_dummies(X_test[final_features], columns = bin_features, drop_first=True)\n",
    "\n",
    "model_bin=linear_model.Lasso()\n",
    "model_bin.fit(X_train, y_train)\n",
    "predicciones_bin = model_bin.predict(X_test)\n",
    "r2_score(y_pred=predicciones_bin, y_true=y_test)"
   ]
  },
  {
   "cell_type": "markdown",
   "id": "e7649315",
   "metadata": {},
   "source": [
    "#### ANÁLISIS:\n",
    "\n",
    "Haciendo una categorazión de variables numéricas y utilizando Lasso se obtiene un valor de R2 de 63.94%. Esto significa que este modelo no es para nada preciso a comparación de varios de los anteriores."
   ]
  },
  {
   "cell_type": "markdown",
   "id": "2247457f",
   "metadata": {},
   "source": [
    "## Análisis de significancia de variables"
   ]
  },
  {
   "cell_type": "code",
   "execution_count": 22,
   "id": "db4904ba",
   "metadata": {},
   "outputs": [],
   "source": [
    "df_nuevo = df.copy()\n",
    "df_nuevo = df_nuevo.columns.drop(['medv', 'indus', 'age', 'rad_1', 'rad_6', 'rad_2'])"
   ]
  },
  {
   "cell_type": "code",
   "execution_count": 23,
   "id": "c28c950a",
   "metadata": {},
   "outputs": [
    {
     "data": {
      "text/html": [
       "<table class=\"simpletable\">\n",
       "<tr>\n",
       "      <td></td>         <th>coef</th>     <th>std err</th>      <th>t</th>      <th>P>|t|</th>  <th>[0.025</th>    <th>0.975]</th>  \n",
       "</tr>\n",
       "<tr>\n",
       "  <th>Intercept</th> <td>   41.7323</td> <td>    5.082</td> <td>    8.212</td> <td> 0.000</td> <td>   31.747</td> <td>   51.718</td>\n",
       "</tr>\n",
       "<tr>\n",
       "  <th>crim</th>      <td>   -0.1233</td> <td>    0.033</td> <td>   -3.769</td> <td> 0.000</td> <td>   -0.188</td> <td>   -0.059</td>\n",
       "</tr>\n",
       "<tr>\n",
       "  <th>zn</th>        <td>    0.0533</td> <td>    0.014</td> <td>    3.816</td> <td> 0.000</td> <td>    0.026</td> <td>    0.081</td>\n",
       "</tr>\n",
       "<tr>\n",
       "  <th>chas</th>      <td>    2.6619</td> <td>    0.863</td> <td>    3.085</td> <td> 0.002</td> <td>    0.967</td> <td>    4.357</td>\n",
       "</tr>\n",
       "<tr>\n",
       "  <th>nox</th>       <td>  -18.3170</td> <td>    3.617</td> <td>   -5.064</td> <td> 0.000</td> <td>  -25.424</td> <td>  -11.210</td>\n",
       "</tr>\n",
       "<tr>\n",
       "  <th>rm</th>        <td>    3.5311</td> <td>    0.412</td> <td>    8.565</td> <td> 0.000</td> <td>    2.721</td> <td>    4.341</td>\n",
       "</tr>\n",
       "<tr>\n",
       "  <th>dis</th>       <td>   -1.6216</td> <td>    0.189</td> <td>   -8.561</td> <td> 0.000</td> <td>   -1.994</td> <td>   -1.249</td>\n",
       "</tr>\n",
       "<tr>\n",
       "  <th>tax</th>       <td>   -0.0087</td> <td>    0.003</td> <td>   -2.534</td> <td> 0.012</td> <td>   -0.015</td> <td>   -0.002</td>\n",
       "</tr>\n",
       "<tr>\n",
       "  <th>ptratio</th>   <td>   -0.9678</td> <td>    0.144</td> <td>   -6.709</td> <td> 0.000</td> <td>   -1.251</td> <td>   -0.684</td>\n",
       "</tr>\n",
       "<tr>\n",
       "  <th>lstat</th>     <td>   -0.5488</td> <td>    0.047</td> <td>  -11.618</td> <td> 0.000</td> <td>   -0.642</td> <td>   -0.456</td>\n",
       "</tr>\n",
       "<tr>\n",
       "  <th>rad_3</th>     <td>    3.6712</td> <td>    0.988</td> <td>    3.716</td> <td> 0.000</td> <td>    1.730</td> <td>    5.613</td>\n",
       "</tr>\n",
       "<tr>\n",
       "  <th>rad_4</th>     <td>    1.6252</td> <td>    0.758</td> <td>    2.143</td> <td> 0.033</td> <td>    0.135</td> <td>    3.115</td>\n",
       "</tr>\n",
       "<tr>\n",
       "  <th>rad_5</th>     <td>    1.8333</td> <td>    0.768</td> <td>    2.386</td> <td> 0.017</td> <td>    0.324</td> <td>    3.343</td>\n",
       "</tr>\n",
       "<tr>\n",
       "  <th>rad_7</th>     <td>    3.9458</td> <td>    1.317</td> <td>    2.995</td> <td> 0.003</td> <td>    1.358</td> <td>    6.534</td>\n",
       "</tr>\n",
       "<tr>\n",
       "  <th>rad_8</th>     <td>    3.7931</td> <td>    1.173</td> <td>    3.233</td> <td> 0.001</td> <td>    1.488</td> <td>    6.098</td>\n",
       "</tr>\n",
       "<tr>\n",
       "  <th>rad_24</th>    <td>    6.0159</td> <td>    1.434</td> <td>    4.195</td> <td> 0.000</td> <td>    3.198</td> <td>    8.834</td>\n",
       "</tr>\n",
       "</table>"
      ],
      "text/latex": [
       "\\begin{center}\n",
       "\\begin{tabular}{lcccccc}\n",
       "\\toprule\n",
       "                   & \\textbf{coef} & \\textbf{std err} & \\textbf{t} & \\textbf{P$> |$t$|$} & \\textbf{[0.025} & \\textbf{0.975]}  \\\\\n",
       "\\midrule\n",
       "\\textbf{Intercept} &      41.7323  &        5.082     &     8.212  &         0.000        &       31.747    &       51.718     \\\\\n",
       "\\textbf{crim}      &      -0.1233  &        0.033     &    -3.769  &         0.000        &       -0.188    &       -0.059     \\\\\n",
       "\\textbf{zn}        &       0.0533  &        0.014     &     3.816  &         0.000        &        0.026    &        0.081     \\\\\n",
       "\\textbf{chas}      &       2.6619  &        0.863     &     3.085  &         0.002        &        0.967    &        4.357     \\\\\n",
       "\\textbf{nox}       &     -18.3170  &        3.617     &    -5.064  &         0.000        &      -25.424    &      -11.210     \\\\\n",
       "\\textbf{rm}        &       3.5311  &        0.412     &     8.565  &         0.000        &        2.721    &        4.341     \\\\\n",
       "\\textbf{dis}       &      -1.6216  &        0.189     &    -8.561  &         0.000        &       -1.994    &       -1.249     \\\\\n",
       "\\textbf{tax}       &      -0.0087  &        0.003     &    -2.534  &         0.012        &       -0.015    &       -0.002     \\\\\n",
       "\\textbf{ptratio}   &      -0.9678  &        0.144     &    -6.709  &         0.000        &       -1.251    &       -0.684     \\\\\n",
       "\\textbf{lstat}     &      -0.5488  &        0.047     &   -11.618  &         0.000        &       -0.642    &       -0.456     \\\\\n",
       "\\textbf{rad\\_3}    &       3.6712  &        0.988     &     3.716  &         0.000        &        1.730    &        5.613     \\\\\n",
       "\\textbf{rad\\_4}    &       1.6252  &        0.758     &     2.143  &         0.033        &        0.135    &        3.115     \\\\\n",
       "\\textbf{rad\\_5}    &       1.8333  &        0.768     &     2.386  &         0.017        &        0.324    &        3.343     \\\\\n",
       "\\textbf{rad\\_7}    &       3.9458  &        1.317     &     2.995  &         0.003        &        1.358    &        6.534     \\\\\n",
       "\\textbf{rad\\_8}    &       3.7931  &        1.173     &     3.233  &         0.001        &        1.488    &        6.098     \\\\\n",
       "\\textbf{rad\\_24}   &       6.0159  &        1.434     &     4.195  &         0.000        &        3.198    &        8.834     \\\\\n",
       "\\bottomrule\n",
       "\\end{tabular}\n",
       "\\end{center}"
      ],
      "text/plain": [
       "<class 'statsmodels.iolib.table.SimpleTable'>"
      ]
     },
     "execution_count": 23,
     "metadata": {},
     "output_type": "execute_result"
    }
   ],
   "source": [
    "significancia = smf.ols('medv ~' + ' + '.join(df_nuevo), data = df).fit()\n",
    "significancia.summary().tables[1]"
   ]
  },
  {
   "cell_type": "code",
   "execution_count": 24,
   "id": "c309345e",
   "metadata": {},
   "outputs": [],
   "source": [
    "X_nuevo = df[['crim', 'zn', 'chas', 'nox', 'rm', 'dis', 'tax', 'ptratio', 'lstat', 'rad_3', 'rad_4', 'rad_5', 'rad_7', 'rad_8', 'rad_24']]"
   ]
  },
  {
   "cell_type": "markdown",
   "id": "b1cd1f4f",
   "metadata": {},
   "source": [
    "#### ANÁLISIS:\n",
    "\n",
    "Al aplicar la regresión de OLS, podemos ver que existen variables con un P-value elevado, indicando que no son significantes para el modelo. Es debido a esto que se eliminan estas variables del modelo. Las variables eliminadas fueron las siguientes:\n",
    "\n",
    "- **indus**\n",
    "- **age**\n",
    "- **rad_1**\n",
    "- **rad_6**\n",
    "- **rad_2**"
   ]
  },
  {
   "cell_type": "markdown",
   "id": "84ac8627",
   "metadata": {},
   "source": [
    "## Modelos solamente con variables importantes"
   ]
  },
  {
   "cell_type": "markdown",
   "id": "84f5875b",
   "metadata": {},
   "source": [
    "### Regresión Lineal Múltiple:"
   ]
  },
  {
   "cell_type": "code",
   "execution_count": 25,
   "id": "48559b51",
   "metadata": {},
   "outputs": [
    {
     "data": {
      "text/plain": [
       "0.7427065782284685"
      ]
     },
     "execution_count": 25,
     "metadata": {},
     "output_type": "execute_result"
    }
   ],
   "source": [
    "modelo_lineal = linear_model.LinearRegression().fit(X_nuevo, y)\n",
    "predicciones_lineal = modelo_lineal.predict(X_nuevo)\n",
    "\n",
    "r2_score(y_pred = predicciones_lineal, y_true = y)"
   ]
  },
  {
   "cell_type": "markdown",
   "id": "be906633",
   "metadata": {},
   "source": [
    "#### ANÁLISIS:\n",
    "\n",
    "Al hacer el modelo de regresión lineal múltiple solamente con las variables que son significantes podemos ver que se obtiene un R2 de 74.27%. Este R2 aumento ya que el modelo con todas las variables solamente obtuvo un R2 de 72.11%. Aunque hubo un aumento, el mejor modelo sigue siendo el de regresión polinomial grado 2 con todas las variables."
   ]
  },
  {
   "cell_type": "markdown",
   "id": "dbbdd8f4",
   "metadata": {},
   "source": [
    "### Regresiones polinomiales:"
   ]
  },
  {
   "cell_type": "code",
   "execution_count": 26,
   "id": "9cc81f7c",
   "metadata": {},
   "outputs": [
    {
     "data": {
      "text/plain": [
       "0.8107558114121785"
      ]
     },
     "execution_count": 26,
     "metadata": {},
     "output_type": "execute_result"
    }
   ],
   "source": [
    "degree = 2\n",
    "\n",
    "scaler = StandardScaler().fit(X_nuevo)\n",
    "X_scaled = scaler.transform(X_nuevo)\n",
    "\n",
    "poly_features = PolynomialFeatures(degree=degree)\n",
    "X_poly = poly_features.fit_transform(X_scaled)\n",
    "\n",
    "X_train, X_test, y_train, y_test = train_test_split(X_poly, y, test_size=0.3, random_state=42)\n",
    "\n",
    "model = linear_model.Ridge().fit(X_train, y_train)\n",
    " \n",
    "predicciones_poly2_nuevo = model.predict(X_test)\n",
    "r2_score(y_pred=predicciones_poly2_nuevo, y_true=y_test)"
   ]
  },
  {
   "cell_type": "code",
   "execution_count": 27,
   "id": "ec8abd1d",
   "metadata": {},
   "outputs": [
    {
     "data": {
      "text/plain": [
       "0.7688308046927306"
      ]
     },
     "execution_count": 27,
     "metadata": {},
     "output_type": "execute_result"
    }
   ],
   "source": [
    "degree = 3\n",
    "\n",
    "scaler = StandardScaler().fit(X_nuevo)\n",
    "X_scaled = scaler.transform(X_nuevo)\n",
    "\n",
    "poly_features = PolynomialFeatures(degree=degree)\n",
    "X_poly = poly_features.fit_transform(X_scaled)\n",
    "\n",
    "X_train, X_test, y_train, y_test = train_test_split(X_poly, y, test_size=0.3, random_state=42)\n",
    "\n",
    "model = linear_model.Lasso().fit(X_train, y_train)\n",
    " \n",
    "predicciones_poly3_nuevo = model.predict(X_test)\n",
    "r2_score(y_pred=predicciones_poly3_nuevo, y_true=y_test)"
   ]
  },
  {
   "cell_type": "code",
   "execution_count": 28,
   "id": "85e1d5c7",
   "metadata": {},
   "outputs": [
    {
     "name": "stderr",
     "output_type": "stream",
     "text": [
      "C:\\Users\\arant\\anaconda3\\Lib\\site-packages\\sklearn\\linear_model\\_coordinate_descent.py:628: ConvergenceWarning: Objective did not converge. You might want to increase the number of iterations, check the scale of the features or consider increasing regularisation. Duality gap: 7.967e+02, tolerance: 3.112e+00\n",
      "  model = cd_fast.enet_coordinate_descent(\n"
     ]
    },
    {
     "data": {
      "text/plain": [
       "0.6919505786364635"
      ]
     },
     "execution_count": 28,
     "metadata": {},
     "output_type": "execute_result"
    }
   ],
   "source": [
    "degree = 4\n",
    "\n",
    "scaler = StandardScaler().fit(X_nuevo)\n",
    "X_scaled = scaler.transform(X_nuevo)\n",
    "\n",
    "poly_features = PolynomialFeatures(degree=degree)\n",
    "X_poly = poly_features.fit_transform(X_scaled)\n",
    "\n",
    "X_train, X_test, y_train, y_test = train_test_split(X_poly, y, test_size=0.3, random_state=42)\n",
    "\n",
    "model = linear_model.Lasso().fit(X_train, y_train)\n",
    " \n",
    "predicciones_poly4_nuevo = model.predict(X_test)\n",
    "r2_score(y_pred=predicciones_poly4_nuevo, y_true=y_test)"
   ]
  },
  {
   "cell_type": "markdown",
   "id": "3a904d28",
   "metadata": {},
   "source": [
    "#### ANÁLISIS:\n",
    "\n",
    "Con lo anterior podemos analizar que las tres regresiones polinomiales hechas solamente con las variables importantes obtuvieron los siguientes resultados de R2:\n",
    "\n",
    "- Grado 2: 81.08%\n",
    "- Grado 3: 76.88%\n",
    "- Grado 4: 69.19%\n",
    "\n",
    "Es importante mencionar que el modelo de regresión polinomial de grado 2 sin ninguna modificación sigue siendo el modelo con mayor R2."
   ]
  },
  {
   "cell_type": "markdown",
   "id": "19846ac3",
   "metadata": {},
   "source": [
    "### Modelo KNN"
   ]
  },
  {
   "cell_type": "code",
   "execution_count": 29,
   "id": "c73fe601",
   "metadata": {},
   "outputs": [
    {
     "name": "stdout",
     "output_type": "stream",
     "text": [
      "El valor de nn con el mayor r2 es: 1.0\n",
      "El valor máximo de r2 es: 0.7126414689789883\n"
     ]
    }
   ],
   "source": [
    "X_train, X_test, y_train, y_test = train_test_split(X_nuevo, y, test_size=0.3, random_state=42)\n",
    "\n",
    "scaler = StandardScaler()\n",
    "X_train_scaled = scaler.fit_transform(X_train)\n",
    "X_test_scaled = scaler.transform(X_test)\n",
    "\n",
    "model = KNeighborsRegressor(n_neighbors = 10).fit(X_train_scaled, y_train)\n",
    "predicciones = model.predict(X_test_scaled)\n",
    "r2_score(y_pred=predicciones, y_true=y_test)\n",
    "\n",
    "nn = []\n",
    "r2 = []\n",
    "r2_train = []\n",
    "for i in range(1, 60):\n",
    "    nn.append(i)\n",
    "    model = KNeighborsRegressor(n_neighbors=i).fit(X_train_scaled, y_train)\n",
    "    predicciones = model.predict(X_test_scaled)\n",
    "    r2.append(r2_score(y_pred=predicciones, y_true=y_test))\n",
    "    predicciones_train = model.predict(X_train_scaled)\n",
    "    r2_train.append(r2_score(y_pred = predicciones_train, y_true = y_train))\n",
    "    \n",
    "resultados = pd.DataFrame({\n",
    "    'nn': nn,\n",
    "    'r2': r2,\n",
    "    'r2_train': r2_train\n",
    "})\n",
    "\n",
    "óptimo = resultados.loc[resultados['r2'].idxmax()]\n",
    "\n",
    "print(\"El valor de nn con el mayor r2 es:\", óptimo['nn'])\n",
    "print(\"El valor máximo de r2 es:\", óptimo['r2'])"
   ]
  },
  {
   "cell_type": "markdown",
   "id": "55585dad",
   "metadata": {},
   "source": [
    "#### ANÁLISIS:\n",
    "\n",
    "El modelo de KNN se vió afectado negativamente ya que disminuyó su R2. "
   ]
  },
  {
   "cell_type": "markdown",
   "id": "8cd0f6c0",
   "metadata": {},
   "source": [
    "## Feature engineering"
   ]
  },
  {
   "cell_type": "markdown",
   "id": "cef150f8",
   "metadata": {},
   "source": [
    "### Análisis bivariado:"
   ]
  },
  {
   "cell_type": "code",
   "execution_count": 30,
   "id": "a9daaf85",
   "metadata": {
    "scrolled": true
   },
   "outputs": [
    {
     "name": "stderr",
     "output_type": "stream",
     "text": [
      "C:\\Users\\arant\\AppData\\Local\\Temp\\ipykernel_20768\\2039884139.py:4: SettingWithCopyWarning: \n",
      "A value is trying to be set on a copy of a slice from a DataFrame.\n",
      "Try using .loc[row_indexer,col_indexer] = value instead\n",
      "\n",
      "See the caveats in the documentation: https://pandas.pydata.org/pandas-docs/stable/user_guide/indexing.html#returning-a-view-versus-a-copy\n",
      "  flag_df['bins'] = pd.qcut(flag_df[i], q=10, labels=False, duplicates = \"drop\") + 1\n"
     ]
    },
    {
     "data": {
      "image/png": "[encoded data removed]",
      "text/plain": [
       "<Figure size 640x480 with 1 Axes>"
      ]
     },
     "metadata": {},
     "output_type": "display_data"
    },
    {
     "name": "stderr",
     "output_type": "stream",
     "text": [
      "C:\\Users\\arant\\AppData\\Local\\Temp\\ipykernel_20768\\2039884139.py:4: SettingWithCopyWarning: \n",
      "A value is trying to be set on a copy of a slice from a DataFrame.\n",
      "Try using .loc[row_indexer,col_indexer] = value instead\n",
      "\n",
      "See the caveats in the documentation: https://pandas.pydata.org/pandas-docs/stable/user_guide/indexing.html#returning-a-view-versus-a-copy\n",
      "  flag_df['bins'] = pd.qcut(flag_df[i], q=10, labels=False, duplicates = \"drop\") + 1\n"
     ]
    },
    {
     "data": {
      "image/png": "[encoded data removed]",
      "text/plain": [
       "<Figure size 640x480 with 1 Axes>"
      ]
     },
     "metadata": {},
     "output_type": "display_data"
    },
    {
     "name": "stderr",
     "output_type": "stream",
     "text": [
      "C:\\Users\\arant\\AppData\\Local\\Temp\\ipykernel_20768\\2039884139.py:4: SettingWithCopyWarning: \n",
      "A value is trying to be set on a copy of a slice from a DataFrame.\n",
      "Try using .loc[row_indexer,col_indexer] = value instead\n",
      "\n",
      "See the caveats in the documentation: https://pandas.pydata.org/pandas-docs/stable/user_guide/indexing.html#returning-a-view-versus-a-copy\n",
      "  flag_df['bins'] = pd.qcut(flag_df[i], q=10, labels=False, duplicates = \"drop\") + 1\n"
     ]
    },
    {
     "data": {
      "image/png": "[encoded data removed]",
      "text/plain": [
       "<Figure size 640x480 with 1 Axes>"
      ]
     },
     "metadata": {},
     "output_type": "display_data"
    },
    {
     "name": "stderr",
     "output_type": "stream",
     "text": [
      "C:\\Users\\arant\\AppData\\Local\\Temp\\ipykernel_20768\\2039884139.py:4: SettingWithCopyWarning: \n",
      "A value is trying to be set on a copy of a slice from a DataFrame.\n",
      "Try using .loc[row_indexer,col_indexer] = value instead\n",
      "\n",
      "See the caveats in the documentation: https://pandas.pydata.org/pandas-docs/stable/user_guide/indexing.html#returning-a-view-versus-a-copy\n",
      "  flag_df['bins'] = pd.qcut(flag_df[i], q=10, labels=False, duplicates = \"drop\") + 1\n"
     ]
    },
    {
     "data": {
      "image/png": "[encoded data removed]",
      "text/plain": [
       "<Figure size 640x480 with 1 Axes>"
      ]
     },
     "metadata": {},
     "output_type": "display_data"
    },
    {
     "name": "stderr",
     "output_type": "stream",
     "text": [
      "C:\\Users\\arant\\AppData\\Local\\Temp\\ipykernel_20768\\2039884139.py:4: SettingWithCopyWarning: \n",
      "A value is trying to be set on a copy of a slice from a DataFrame.\n",
      "Try using .loc[row_indexer,col_indexer] = value instead\n",
      "\n",
      "See the caveats in the documentation: https://pandas.pydata.org/pandas-docs/stable/user_guide/indexing.html#returning-a-view-versus-a-copy\n",
      "  flag_df['bins'] = pd.qcut(flag_df[i], q=10, labels=False, duplicates = \"drop\") + 1\n"
     ]
    },
    {
     "data": {
      "image/png": "[encoded data removed]",
      "text/plain": [
       "<Figure size 640x480 with 1 Axes>"
      ]
     },
     "metadata": {},
     "output_type": "display_data"
    },
    {
     "name": "stderr",
     "output_type": "stream",
     "text": [
      "C:\\Users\\arant\\AppData\\Local\\Temp\\ipykernel_20768\\2039884139.py:4: SettingWithCopyWarning: \n",
      "A value is trying to be set on a copy of a slice from a DataFrame.\n",
      "Try using .loc[row_indexer,col_indexer] = value instead\n",
      "\n",
      "See the caveats in the documentation: https://pandas.pydata.org/pandas-docs/stable/user_guide/indexing.html#returning-a-view-versus-a-copy\n",
      "  flag_df['bins'] = pd.qcut(flag_df[i], q=10, labels=False, duplicates = \"drop\") + 1\n"
     ]
    },
    {
     "data": {
      "image/png": "[encoded data removed]",
      "text/plain": [
       "<Figure size 640x480 with 1 Axes>"
      ]
     },
     "metadata": {},
     "output_type": "display_data"
    },
    {
     "name": "stderr",
     "output_type": "stream",
     "text": [
      "C:\\Users\\arant\\AppData\\Local\\Temp\\ipykernel_20768\\2039884139.py:4: SettingWithCopyWarning: \n",
      "A value is trying to be set on a copy of a slice from a DataFrame.\n",
      "Try using .loc[row_indexer,col_indexer] = value instead\n",
      "\n",
      "See the caveats in the documentation: https://pandas.pydata.org/pandas-docs/stable/user_guide/indexing.html#returning-a-view-versus-a-copy\n",
      "  flag_df['bins'] = pd.qcut(flag_df[i], q=10, labels=False, duplicates = \"drop\") + 1\n"
     ]
    },
    {
     "data": {
      "image/png": "[encoded data removed]",
      "text/plain": [
       "<Figure size 640x480 with 1 Axes>"
      ]
     },
     "metadata": {},
     "output_type": "display_data"
    },
    {
     "name": "stderr",
     "output_type": "stream",
     "text": [
      "C:\\Users\\arant\\AppData\\Local\\Temp\\ipykernel_20768\\2039884139.py:4: SettingWithCopyWarning: \n",
      "A value is trying to be set on a copy of a slice from a DataFrame.\n",
      "Try using .loc[row_indexer,col_indexer] = value instead\n",
      "\n",
      "See the caveats in the documentation: https://pandas.pydata.org/pandas-docs/stable/user_guide/indexing.html#returning-a-view-versus-a-copy\n",
      "  flag_df['bins'] = pd.qcut(flag_df[i], q=10, labels=False, duplicates = \"drop\") + 1\n"
     ]
    },
    {
     "data": {
      "image/png": "[encoded data removed]",
      "text/plain": [
       "<Figure size 640x480 with 1 Axes>"
      ]
     },
     "metadata": {},
     "output_type": "display_data"
    },
    {
     "name": "stderr",
     "output_type": "stream",
     "text": [
      "C:\\Users\\arant\\AppData\\Local\\Temp\\ipykernel_20768\\2039884139.py:4: SettingWithCopyWarning: \n",
      "A value is trying to be set on a copy of a slice from a DataFrame.\n",
      "Try using .loc[row_indexer,col_indexer] = value instead\n",
      "\n",
      "See the caveats in the documentation: https://pandas.pydata.org/pandas-docs/stable/user_guide/indexing.html#returning-a-view-versus-a-copy\n",
      "  flag_df['bins'] = pd.qcut(flag_df[i], q=10, labels=False, duplicates = \"drop\") + 1\n"
     ]
    },
    {
     "data": {
      "image/png": "[encoded data removed]",
      "text/plain": [
       "<Figure size 640x480 with 1 Axes>"
      ]
     },
     "metadata": {},
     "output_type": "display_data"
    },
    {
     "name": "stderr",
     "output_type": "stream",
     "text": [
      "C:\\Users\\arant\\AppData\\Local\\Temp\\ipykernel_20768\\2039884139.py:4: SettingWithCopyWarning: \n",
      "A value is trying to be set on a copy of a slice from a DataFrame.\n",
      "Try using .loc[row_indexer,col_indexer] = value instead\n",
      "\n",
      "See the caveats in the documentation: https://pandas.pydata.org/pandas-docs/stable/user_guide/indexing.html#returning-a-view-versus-a-copy\n",
      "  flag_df['bins'] = pd.qcut(flag_df[i], q=10, labels=False, duplicates = \"drop\") + 1\n"
     ]
    },
    {
     "data": {
      "image/png": "[encoded data removed]",
      "text/plain": [
       "<Figure size 640x480 with 1 Axes>"
      ]
     },
     "metadata": {},
     "output_type": "display_data"
    }
   ],
   "source": [
    "for i in numerical_features:\n",
    "    if i != 'medv':\n",
    "        flag_df = df[[target, i]]\n",
    "        flag_df['bins'] = pd.qcut(flag_df[i], q=10, labels=False, duplicates = \"drop\") + 1\n",
    "        grouped = flag_df.groupby('bins').mean()\n",
    "        plt.figure()\n",
    "        plt.plot(grouped[i], grouped[target], marker=\"o\", color = \"lightseagreen\")\n",
    "        plt.grid()\n",
    "        plt.xlabel(i)\n",
    "        plt.ylabel(target)\n",
    "        plt.title(i)\n",
    "        plt.show()"
   ]
  },
  {
   "cell_type": "markdown",
   "id": "1d07f978",
   "metadata": {},
   "source": [
    "#### ANÁLISIS:\n",
    "\n",
    "Con el análisis bivariado anterior podemos ver como las diferentes variables se relacionan con la variable dependiente, que es MEDV (median value of homes). Estas gráficas nos ayudarán a realizar transoformaciones y modificaciones en las variables y así ajustar mejor nuestro modelo a los datos reales."
   ]
  },
  {
   "cell_type": "markdown",
   "id": "7137b58f",
   "metadata": {},
   "source": [
    "## Transformación de variables"
   ]
  },
  {
   "cell_type": "code",
   "execution_count": 31,
   "id": "b3e2c8ee",
   "metadata": {},
   "outputs": [
    {
     "data": {
      "text/html": [
       "<div>\n",
       "<style scoped>\n",
       "    .dataframe tbody tr th:only-of-type {\n",
       "        vertical-align: middle;\n",
       "    }\n",
       "\n",
       "    .dataframe tbody tr th {\n",
       "        vertical-align: top;\n",
       "    }\n",
       "\n",
       "    .dataframe thead th {\n",
       "        text-align: right;\n",
       "    }\n",
       "</style>\n",
       "<table border=\"1\" class=\"dataframe\">\n",
       "  <thead>\n",
       "    <tr style=\"text-align: right;\">\n",
       "      <th></th>\n",
       "      <th>crim</th>\n",
       "      <th>zn</th>\n",
       "      <th>indus</th>\n",
       "      <th>chas</th>\n",
       "      <th>nox</th>\n",
       "      <th>rm</th>\n",
       "      <th>age</th>\n",
       "      <th>dis</th>\n",
       "      <th>tax</th>\n",
       "      <th>ptratio</th>\n",
       "      <th>...</th>\n",
       "      <th>medv</th>\n",
       "      <th>rad_1</th>\n",
       "      <th>rad_2</th>\n",
       "      <th>rad_3</th>\n",
       "      <th>rad_4</th>\n",
       "      <th>rad_5</th>\n",
       "      <th>rad_6</th>\n",
       "      <th>rad_7</th>\n",
       "      <th>rad_8</th>\n",
       "      <th>rad_24</th>\n",
       "    </tr>\n",
       "  </thead>\n",
       "  <tbody>\n",
       "    <tr>\n",
       "      <th>crim</th>\n",
       "      <td>1.000000</td>\n",
       "      <td>-0.200469</td>\n",
       "      <td>0.406583</td>\n",
       "      <td>-0.055892</td>\n",
       "      <td>0.420972</td>\n",
       "      <td>-0.219247</td>\n",
       "      <td>0.352734</td>\n",
       "      <td>-0.379670</td>\n",
       "      <td>0.582764</td>\n",
       "      <td>0.289946</td>\n",
       "      <td>...</td>\n",
       "      <td>-0.388305</td>\n",
       "      <td>-0.084456</td>\n",
       "      <td>-0.091673</td>\n",
       "      <td>-0.116598</td>\n",
       "      <td>-0.197472</td>\n",
       "      <td>-0.184650</td>\n",
       "      <td>-0.093806</td>\n",
       "      <td>-0.075143</td>\n",
       "      <td>-0.084191</td>\n",
       "      <td>0.632302</td>\n",
       "    </tr>\n",
       "    <tr>\n",
       "      <th>zn</th>\n",
       "      <td>-0.200469</td>\n",
       "      <td>1.000000</td>\n",
       "      <td>-0.533828</td>\n",
       "      <td>-0.042697</td>\n",
       "      <td>-0.516604</td>\n",
       "      <td>0.311991</td>\n",
       "      <td>-0.569537</td>\n",
       "      <td>0.664408</td>\n",
       "      <td>-0.314563</td>\n",
       "      <td>-0.391679</td>\n",
       "      <td>...</td>\n",
       "      <td>0.360445</td>\n",
       "      <td>0.248457</td>\n",
       "      <td>0.086702</td>\n",
       "      <td>0.061369</td>\n",
       "      <td>0.076190</td>\n",
       "      <td>-0.005934</td>\n",
       "      <td>0.016154</td>\n",
       "      <td>0.122776</td>\n",
       "      <td>-0.048974</td>\n",
       "      <td>-0.289750</td>\n",
       "    </tr>\n",
       "    <tr>\n",
       "      <th>indus</th>\n",
       "      <td>0.406583</td>\n",
       "      <td>-0.533828</td>\n",
       "      <td>1.000000</td>\n",
       "      <td>0.062938</td>\n",
       "      <td>0.763651</td>\n",
       "      <td>-0.391676</td>\n",
       "      <td>0.644779</td>\n",
       "      <td>-0.708027</td>\n",
       "      <td>0.720760</td>\n",
       "      <td>0.383248</td>\n",
       "      <td>...</td>\n",
       "      <td>-0.483725</td>\n",
       "      <td>-0.179690</td>\n",
       "      <td>-0.049031</td>\n",
       "      <td>-0.279307</td>\n",
       "      <td>-0.030002</td>\n",
       "      <td>-0.108959</td>\n",
       "      <td>-0.099794</td>\n",
       "      <td>-0.166009</td>\n",
       "      <td>-0.169444</td>\n",
       "      <td>0.603593</td>\n",
       "    </tr>\n",
       "    <tr>\n",
       "      <th>chas</th>\n",
       "      <td>-0.055892</td>\n",
       "      <td>-0.042697</td>\n",
       "      <td>0.062938</td>\n",
       "      <td>1.000000</td>\n",
       "      <td>0.091203</td>\n",
       "      <td>0.091251</td>\n",
       "      <td>0.086518</td>\n",
       "      <td>-0.099176</td>\n",
       "      <td>-0.035587</td>\n",
       "      <td>-0.121515</td>\n",
       "      <td>...</td>\n",
       "      <td>0.175260</td>\n",
       "      <td>-0.015326</td>\n",
       "      <td>-0.060828</td>\n",
       "      <td>-0.018572</td>\n",
       "      <td>0.007389</td>\n",
       "      <td>0.056601</td>\n",
       "      <td>-0.063444</td>\n",
       "      <td>-0.050827</td>\n",
       "      <td>0.122381</td>\n",
       "      <td>-0.020051</td>\n",
       "    </tr>\n",
       "    <tr>\n",
       "      <th>nox</th>\n",
       "      <td>0.420972</td>\n",
       "      <td>-0.516604</td>\n",
       "      <td>0.763651</td>\n",
       "      <td>0.091203</td>\n",
       "      <td>1.000000</td>\n",
       "      <td>-0.302188</td>\n",
       "      <td>0.731470</td>\n",
       "      <td>-0.769230</td>\n",
       "      <td>0.668023</td>\n",
       "      <td>0.188933</td>\n",
       "      <td>...</td>\n",
       "      <td>-0.427321</td>\n",
       "      <td>-0.160877</td>\n",
       "      <td>-0.134503</td>\n",
       "      <td>-0.251740</td>\n",
       "      <td>-0.229389</td>\n",
       "      <td>0.075839</td>\n",
       "      <td>-0.080115</td>\n",
       "      <td>-0.183122</td>\n",
       "      <td>-0.119886</td>\n",
       "      <td>0.604139</td>\n",
       "    </tr>\n",
       "    <tr>\n",
       "      <th>rm</th>\n",
       "      <td>-0.219247</td>\n",
       "      <td>0.311991</td>\n",
       "      <td>-0.391676</td>\n",
       "      <td>0.091251</td>\n",
       "      <td>-0.302188</td>\n",
       "      <td>1.000000</td>\n",
       "      <td>-0.240265</td>\n",
       "      <td>0.205246</td>\n",
       "      <td>-0.292048</td>\n",
       "      <td>-0.355501</td>\n",
       "      <td>...</td>\n",
       "      <td>0.695360</td>\n",
       "      <td>0.078383</td>\n",
       "      <td>0.116137</td>\n",
       "      <td>0.076479</td>\n",
       "      <td>-0.113768</td>\n",
       "      <td>0.083847</td>\n",
       "      <td>-0.059651</td>\n",
       "      <td>0.096459</td>\n",
       "      <td>0.211773</td>\n",
       "      <td>-0.222159</td>\n",
       "    </tr>\n",
       "    <tr>\n",
       "      <th>age</th>\n",
       "      <td>0.352734</td>\n",
       "      <td>-0.569537</td>\n",
       "      <td>0.644779</td>\n",
       "      <td>0.086518</td>\n",
       "      <td>0.731470</td>\n",
       "      <td>-0.240265</td>\n",
       "      <td>1.000000</td>\n",
       "      <td>-0.747881</td>\n",
       "      <td>0.506456</td>\n",
       "      <td>0.261515</td>\n",
       "      <td>...</td>\n",
       "      <td>-0.376955</td>\n",
       "      <td>-0.169885</td>\n",
       "      <td>-0.030186</td>\n",
       "      <td>-0.195206</td>\n",
       "      <td>-0.144934</td>\n",
       "      <td>0.012508</td>\n",
       "      <td>-0.069790</td>\n",
       "      <td>-0.188527</td>\n",
       "      <td>-0.009720</td>\n",
       "      <td>0.448516</td>\n",
       "    </tr>\n",
       "    <tr>\n",
       "      <th>dis</th>\n",
       "      <td>-0.379670</td>\n",
       "      <td>0.664408</td>\n",
       "      <td>-0.708027</td>\n",
       "      <td>-0.099176</td>\n",
       "      <td>-0.769230</td>\n",
       "      <td>0.205246</td>\n",
       "      <td>-0.747881</td>\n",
       "      <td>1.000000</td>\n",
       "      <td>-0.534432</td>\n",
       "      <td>-0.232471</td>\n",
       "      <td>...</td>\n",
       "      <td>0.249929</td>\n",
       "      <td>0.215315</td>\n",
       "      <td>0.032031</td>\n",
       "      <td>0.183063</td>\n",
       "      <td>0.159835</td>\n",
       "      <td>-0.025191</td>\n",
       "      <td>0.025432</td>\n",
       "      <td>0.239385</td>\n",
       "      <td>0.065296</td>\n",
       "      <td>-0.489642</td>\n",
       "    </tr>\n",
       "    <tr>\n",
       "      <th>tax</th>\n",
       "      <td>0.582764</td>\n",
       "      <td>-0.314563</td>\n",
       "      <td>0.720760</td>\n",
       "      <td>-0.035587</td>\n",
       "      <td>0.668023</td>\n",
       "      <td>-0.292048</td>\n",
       "      <td>0.506456</td>\n",
       "      <td>-0.534432</td>\n",
       "      <td>1.000000</td>\n",
       "      <td>0.460853</td>\n",
       "      <td>...</td>\n",
       "      <td>-0.468536</td>\n",
       "      <td>-0.140710</td>\n",
       "      <td>-0.195576</td>\n",
       "      <td>-0.274436</td>\n",
       "      <td>-0.226179</td>\n",
       "      <td>-0.246066</td>\n",
       "      <td>-0.048868</td>\n",
       "      <td>-0.114976</td>\n",
       "      <td>-0.141791</td>\n",
       "      <td>0.909506</td>\n",
       "    </tr>\n",
       "    <tr>\n",
       "      <th>ptratio</th>\n",
       "      <td>0.289946</td>\n",
       "      <td>-0.391679</td>\n",
       "      <td>0.383248</td>\n",
       "      <td>-0.121515</td>\n",
       "      <td>0.188933</td>\n",
       "      <td>-0.355501</td>\n",
       "      <td>0.261515</td>\n",
       "      <td>-0.232471</td>\n",
       "      <td>0.460853</td>\n",
       "      <td>1.000000</td>\n",
       "      <td>...</td>\n",
       "      <td>-0.507787</td>\n",
       "      <td>-0.083528</td>\n",
       "      <td>-0.120079</td>\n",
       "      <td>-0.037827</td>\n",
       "      <td>0.165909</td>\n",
       "      <td>-0.478578</td>\n",
       "      <td>-0.068886</td>\n",
       "      <td>-0.004280</td>\n",
       "      <td>-0.049578</td>\n",
       "      <td>0.479177</td>\n",
       "    </tr>\n",
       "    <tr>\n",
       "      <th>lstat</th>\n",
       "      <td>0.455621</td>\n",
       "      <td>-0.412995</td>\n",
       "      <td>0.603800</td>\n",
       "      <td>-0.053929</td>\n",
       "      <td>0.590879</td>\n",
       "      <td>-0.613808</td>\n",
       "      <td>0.602339</td>\n",
       "      <td>-0.496996</td>\n",
       "      <td>0.543993</td>\n",
       "      <td>0.374044</td>\n",
       "      <td>...</td>\n",
       "      <td>-0.737663</td>\n",
       "      <td>-0.150228</td>\n",
       "      <td>-0.082215</td>\n",
       "      <td>-0.142875</td>\n",
       "      <td>-0.033539</td>\n",
       "      <td>-0.151724</td>\n",
       "      <td>-0.011330</td>\n",
       "      <td>-0.121919</td>\n",
       "      <td>-0.146767</td>\n",
       "      <td>0.495285</td>\n",
       "    </tr>\n",
       "    <tr>\n",
       "      <th>medv</th>\n",
       "      <td>-0.388305</td>\n",
       "      <td>0.360445</td>\n",
       "      <td>-0.483725</td>\n",
       "      <td>0.175260</td>\n",
       "      <td>-0.427321</td>\n",
       "      <td>0.695360</td>\n",
       "      <td>-0.376955</td>\n",
       "      <td>0.249929</td>\n",
       "      <td>-0.468536</td>\n",
       "      <td>-0.507787</td>\n",
       "      <td>...</td>\n",
       "      <td>1.000000</td>\n",
       "      <td>0.040453</td>\n",
       "      <td>0.104444</td>\n",
       "      <td>0.167352</td>\n",
       "      <td>-0.065711</td>\n",
       "      <td>0.187356</td>\n",
       "      <td>-0.039411</td>\n",
       "      <td>0.092802</td>\n",
       "      <td>0.190053</td>\n",
       "      <td>-0.396297</td>\n",
       "    </tr>\n",
       "    <tr>\n",
       "      <th>rad_1</th>\n",
       "      <td>-0.084456</td>\n",
       "      <td>0.248457</td>\n",
       "      <td>-0.179690</td>\n",
       "      <td>-0.015326</td>\n",
       "      <td>-0.160877</td>\n",
       "      <td>0.078383</td>\n",
       "      <td>-0.169885</td>\n",
       "      <td>0.215315</td>\n",
       "      <td>-0.140710</td>\n",
       "      <td>-0.083528</td>\n",
       "      <td>...</td>\n",
       "      <td>0.040453</td>\n",
       "      <td>1.000000</td>\n",
       "      <td>-0.045267</td>\n",
       "      <td>-0.057805</td>\n",
       "      <td>-0.106917</td>\n",
       "      <td>-0.110016</td>\n",
       "      <td>-0.047213</td>\n",
       "      <td>-0.037824</td>\n",
       "      <td>-0.045267</td>\n",
       "      <td>-0.120517</td>\n",
       "    </tr>\n",
       "    <tr>\n",
       "      <th>rad_2</th>\n",
       "      <td>-0.091673</td>\n",
       "      <td>0.086702</td>\n",
       "      <td>-0.049031</td>\n",
       "      <td>-0.060828</td>\n",
       "      <td>-0.134503</td>\n",
       "      <td>0.116137</td>\n",
       "      <td>-0.030186</td>\n",
       "      <td>0.032031</td>\n",
       "      <td>-0.195576</td>\n",
       "      <td>-0.120079</td>\n",
       "      <td>...</td>\n",
       "      <td>0.104444</td>\n",
       "      <td>-0.045267</td>\n",
       "      <td>1.000000</td>\n",
       "      <td>-0.063584</td>\n",
       "      <td>-0.117606</td>\n",
       "      <td>-0.121016</td>\n",
       "      <td>-0.051934</td>\n",
       "      <td>-0.041606</td>\n",
       "      <td>-0.049793</td>\n",
       "      <td>-0.132566</td>\n",
       "    </tr>\n",
       "    <tr>\n",
       "      <th>rad_3</th>\n",
       "      <td>-0.116598</td>\n",
       "      <td>0.061369</td>\n",
       "      <td>-0.279307</td>\n",
       "      <td>-0.018572</td>\n",
       "      <td>-0.251740</td>\n",
       "      <td>0.076479</td>\n",
       "      <td>-0.195206</td>\n",
       "      <td>0.183063</td>\n",
       "      <td>-0.274436</td>\n",
       "      <td>-0.037827</td>\n",
       "      <td>...</td>\n",
       "      <td>0.167352</td>\n",
       "      <td>-0.057805</td>\n",
       "      <td>-0.063584</td>\n",
       "      <td>1.000000</td>\n",
       "      <td>-0.150182</td>\n",
       "      <td>-0.154536</td>\n",
       "      <td>-0.066319</td>\n",
       "      <td>-0.053130</td>\n",
       "      <td>-0.063584</td>\n",
       "      <td>-0.169286</td>\n",
       "    </tr>\n",
       "    <tr>\n",
       "      <th>rad_4</th>\n",
       "      <td>-0.197472</td>\n",
       "      <td>0.076190</td>\n",
       "      <td>-0.030002</td>\n",
       "      <td>0.007389</td>\n",
       "      <td>-0.229389</td>\n",
       "      <td>-0.113768</td>\n",
       "      <td>-0.144934</td>\n",
       "      <td>0.159835</td>\n",
       "      <td>-0.226179</td>\n",
       "      <td>0.165909</td>\n",
       "      <td>...</td>\n",
       "      <td>-0.065711</td>\n",
       "      <td>-0.106917</td>\n",
       "      <td>-0.117606</td>\n",
       "      <td>-0.150182</td>\n",
       "      <td>1.000000</td>\n",
       "      <td>-0.285831</td>\n",
       "      <td>-0.122663</td>\n",
       "      <td>-0.098270</td>\n",
       "      <td>-0.117606</td>\n",
       "      <td>-0.313112</td>\n",
       "    </tr>\n",
       "    <tr>\n",
       "      <th>rad_5</th>\n",
       "      <td>-0.184650</td>\n",
       "      <td>-0.005934</td>\n",
       "      <td>-0.108959</td>\n",
       "      <td>0.056601</td>\n",
       "      <td>0.075839</td>\n",
       "      <td>0.083847</td>\n",
       "      <td>0.012508</td>\n",
       "      <td>-0.025191</td>\n",
       "      <td>-0.246066</td>\n",
       "      <td>-0.478578</td>\n",
       "      <td>...</td>\n",
       "      <td>0.187356</td>\n",
       "      <td>-0.110016</td>\n",
       "      <td>-0.121016</td>\n",
       "      <td>-0.154536</td>\n",
       "      <td>-0.285831</td>\n",
       "      <td>1.000000</td>\n",
       "      <td>-0.126220</td>\n",
       "      <td>-0.101118</td>\n",
       "      <td>-0.121016</td>\n",
       "      <td>-0.322190</td>\n",
       "    </tr>\n",
       "    <tr>\n",
       "      <th>rad_6</th>\n",
       "      <td>-0.093806</td>\n",
       "      <td>0.016154</td>\n",
       "      <td>-0.099794</td>\n",
       "      <td>-0.063444</td>\n",
       "      <td>-0.080115</td>\n",
       "      <td>-0.059651</td>\n",
       "      <td>-0.069790</td>\n",
       "      <td>0.025432</td>\n",
       "      <td>-0.048868</td>\n",
       "      <td>-0.068886</td>\n",
       "      <td>...</td>\n",
       "      <td>-0.039411</td>\n",
       "      <td>-0.047213</td>\n",
       "      <td>-0.051934</td>\n",
       "      <td>-0.066319</td>\n",
       "      <td>-0.122663</td>\n",
       "      <td>-0.126220</td>\n",
       "      <td>1.000000</td>\n",
       "      <td>-0.043395</td>\n",
       "      <td>-0.051934</td>\n",
       "      <td>-0.138267</td>\n",
       "    </tr>\n",
       "    <tr>\n",
       "      <th>rad_7</th>\n",
       "      <td>-0.075143</td>\n",
       "      <td>0.122776</td>\n",
       "      <td>-0.166009</td>\n",
       "      <td>-0.050827</td>\n",
       "      <td>-0.183122</td>\n",
       "      <td>0.096459</td>\n",
       "      <td>-0.188527</td>\n",
       "      <td>0.239385</td>\n",
       "      <td>-0.114976</td>\n",
       "      <td>-0.004280</td>\n",
       "      <td>...</td>\n",
       "      <td>0.092802</td>\n",
       "      <td>-0.037824</td>\n",
       "      <td>-0.041606</td>\n",
       "      <td>-0.053130</td>\n",
       "      <td>-0.098270</td>\n",
       "      <td>-0.101118</td>\n",
       "      <td>-0.043395</td>\n",
       "      <td>1.000000</td>\n",
       "      <td>-0.041606</td>\n",
       "      <td>-0.110770</td>\n",
       "    </tr>\n",
       "    <tr>\n",
       "      <th>rad_8</th>\n",
       "      <td>-0.084191</td>\n",
       "      <td>-0.048974</td>\n",
       "      <td>-0.169444</td>\n",
       "      <td>0.122381</td>\n",
       "      <td>-0.119886</td>\n",
       "      <td>0.211773</td>\n",
       "      <td>-0.009720</td>\n",
       "      <td>0.065296</td>\n",
       "      <td>-0.141791</td>\n",
       "      <td>-0.049578</td>\n",
       "      <td>...</td>\n",
       "      <td>0.190053</td>\n",
       "      <td>-0.045267</td>\n",
       "      <td>-0.049793</td>\n",
       "      <td>-0.063584</td>\n",
       "      <td>-0.117606</td>\n",
       "      <td>-0.121016</td>\n",
       "      <td>-0.051934</td>\n",
       "      <td>-0.041606</td>\n",
       "      <td>1.000000</td>\n",
       "      <td>-0.132566</td>\n",
       "    </tr>\n",
       "    <tr>\n",
       "      <th>rad_24</th>\n",
       "      <td>0.632302</td>\n",
       "      <td>-0.289750</td>\n",
       "      <td>0.603593</td>\n",
       "      <td>-0.020051</td>\n",
       "      <td>0.604139</td>\n",
       "      <td>-0.222159</td>\n",
       "      <td>0.448516</td>\n",
       "      <td>-0.489642</td>\n",
       "      <td>0.909506</td>\n",
       "      <td>0.479177</td>\n",
       "      <td>...</td>\n",
       "      <td>-0.396297</td>\n",
       "      <td>-0.120517</td>\n",
       "      <td>-0.132566</td>\n",
       "      <td>-0.169286</td>\n",
       "      <td>-0.313112</td>\n",
       "      <td>-0.322190</td>\n",
       "      <td>-0.138267</td>\n",
       "      <td>-0.110770</td>\n",
       "      <td>-0.132566</td>\n",
       "      <td>1.000000</td>\n",
       "    </tr>\n",
       "  </tbody>\n",
       "</table>\n",
       "<p>21 rows × 21 columns</p>\n",
       "</div>"
      ],
      "text/plain": [
       "             crim        zn     indus      chas       nox        rm       age  \\\n",
       "crim     1.000000 -0.200469  0.406583 -0.055892  0.420972 -0.219247  0.352734   \n",
       "zn      -0.200469  1.000000 -0.533828 -0.042697 -0.516604  0.311991 -0.569537   \n",
       "indus    0.406583 -0.533828  1.000000  0.062938  0.763651 -0.391676  0.644779   \n",
       "chas    -0.055892 -0.042697  0.062938  1.000000  0.091203  0.091251  0.086518   \n",
       "nox      0.420972 -0.516604  0.763651  0.091203  1.000000 -0.302188  0.731470   \n",
       "rm      -0.219247  0.311991 -0.391676  0.091251 -0.302188  1.000000 -0.240265   \n",
       "age      0.352734 -0.569537  0.644779  0.086518  0.731470 -0.240265  1.000000   \n",
       "dis     -0.379670  0.664408 -0.708027 -0.099176 -0.769230  0.205246 -0.747881   \n",
       "tax      0.582764 -0.314563  0.720760 -0.035587  0.668023 -0.292048  0.506456   \n",
       "ptratio  0.289946 -0.391679  0.383248 -0.121515  0.188933 -0.355501  0.261515   \n",
       "lstat    0.455621 -0.412995  0.603800 -0.053929  0.590879 -0.613808  0.602339   \n",
       "medv    -0.388305  0.360445 -0.483725  0.175260 -0.427321  0.695360 -0.376955   \n",
       "rad_1   -0.084456  0.248457 -0.179690 -0.015326 -0.160877  0.078383 -0.169885   \n",
       "rad_2   -0.091673  0.086702 -0.049031 -0.060828 -0.134503  0.116137 -0.030186   \n",
       "rad_3   -0.116598  0.061369 -0.279307 -0.018572 -0.251740  0.076479 -0.195206   \n",
       "rad_4   -0.197472  0.076190 -0.030002  0.007389 -0.229389 -0.113768 -0.144934   \n",
       "rad_5   -0.184650 -0.005934 -0.108959  0.056601  0.075839  0.083847  0.012508   \n",
       "rad_6   -0.093806  0.016154 -0.099794 -0.063444 -0.080115 -0.059651 -0.069790   \n",
       "rad_7   -0.075143  0.122776 -0.166009 -0.050827 -0.183122  0.096459 -0.188527   \n",
       "rad_8   -0.084191 -0.048974 -0.169444  0.122381 -0.119886  0.211773 -0.009720   \n",
       "rad_24   0.632302 -0.289750  0.603593 -0.020051  0.604139 -0.222159  0.448516   \n",
       "\n",
       "              dis       tax   ptratio  ...      medv     rad_1     rad_2  \\\n",
       "crim    -0.379670  0.582764  0.289946  ... -0.388305 -0.084456 -0.091673   \n",
       "zn       0.664408 -0.314563 -0.391679  ...  0.360445  0.248457  0.086702   \n",
       "indus   -0.708027  0.720760  0.383248  ... -0.483725 -0.179690 -0.049031   \n",
       "chas    -0.099176 -0.035587 -0.121515  ...  0.175260 -0.015326 -0.060828   \n",
       "nox     -0.769230  0.668023  0.188933  ... -0.427321 -0.160877 -0.134503   \n",
       "rm       0.205246 -0.292048 -0.355501  ...  0.695360  0.078383  0.116137   \n",
       "age     -0.747881  0.506456  0.261515  ... -0.376955 -0.169885 -0.030186   \n",
       "dis      1.000000 -0.534432 -0.232471  ...  0.249929  0.215315  0.032031   \n",
       "tax     -0.534432  1.000000  0.460853  ... -0.468536 -0.140710 -0.195576   \n",
       "ptratio -0.232471  0.460853  1.000000  ... -0.507787 -0.083528 -0.120079   \n",
       "lstat   -0.496996  0.543993  0.374044  ... -0.737663 -0.150228 -0.082215   \n",
       "medv     0.249929 -0.468536 -0.507787  ...  1.000000  0.040453  0.104444   \n",
       "rad_1    0.215315 -0.140710 -0.083528  ...  0.040453  1.000000 -0.045267   \n",
       "rad_2    0.032031 -0.195576 -0.120079  ...  0.104444 -0.045267  1.000000   \n",
       "rad_3    0.183063 -0.274436 -0.037827  ...  0.167352 -0.057805 -0.063584   \n",
       "rad_4    0.159835 -0.226179  0.165909  ... -0.065711 -0.106917 -0.117606   \n",
       "rad_5   -0.025191 -0.246066 -0.478578  ...  0.187356 -0.110016 -0.121016   \n",
       "rad_6    0.025432 -0.048868 -0.068886  ... -0.039411 -0.047213 -0.051934   \n",
       "rad_7    0.239385 -0.114976 -0.004280  ...  0.092802 -0.037824 -0.041606   \n",
       "rad_8    0.065296 -0.141791 -0.049578  ...  0.190053 -0.045267 -0.049793   \n",
       "rad_24  -0.489642  0.909506  0.479177  ... -0.396297 -0.120517 -0.132566   \n",
       "\n",
       "            rad_3     rad_4     rad_5     rad_6     rad_7     rad_8    rad_24  \n",
       "crim    -0.116598 -0.197472 -0.184650 -0.093806 -0.075143 -0.084191  0.632302  \n",
       "zn       0.061369  0.076190 -0.005934  0.016154  0.122776 -0.048974 -0.289750  \n",
       "indus   -0.279307 -0.030002 -0.108959 -0.099794 -0.166009 -0.169444  0.603593  \n",
       "chas    -0.018572  0.007389  0.056601 -0.063444 -0.050827  0.122381 -0.020051  \n",
       "nox     -0.251740 -0.229389  0.075839 -0.080115 -0.183122 -0.119886  0.604139  \n",
       "rm       0.076479 -0.113768  0.083847 -0.059651  0.096459  0.211773 -0.222159  \n",
       "age     -0.195206 -0.144934  0.012508 -0.069790 -0.188527 -0.009720  0.448516  \n",
       "dis      0.183063  0.159835 -0.025191  0.025432  0.239385  0.065296 -0.489642  \n",
       "tax     -0.274436 -0.226179 -0.246066 -0.048868 -0.114976 -0.141791  0.909506  \n",
       "ptratio -0.037827  0.165909 -0.478578 -0.068886 -0.004280 -0.049578  0.479177  \n",
       "lstat   -0.142875 -0.033539 -0.151724 -0.011330 -0.121919 -0.146767  0.495285  \n",
       "medv     0.167352 -0.065711  0.187356 -0.039411  0.092802  0.190053 -0.396297  \n",
       "rad_1   -0.057805 -0.106917 -0.110016 -0.047213 -0.037824 -0.045267 -0.120517  \n",
       "rad_2   -0.063584 -0.117606 -0.121016 -0.051934 -0.041606 -0.049793 -0.132566  \n",
       "rad_3    1.000000 -0.150182 -0.154536 -0.066319 -0.053130 -0.063584 -0.169286  \n",
       "rad_4   -0.150182  1.000000 -0.285831 -0.122663 -0.098270 -0.117606 -0.313112  \n",
       "rad_5   -0.154536 -0.285831  1.000000 -0.126220 -0.101118 -0.121016 -0.322190  \n",
       "rad_6   -0.066319 -0.122663 -0.126220  1.000000 -0.043395 -0.051934 -0.138267  \n",
       "rad_7   -0.053130 -0.098270 -0.101118 -0.043395  1.000000 -0.041606 -0.110770  \n",
       "rad_8   -0.063584 -0.117606 -0.121016 -0.051934 -0.041606  1.000000 -0.132566  \n",
       "rad_24  -0.169286 -0.313112 -0.322190 -0.138267 -0.110770 -0.132566  1.000000  \n",
       "\n",
       "[21 rows x 21 columns]"
      ]
     },
     "execution_count": 31,
     "metadata": {},
     "output_type": "execute_result"
    }
   ],
   "source": [
    "df.corr()"
   ]
  },
  {
   "cell_type": "code",
   "execution_count": 32,
   "id": "217327ef",
   "metadata": {},
   "outputs": [
    {
     "data": {
      "text/html": [
       "<div>\n",
       "<style scoped>\n",
       "    .dataframe tbody tr th:only-of-type {\n",
       "        vertical-align: middle;\n",
       "    }\n",
       "\n",
       "    .dataframe tbody tr th {\n",
       "        vertical-align: top;\n",
       "    }\n",
       "\n",
       "    .dataframe thead th {\n",
       "        text-align: right;\n",
       "    }\n",
       "</style>\n",
       "<table border=\"1\" class=\"dataframe\">\n",
       "  <thead>\n",
       "    <tr style=\"text-align: right;\">\n",
       "      <th></th>\n",
       "      <th>crim</th>\n",
       "      <th>zn</th>\n",
       "      <th>indus</th>\n",
       "      <th>chas</th>\n",
       "      <th>nox</th>\n",
       "      <th>rm</th>\n",
       "      <th>age</th>\n",
       "      <th>dis</th>\n",
       "      <th>tax</th>\n",
       "      <th>ptratio</th>\n",
       "      <th>...</th>\n",
       "      <th>log_age</th>\n",
       "      <th>log_tax</th>\n",
       "      <th>log_nox</th>\n",
       "      <th>log_dis</th>\n",
       "      <th>log_ptratio</th>\n",
       "      <th>zn_tax</th>\n",
       "      <th>nox_dis</th>\n",
       "      <th>lstat_indus</th>\n",
       "      <th>nox_age</th>\n",
       "      <th>age_dis</th>\n",
       "    </tr>\n",
       "  </thead>\n",
       "  <tbody>\n",
       "    <tr>\n",
       "      <th>0</th>\n",
       "      <td>0.00632</td>\n",
       "      <td>18.0</td>\n",
       "      <td>2.31</td>\n",
       "      <td>0</td>\n",
       "      <td>0.538</td>\n",
       "      <td>6.575</td>\n",
       "      <td>65.2</td>\n",
       "      <td>4.0900</td>\n",
       "      <td>296</td>\n",
       "      <td>15.3</td>\n",
       "      <td>...</td>\n",
       "      <td>4.177459</td>\n",
       "      <td>5.690359</td>\n",
       "      <td>-0.619897</td>\n",
       "      <td>1.408545</td>\n",
       "      <td>2.727853</td>\n",
       "      <td>5328.0</td>\n",
       "      <td>2.200420</td>\n",
       "      <td>11.5038</td>\n",
       "      <td>-6.738960</td>\n",
       "      <td>15.941320</td>\n",
       "    </tr>\n",
       "    <tr>\n",
       "      <th>1</th>\n",
       "      <td>0.02731</td>\n",
       "      <td>0.0</td>\n",
       "      <td>7.07</td>\n",
       "      <td>0</td>\n",
       "      <td>0.469</td>\n",
       "      <td>6.421</td>\n",
       "      <td>78.9</td>\n",
       "      <td>4.9671</td>\n",
       "      <td>242</td>\n",
       "      <td>17.8</td>\n",
       "      <td>...</td>\n",
       "      <td>4.368181</td>\n",
       "      <td>5.488938</td>\n",
       "      <td>-0.757153</td>\n",
       "      <td>1.602836</td>\n",
       "      <td>2.879198</td>\n",
       "      <td>0.0</td>\n",
       "      <td>2.329570</td>\n",
       "      <td>64.6198</td>\n",
       "      <td>-5.769222</td>\n",
       "      <td>15.884520</td>\n",
       "    </tr>\n",
       "    <tr>\n",
       "      <th>2</th>\n",
       "      <td>0.02729</td>\n",
       "      <td>0.0</td>\n",
       "      <td>7.07</td>\n",
       "      <td>0</td>\n",
       "      <td>0.469</td>\n",
       "      <td>7.185</td>\n",
       "      <td>61.1</td>\n",
       "      <td>4.9671</td>\n",
       "      <td>242</td>\n",
       "      <td>17.8</td>\n",
       "      <td>...</td>\n",
       "      <td>4.112512</td>\n",
       "      <td>5.488938</td>\n",
       "      <td>-0.757153</td>\n",
       "      <td>1.602836</td>\n",
       "      <td>2.879198</td>\n",
       "      <td>0.0</td>\n",
       "      <td>2.329570</td>\n",
       "      <td>28.4921</td>\n",
       "      <td>-5.431550</td>\n",
       "      <td>12.300940</td>\n",
       "    </tr>\n",
       "    <tr>\n",
       "      <th>3</th>\n",
       "      <td>0.03237</td>\n",
       "      <td>0.0</td>\n",
       "      <td>2.18</td>\n",
       "      <td>0</td>\n",
       "      <td>0.458</td>\n",
       "      <td>6.998</td>\n",
       "      <td>45.8</td>\n",
       "      <td>6.0622</td>\n",
       "      <td>222</td>\n",
       "      <td>18.7</td>\n",
       "      <td>...</td>\n",
       "      <td>3.824284</td>\n",
       "      <td>5.402677</td>\n",
       "      <td>-0.780886</td>\n",
       "      <td>1.802073</td>\n",
       "      <td>2.928524</td>\n",
       "      <td>0.0</td>\n",
       "      <td>2.776488</td>\n",
       "      <td>6.4092</td>\n",
       "      <td>-4.897365</td>\n",
       "      <td>7.555013</td>\n",
       "    </tr>\n",
       "    <tr>\n",
       "      <th>4</th>\n",
       "      <td>0.06905</td>\n",
       "      <td>0.0</td>\n",
       "      <td>2.18</td>\n",
       "      <td>0</td>\n",
       "      <td>0.458</td>\n",
       "      <td>7.147</td>\n",
       "      <td>54.2</td>\n",
       "      <td>6.0622</td>\n",
       "      <td>222</td>\n",
       "      <td>18.7</td>\n",
       "      <td>...</td>\n",
       "      <td>3.992681</td>\n",
       "      <td>5.402677</td>\n",
       "      <td>-0.780886</td>\n",
       "      <td>1.802073</td>\n",
       "      <td>2.928524</td>\n",
       "      <td>0.0</td>\n",
       "      <td>2.776488</td>\n",
       "      <td>11.6194</td>\n",
       "      <td>-5.113013</td>\n",
       "      <td>8.940649</td>\n",
       "    </tr>\n",
       "  </tbody>\n",
       "</table>\n",
       "<p>5 rows × 32 columns</p>\n",
       "</div>"
      ],
      "text/plain": [
       "      crim    zn  indus  chas    nox     rm   age     dis  tax  ptratio  ...  \\\n",
       "0  0.00632  18.0   2.31     0  0.538  6.575  65.2  4.0900  296     15.3  ...   \n",
       "1  0.02731   0.0   7.07     0  0.469  6.421  78.9  4.9671  242     17.8  ...   \n",
       "2  0.02729   0.0   7.07     0  0.469  7.185  61.1  4.9671  242     17.8  ...   \n",
       "3  0.03237   0.0   2.18     0  0.458  6.998  45.8  6.0622  222     18.7  ...   \n",
       "4  0.06905   0.0   2.18     0  0.458  7.147  54.2  6.0622  222     18.7  ...   \n",
       "\n",
       "    log_age   log_tax   log_nox   log_dis  log_ptratio  zn_tax   nox_dis  \\\n",
       "0  4.177459  5.690359 -0.619897  1.408545     2.727853  5328.0  2.200420   \n",
       "1  4.368181  5.488938 -0.757153  1.602836     2.879198     0.0  2.329570   \n",
       "2  4.112512  5.488938 -0.757153  1.602836     2.879198     0.0  2.329570   \n",
       "3  3.824284  5.402677 -0.780886  1.802073     2.928524     0.0  2.776488   \n",
       "4  3.992681  5.402677 -0.780886  1.802073     2.928524     0.0  2.776488   \n",
       "\n",
       "   lstat_indus   nox_age    age_dis  \n",
       "0      11.5038 -6.738960  15.941320  \n",
       "1      64.6198 -5.769222  15.884520  \n",
       "2      28.4921 -5.431550  12.300940  \n",
       "3       6.4092 -4.897365   7.555013  \n",
       "4      11.6194 -5.113013   8.940649  \n",
       "\n",
       "[5 rows x 32 columns]"
      ]
     },
     "execution_count": 32,
     "metadata": {},
     "output_type": "execute_result"
    }
   ],
   "source": [
    "df['rm2'] = df['rm']**2\n",
    "\n",
    "df['log_age'] = np.log(df['age'])\n",
    "df['log_tax'] = np.log(df['tax'])\n",
    "df['log_nox'] = np.log(df['nox'])\n",
    "df['log_dis'] = np.log(df['dis'])\n",
    "df['log_ptratio'] = np.log(df['ptratio'])\n",
    "\n",
    "df['zn_tax'] = df['zn'] * df['tax']\n",
    "df['nox_dis'] = df['dis'] * df['nox'] \n",
    "df['lstat_indus'] = df['indus'] * df['lstat']\n",
    "\n",
    "df['nox_age'] = np.log(df['age']) / np.log(df['nox'])\n",
    "df['age_dis'] = df['age'] / df['dis']\n",
    "\n",
    "df.head()"
   ]
  },
  {
   "cell_type": "markdown",
   "id": "ef0d22fc",
   "metadata": {},
   "source": [
    "#### ANÁLISIS:\n",
    "\n",
    "- La variable de rm se elevó al cuadrado para así capturar la relación no lineal que existe entre rm y medv.\n",
    "\n",
    "- A las variables de age, tax, nox, dis y ptratio se les aplicó un logaritmo para así reducir el impacto que puede existir de ciertos outliers.\n",
    "\n",
    "- La nueva variable de zn_tax se obtiene a través de la multiplicación de estas variables. Esto indica el efecto combinado de los impuestos y el tamaño de los lotes residenciales. Nos ayuda a entender que los impuestos pueden afectar más a zonas con tamaño residencial mayor.\n",
    "\n",
    "- La nueva variable de nox_dis se obtiene a través de la multiplicación de estas variables. Esto explica como zonas contaminadas con nitrógeno y más alejadas de los centros de empleo pueden tener valor más bajos, lo cual sería bastante lógico.\n",
    "\n",
    "-  La nueva variable de nox_age se obtiene a través de la división de estas variables. Esta variable surgió dado que dis y age cuentan con una correlación alta de -0.747881, lo cual indica una relación positiva fuerte entre las variables. Es decir, zonas con casa más viejas normalmente tienen niveles mayores de nitrógeno.\n",
    "\n",
    "-  La nueva variable de age_dis se obtiene a través de la división de estas variables. Esta variable surgió dado que nox y age cuentan con una correlación negativa de 0.731470, lo cual indica una relación inversa. Es decir, zonas con casas más viejas suelen estar más cerca a los centros de empleo.\n",
    "\n",
    "\n",
    "-  La nueva variable de lstat_indus se obtiene a través de la multiplicación de estas variables. Esta última variable explica el efecto combinado de la proporción de acres de negocios no minoristas por ciudad y del porcentaje de población con bajo estatus."
   ]
  },
  {
   "cell_type": "code",
   "execution_count": 33,
   "id": "edd2c2e7",
   "metadata": {},
   "outputs": [
    {
     "data": {
      "text/html": [
       "<div>\n",
       "<style scoped>\n",
       "    .dataframe tbody tr th:only-of-type {\n",
       "        vertical-align: middle;\n",
       "    }\n",
       "\n",
       "    .dataframe tbody tr th {\n",
       "        vertical-align: top;\n",
       "    }\n",
       "\n",
       "    .dataframe thead th {\n",
       "        text-align: right;\n",
       "    }\n",
       "</style>\n",
       "<table border=\"1\" class=\"dataframe\">\n",
       "  <thead>\n",
       "    <tr style=\"text-align: right;\">\n",
       "      <th></th>\n",
       "      <th>crim</th>\n",
       "      <th>zn</th>\n",
       "      <th>indus</th>\n",
       "      <th>chas</th>\n",
       "      <th>nox</th>\n",
       "      <th>rm</th>\n",
       "      <th>age</th>\n",
       "      <th>dis</th>\n",
       "      <th>tax</th>\n",
       "      <th>ptratio</th>\n",
       "      <th>...</th>\n",
       "      <th>log_age</th>\n",
       "      <th>log_tax</th>\n",
       "      <th>log_nox</th>\n",
       "      <th>log_dis</th>\n",
       "      <th>log_ptratio</th>\n",
       "      <th>zn_tax</th>\n",
       "      <th>nox_dis</th>\n",
       "      <th>lstat_indus</th>\n",
       "      <th>nox_age</th>\n",
       "      <th>age_dis</th>\n",
       "    </tr>\n",
       "  </thead>\n",
       "  <tbody>\n",
       "    <tr>\n",
       "      <th>0</th>\n",
       "      <td>0.00632</td>\n",
       "      <td>18.0</td>\n",
       "      <td>2.31</td>\n",
       "      <td>0</td>\n",
       "      <td>0.538</td>\n",
       "      <td>6.575</td>\n",
       "      <td>65.2</td>\n",
       "      <td>4.0900</td>\n",
       "      <td>296</td>\n",
       "      <td>15.3</td>\n",
       "      <td>...</td>\n",
       "      <td>4.177459</td>\n",
       "      <td>5.690359</td>\n",
       "      <td>-0.619897</td>\n",
       "      <td>1.408545</td>\n",
       "      <td>2.727853</td>\n",
       "      <td>5328.0</td>\n",
       "      <td>2.200420</td>\n",
       "      <td>11.5038</td>\n",
       "      <td>-6.738960</td>\n",
       "      <td>15.941320</td>\n",
       "    </tr>\n",
       "    <tr>\n",
       "      <th>1</th>\n",
       "      <td>0.02731</td>\n",
       "      <td>0.0</td>\n",
       "      <td>7.07</td>\n",
       "      <td>0</td>\n",
       "      <td>0.469</td>\n",
       "      <td>6.421</td>\n",
       "      <td>78.9</td>\n",
       "      <td>4.9671</td>\n",
       "      <td>242</td>\n",
       "      <td>17.8</td>\n",
       "      <td>...</td>\n",
       "      <td>4.368181</td>\n",
       "      <td>5.488938</td>\n",
       "      <td>-0.757153</td>\n",
       "      <td>1.602836</td>\n",
       "      <td>2.879198</td>\n",
       "      <td>0.0</td>\n",
       "      <td>2.329570</td>\n",
       "      <td>64.6198</td>\n",
       "      <td>-5.769222</td>\n",
       "      <td>15.884520</td>\n",
       "    </tr>\n",
       "    <tr>\n",
       "      <th>2</th>\n",
       "      <td>0.02729</td>\n",
       "      <td>0.0</td>\n",
       "      <td>7.07</td>\n",
       "      <td>0</td>\n",
       "      <td>0.469</td>\n",
       "      <td>7.185</td>\n",
       "      <td>61.1</td>\n",
       "      <td>4.9671</td>\n",
       "      <td>242</td>\n",
       "      <td>17.8</td>\n",
       "      <td>...</td>\n",
       "      <td>4.112512</td>\n",
       "      <td>5.488938</td>\n",
       "      <td>-0.757153</td>\n",
       "      <td>1.602836</td>\n",
       "      <td>2.879198</td>\n",
       "      <td>0.0</td>\n",
       "      <td>2.329570</td>\n",
       "      <td>28.4921</td>\n",
       "      <td>-5.431550</td>\n",
       "      <td>12.300940</td>\n",
       "    </tr>\n",
       "    <tr>\n",
       "      <th>3</th>\n",
       "      <td>0.03237</td>\n",
       "      <td>0.0</td>\n",
       "      <td>2.18</td>\n",
       "      <td>0</td>\n",
       "      <td>0.458</td>\n",
       "      <td>6.998</td>\n",
       "      <td>45.8</td>\n",
       "      <td>6.0622</td>\n",
       "      <td>222</td>\n",
       "      <td>18.7</td>\n",
       "      <td>...</td>\n",
       "      <td>3.824284</td>\n",
       "      <td>5.402677</td>\n",
       "      <td>-0.780886</td>\n",
       "      <td>1.802073</td>\n",
       "      <td>2.928524</td>\n",
       "      <td>0.0</td>\n",
       "      <td>2.776488</td>\n",
       "      <td>6.4092</td>\n",
       "      <td>-4.897365</td>\n",
       "      <td>7.555013</td>\n",
       "    </tr>\n",
       "    <tr>\n",
       "      <th>4</th>\n",
       "      <td>0.06905</td>\n",
       "      <td>0.0</td>\n",
       "      <td>2.18</td>\n",
       "      <td>0</td>\n",
       "      <td>0.458</td>\n",
       "      <td>7.147</td>\n",
       "      <td>54.2</td>\n",
       "      <td>6.0622</td>\n",
       "      <td>222</td>\n",
       "      <td>18.7</td>\n",
       "      <td>...</td>\n",
       "      <td>3.992681</td>\n",
       "      <td>5.402677</td>\n",
       "      <td>-0.780886</td>\n",
       "      <td>1.802073</td>\n",
       "      <td>2.928524</td>\n",
       "      <td>0.0</td>\n",
       "      <td>2.776488</td>\n",
       "      <td>11.6194</td>\n",
       "      <td>-5.113013</td>\n",
       "      <td>8.940649</td>\n",
       "    </tr>\n",
       "  </tbody>\n",
       "</table>\n",
       "<p>5 rows × 31 columns</p>\n",
       "</div>"
      ],
      "text/plain": [
       "      crim    zn  indus  chas    nox     rm   age     dis  tax  ptratio  ...  \\\n",
       "0  0.00632  18.0   2.31     0  0.538  6.575  65.2  4.0900  296     15.3  ...   \n",
       "1  0.02731   0.0   7.07     0  0.469  6.421  78.9  4.9671  242     17.8  ...   \n",
       "2  0.02729   0.0   7.07     0  0.469  7.185  61.1  4.9671  242     17.8  ...   \n",
       "3  0.03237   0.0   2.18     0  0.458  6.998  45.8  6.0622  222     18.7  ...   \n",
       "4  0.06905   0.0   2.18     0  0.458  7.147  54.2  6.0622  222     18.7  ...   \n",
       "\n",
       "    log_age   log_tax   log_nox   log_dis  log_ptratio  zn_tax   nox_dis  \\\n",
       "0  4.177459  5.690359 -0.619897  1.408545     2.727853  5328.0  2.200420   \n",
       "1  4.368181  5.488938 -0.757153  1.602836     2.879198     0.0  2.329570   \n",
       "2  4.112512  5.488938 -0.757153  1.602836     2.879198     0.0  2.329570   \n",
       "3  3.824284  5.402677 -0.780886  1.802073     2.928524     0.0  2.776488   \n",
       "4  3.992681  5.402677 -0.780886  1.802073     2.928524     0.0  2.776488   \n",
       "\n",
       "   lstat_indus   nox_age    age_dis  \n",
       "0      11.5038 -6.738960  15.941320  \n",
       "1      64.6198 -5.769222  15.884520  \n",
       "2      28.4921 -5.431550  12.300940  \n",
       "3       6.4092 -4.897365   7.555013  \n",
       "4      11.6194 -5.113013   8.940649  \n",
       "\n",
       "[5 rows x 31 columns]"
      ]
     },
     "execution_count": 33,
     "metadata": {},
     "output_type": "execute_result"
    }
   ],
   "source": [
    "X_otro = df.copy()\n",
    "X_otro = X_otro.drop(target, axis = 1)\n",
    "X_otro.head()"
   ]
  },
  {
   "cell_type": "markdown",
   "id": "72bffa0a",
   "metadata": {},
   "source": [
    "## Modelos con tranformaciones"
   ]
  },
  {
   "cell_type": "markdown",
   "id": "745d938b",
   "metadata": {},
   "source": [
    "### Regresión lineal múltiple"
   ]
  },
  {
   "cell_type": "code",
   "execution_count": 34,
   "id": "739a915e",
   "metadata": {},
   "outputs": [
    {
     "data": {
      "text/plain": [
       "0.8366024758101421"
      ]
     },
     "execution_count": 34,
     "metadata": {},
     "output_type": "execute_result"
    }
   ],
   "source": [
    "modelo_lineal = linear_model.LinearRegression().fit(X_otro,y)\n",
    "predicciones_lineal_fe = modelo_lineal.predict(X_otro)\n",
    "\n",
    "r2_score(y_pred = predicciones_lineal_fe, y_true = y)"
   ]
  },
  {
   "cell_type": "markdown",
   "id": "a21f1bf8",
   "metadata": {},
   "source": [
    "#### ANÁLISIS:\n",
    "\n",
    "Este modelo obtuvo un R2 de 0.8366."
   ]
  },
  {
   "cell_type": "markdown",
   "id": "3930f79b",
   "metadata": {},
   "source": [
    "### Regresiones polinomiales"
   ]
  },
  {
   "cell_type": "code",
   "execution_count": 35,
   "id": "81190382",
   "metadata": {},
   "outputs": [
    {
     "data": {
      "text/plain": [
       "0.9029265037601136"
      ]
     },
     "execution_count": 35,
     "metadata": {},
     "output_type": "execute_result"
    }
   ],
   "source": [
    "degree = 2\n",
    "\n",
    "scaler = StandardScaler().fit(X_otro)\n",
    "X_scaled = scaler.transform(X_otro)\n",
    "\n",
    "poly_features = PolynomialFeatures(degree=degree)\n",
    "X_poly = poly_features.fit_transform(X_scaled)\n",
    "\n",
    "X_train, X_test, y_train, y_test = train_test_split(X_poly, y, test_size=0.3, random_state=42)\n",
    "\n",
    "model = linear_model.Ridge().fit(X_train, y_train)\n",
    " \n",
    "predicciones_poly2_nuevo_fe = model.predict(X_test)\n",
    "r2_score(y_pred=predicciones_poly2_nuevo_fe, y_true=y_test)"
   ]
  },
  {
   "cell_type": "markdown",
   "id": "56f5e69d",
   "metadata": {},
   "source": [
    "#### ANÁLISIS:\n",
    "\n",
    "Este nuevo modelo con las transformaciones de las variables obtuvo un R2 de 0.9029. Este ha sido el R2 más alto hasta el momento."
   ]
  },
  {
   "cell_type": "code",
   "execution_count": 36,
   "id": "15176797",
   "metadata": {},
   "outputs": [
    {
     "data": {
      "text/plain": [
       "0.7487287605161952"
      ]
     },
     "execution_count": 36,
     "metadata": {},
     "output_type": "execute_result"
    }
   ],
   "source": [
    "degree = 3\n",
    "\n",
    "scaler = StandardScaler().fit(X_otro)\n",
    "X_scaled = scaler.transform(X_otro)\n",
    "\n",
    "poly_features = PolynomialFeatures(degree=degree)\n",
    "X_poly = poly_features.fit_transform(X_scaled)\n",
    "\n",
    "X_train, X_test, y_train, y_test = train_test_split(X_poly, y, test_size=0.3, random_state=42)\n",
    "\n",
    "model = linear_model.Lasso().fit(X_train, y_train)\n",
    " \n",
    "predicciones_poly3_nuevo_fe = model.predict(X_test)\n",
    "r2_score(y_pred=predicciones_poly3_nuevo_fe, y_true=y_test)"
   ]
  },
  {
   "cell_type": "markdown",
   "id": "337d6bf6",
   "metadata": {},
   "source": [
    "#### ANÁLISIS:\n",
    "\n",
    "Este modelo obtuvo un R2 de 0.7487, el cual no supera al calculado anteriormente"
   ]
  },
  {
   "cell_type": "code",
   "execution_count": 37,
   "id": "d528eebc",
   "metadata": {},
   "outputs": [
    {
     "name": "stderr",
     "output_type": "stream",
     "text": [
      "C:\\Users\\arant\\anaconda3\\Lib\\site-packages\\sklearn\\linear_model\\_coordinate_descent.py:628: ConvergenceWarning: Objective did not converge. You might want to increase the number of iterations, check the scale of the features or consider increasing regularisation. Duality gap: 2.109e+02, tolerance: 3.112e+00\n",
      "  model = cd_fast.enet_coordinate_descent(\n"
     ]
    },
    {
     "data": {
      "text/plain": [
       "0.7876217449295636"
      ]
     },
     "execution_count": 37,
     "metadata": {},
     "output_type": "execute_result"
    }
   ],
   "source": [
    "degree = 4\n",
    "\n",
    "scaler = StandardScaler().fit(X_otro)\n",
    "X_scaled = scaler.transform(X_otro)\n",
    "\n",
    "poly_features = PolynomialFeatures(degree=degree)\n",
    "X_poly = poly_features.fit_transform(X_scaled)\n",
    "\n",
    "X_train, X_test, y_train, y_test = train_test_split(X_poly, y, test_size=0.3, random_state=42)\n",
    "\n",
    "model = linear_model.Lasso().fit(X_train, y_train)\n",
    " \n",
    "predicciones_poly4_nuevo_fe = model.predict(X_test)\n",
    "r2_score(y_pred=predicciones_poly4_nuevo_fe, y_true=y_test)"
   ]
  },
  {
   "cell_type": "markdown",
   "id": "4ff3ccb6",
   "metadata": {},
   "source": [
    "#### ANÁLISIS:\n",
    "\n",
    "Este modelo obtuvo un R2 de 0.7876, el cual no supera al calculado anteriormente"
   ]
  },
  {
   "cell_type": "code",
   "execution_count": 38,
   "id": "94383b12",
   "metadata": {},
   "outputs": [
    {
     "name": "stdout",
     "output_type": "stream",
     "text": [
      "El valor de nn con el mayor r2 es: 1.0\n",
      "El valor máximo de r2 es: 0.7171064206211869\n"
     ]
    }
   ],
   "source": [
    "X_train, X_test, y_train, y_test = train_test_split(X_otro, y, test_size=0.3, random_state=42)\n",
    "\n",
    "scaler = StandardScaler()\n",
    "X_train_scaled = scaler.fit_transform(X_train)\n",
    "X_test_scaled = scaler.transform(X_test)\n",
    "\n",
    "model = KNeighborsRegressor(n_neighbors = 10).fit(X_train_scaled, y_train)\n",
    "predicciones = model.predict(X_test_scaled)\n",
    "r2_score(y_pred=predicciones, y_true=y_test)\n",
    "\n",
    "nn = []\n",
    "r2 = []\n",
    "r2_train = []\n",
    "for i in range(1, 60):\n",
    "    nn.append(i)\n",
    "    model = KNeighborsRegressor(n_neighbors=i).fit(X_train_scaled, y_train)\n",
    "    predicciones = model.predict(X_test_scaled)\n",
    "    r2.append(r2_score(y_pred=predicciones, y_true=y_test))\n",
    "    predicciones_train = model.predict(X_train_scaled)\n",
    "    r2_train.append(r2_score(y_pred = predicciones_train, y_true = y_train))\n",
    "    \n",
    "resultados = pd.DataFrame({\n",
    "    'nn': nn,\n",
    "    'r2': r2,\n",
    "    'r2_train': r2_train\n",
    "})\n",
    "\n",
    "óptimo = resultados.loc[resultados['r2'].idxmax()]\n",
    "\n",
    "print(\"El valor de nn con el mayor r2 es:\", óptimo['nn'])\n",
    "print(\"El valor máximo de r2 es:\", óptimo['r2'])"
   ]
  },
  {
   "cell_type": "markdown",
   "id": "5e746728",
   "metadata": {},
   "source": [
    "#### ANÁLISIS:\n",
    "\n",
    "Este modelo obtuvo un R2 de 0.7171, el cual no supera al calculado anteriormente"
   ]
  },
  {
   "cell_type": "markdown",
   "id": "8305593b",
   "metadata": {},
   "source": [
    "## Análisis de significancia de variables"
   ]
  },
  {
   "cell_type": "code",
   "execution_count": 39,
   "id": "863473dc",
   "metadata": {},
   "outputs": [],
   "source": [
    "df_nuevo2 = df.copy()\n",
    "df_nuevo2 = df_nuevo2.columns.drop(['medv', 'nox', 'zn_tax', 'tax', 'log_age', 'ptratio', 'nox_age'])"
   ]
  },
  {
   "cell_type": "code",
   "execution_count": 40,
   "id": "3b985bb3",
   "metadata": {},
   "outputs": [
    {
     "data": {
      "text/html": [
       "<table class=\"simpletable\">\n",
       "<tr>\n",
       "       <td></td>          <th>coef</th>     <th>std err</th>      <th>t</th>      <th>P>|t|</th>  <th>[0.025</th>    <th>0.975]</th>  \n",
       "</tr>\n",
       "<tr>\n",
       "  <th>Intercept</th>   <td>  122.4658</td> <td>   10.967</td> <td>   11.167</td> <td> 0.000</td> <td>  100.916</td> <td>  144.015</td>\n",
       "</tr>\n",
       "<tr>\n",
       "  <th>crim</th>        <td>   -0.1858</td> <td>    0.028</td> <td>   -6.692</td> <td> 0.000</td> <td>   -0.240</td> <td>   -0.131</td>\n",
       "</tr>\n",
       "<tr>\n",
       "  <th>zn</th>          <td>    0.0484</td> <td>    0.014</td> <td>    3.520</td> <td> 0.000</td> <td>    0.021</td> <td>    0.075</td>\n",
       "</tr>\n",
       "<tr>\n",
       "  <th>indus</th>       <td>    0.2069</td> <td>    0.083</td> <td>    2.491</td> <td> 0.013</td> <td>    0.044</td> <td>    0.370</td>\n",
       "</tr>\n",
       "<tr>\n",
       "  <th>chas</th>        <td>    2.1657</td> <td>    0.715</td> <td>    3.027</td> <td> 0.003</td> <td>    0.760</td> <td>    3.571</td>\n",
       "</tr>\n",
       "<tr>\n",
       "  <th>rm</th>          <td>  -25.2027</td> <td>    2.571</td> <td>   -9.801</td> <td> 0.000</td> <td>  -30.255</td> <td>  -20.150</td>\n",
       "</tr>\n",
       "<tr>\n",
       "  <th>age</th>         <td>   -0.0805</td> <td>    0.019</td> <td>   -4.146</td> <td> 0.000</td> <td>   -0.119</td> <td>   -0.042</td>\n",
       "</tr>\n",
       "<tr>\n",
       "  <th>dis</th>         <td>   -8.2126</td> <td>    1.435</td> <td>   -5.725</td> <td> 0.000</td> <td>  -11.031</td> <td>   -5.394</td>\n",
       "</tr>\n",
       "<tr>\n",
       "  <th>lstat</th>       <td>   -0.3287</td> <td>    0.095</td> <td>   -3.461</td> <td> 0.001</td> <td>   -0.515</td> <td>   -0.142</td>\n",
       "</tr>\n",
       "<tr>\n",
       "  <th>rad_1</th>       <td>   10.7276</td> <td>    1.434</td> <td>    7.480</td> <td> 0.000</td> <td>    7.910</td> <td>   13.546</td>\n",
       "</tr>\n",
       "<tr>\n",
       "  <th>rad_2</th>       <td>   12.2411</td> <td>    1.314</td> <td>    9.313</td> <td> 0.000</td> <td>    9.658</td> <td>   14.824</td>\n",
       "</tr>\n",
       "<tr>\n",
       "  <th>rad_3</th>       <td>   15.1639</td> <td>    1.277</td> <td>   11.878</td> <td> 0.000</td> <td>   12.655</td> <td>   17.672</td>\n",
       "</tr>\n",
       "<tr>\n",
       "  <th>rad_4</th>       <td>   13.3479</td> <td>    1.327</td> <td>   10.062</td> <td> 0.000</td> <td>   10.741</td> <td>   15.955</td>\n",
       "</tr>\n",
       "<tr>\n",
       "  <th>rad_5</th>       <td>   12.9057</td> <td>    1.237</td> <td>   10.436</td> <td> 0.000</td> <td>   10.476</td> <td>   15.336</td>\n",
       "</tr>\n",
       "<tr>\n",
       "  <th>rad_6</th>       <td>   12.7962</td> <td>    1.455</td> <td>    8.792</td> <td> 0.000</td> <td>    9.937</td> <td>   15.656</td>\n",
       "</tr>\n",
       "<tr>\n",
       "  <th>rad_7</th>       <td>   14.2437</td> <td>    1.509</td> <td>    9.442</td> <td> 0.000</td> <td>   11.280</td> <td>   17.208</td>\n",
       "</tr>\n",
       "<tr>\n",
       "  <th>rad_8</th>       <td>   14.2226</td> <td>    1.399</td> <td>   10.170</td> <td> 0.000</td> <td>   11.475</td> <td>   16.971</td>\n",
       "</tr>\n",
       "<tr>\n",
       "  <th>rad_24</th>      <td>   16.8171</td> <td>    1.818</td> <td>    9.248</td> <td> 0.000</td> <td>   13.244</td> <td>   20.390</td>\n",
       "</tr>\n",
       "<tr>\n",
       "  <th>rm2</th>         <td>    2.2934</td> <td>    0.200</td> <td>   11.475</td> <td> 0.000</td> <td>    1.901</td> <td>    2.686</td>\n",
       "</tr>\n",
       "<tr>\n",
       "  <th>log_tax</th>     <td>   -3.8739</td> <td>    1.088</td> <td>   -3.561</td> <td> 0.000</td> <td>   -6.012</td> <td>   -1.736</td>\n",
       "</tr>\n",
       "<tr>\n",
       "  <th>log_nox</th>     <td>  -52.0693</td> <td>    6.344</td> <td>   -8.208</td> <td> 0.000</td> <td>  -64.535</td> <td>  -39.604</td>\n",
       "</tr>\n",
       "<tr>\n",
       "  <th>log_dis</th>     <td>  -17.9176</td> <td>    5.056</td> <td>   -3.544</td> <td> 0.000</td> <td>  -27.853</td> <td>   -7.982</td>\n",
       "</tr>\n",
       "<tr>\n",
       "  <th>log_ptratio</th> <td>  -15.7051</td> <td>    2.181</td> <td>   -7.201</td> <td> 0.000</td> <td>  -19.991</td> <td>  -11.419</td>\n",
       "</tr>\n",
       "<tr>\n",
       "  <th>nox_dis</th>     <td>   24.5137</td> <td>    3.801</td> <td>    6.449</td> <td> 0.000</td> <td>   17.045</td> <td>   31.983</td>\n",
       "</tr>\n",
       "<tr>\n",
       "  <th>lstat_indus</th> <td>   -0.0145</td> <td>    0.006</td> <td>   -2.638</td> <td> 0.009</td> <td>   -0.025</td> <td>   -0.004</td>\n",
       "</tr>\n",
       "<tr>\n",
       "  <th>age_dis</th>     <td>    0.1700</td> <td>    0.063</td> <td>    2.719</td> <td> 0.007</td> <td>    0.047</td> <td>    0.293</td>\n",
       "</tr>\n",
       "</table>"
      ],
      "text/latex": [
       "\\begin{center}\n",
       "\\begin{tabular}{lcccccc}\n",
       "\\toprule\n",
       "                      & \\textbf{coef} & \\textbf{std err} & \\textbf{t} & \\textbf{P$> |$t$|$} & \\textbf{[0.025} & \\textbf{0.975]}  \\\\\n",
       "\\midrule\n",
       "\\textbf{Intercept}    &     122.4658  &       10.967     &    11.167  &         0.000        &      100.916    &      144.015     \\\\\n",
       "\\textbf{crim}         &      -0.1858  &        0.028     &    -6.692  &         0.000        &       -0.240    &       -0.131     \\\\\n",
       "\\textbf{zn}           &       0.0484  &        0.014     &     3.520  &         0.000        &        0.021    &        0.075     \\\\\n",
       "\\textbf{indus}        &       0.2069  &        0.083     &     2.491  &         0.013        &        0.044    &        0.370     \\\\\n",
       "\\textbf{chas}         &       2.1657  &        0.715     &     3.027  &         0.003        &        0.760    &        3.571     \\\\\n",
       "\\textbf{rm}           &     -25.2027  &        2.571     &    -9.801  &         0.000        &      -30.255    &      -20.150     \\\\\n",
       "\\textbf{age}          &      -0.0805  &        0.019     &    -4.146  &         0.000        &       -0.119    &       -0.042     \\\\\n",
       "\\textbf{dis}          &      -8.2126  &        1.435     &    -5.725  &         0.000        &      -11.031    &       -5.394     \\\\\n",
       "\\textbf{lstat}        &      -0.3287  &        0.095     &    -3.461  &         0.001        &       -0.515    &       -0.142     \\\\\n",
       "\\textbf{rad\\_1}       &      10.7276  &        1.434     &     7.480  &         0.000        &        7.910    &       13.546     \\\\\n",
       "\\textbf{rad\\_2}       &      12.2411  &        1.314     &     9.313  &         0.000        &        9.658    &       14.824     \\\\\n",
       "\\textbf{rad\\_3}       &      15.1639  &        1.277     &    11.878  &         0.000        &       12.655    &       17.672     \\\\\n",
       "\\textbf{rad\\_4}       &      13.3479  &        1.327     &    10.062  &         0.000        &       10.741    &       15.955     \\\\\n",
       "\\textbf{rad\\_5}       &      12.9057  &        1.237     &    10.436  &         0.000        &       10.476    &       15.336     \\\\\n",
       "\\textbf{rad\\_6}       &      12.7962  &        1.455     &     8.792  &         0.000        &        9.937    &       15.656     \\\\\n",
       "\\textbf{rad\\_7}       &      14.2437  &        1.509     &     9.442  &         0.000        &       11.280    &       17.208     \\\\\n",
       "\\textbf{rad\\_8}       &      14.2226  &        1.399     &    10.170  &         0.000        &       11.475    &       16.971     \\\\\n",
       "\\textbf{rad\\_24}      &      16.8171  &        1.818     &     9.248  &         0.000        &       13.244    &       20.390     \\\\\n",
       "\\textbf{rm2}          &       2.2934  &        0.200     &    11.475  &         0.000        &        1.901    &        2.686     \\\\\n",
       "\\textbf{log\\_tax}     &      -3.8739  &        1.088     &    -3.561  &         0.000        &       -6.012    &       -1.736     \\\\\n",
       "\\textbf{log\\_nox}     &     -52.0693  &        6.344     &    -8.208  &         0.000        &      -64.535    &      -39.604     \\\\\n",
       "\\textbf{log\\_dis}     &     -17.9176  &        5.056     &    -3.544  &         0.000        &      -27.853    &       -7.982     \\\\\n",
       "\\textbf{log\\_ptratio} &     -15.7051  &        2.181     &    -7.201  &         0.000        &      -19.991    &      -11.419     \\\\\n",
       "\\textbf{nox\\_dis}     &      24.5137  &        3.801     &     6.449  &         0.000        &       17.045    &       31.983     \\\\\n",
       "\\textbf{lstat\\_indus} &      -0.0145  &        0.006     &    -2.638  &         0.009        &       -0.025    &       -0.004     \\\\\n",
       "\\textbf{age\\_dis}     &       0.1700  &        0.063     &     2.719  &         0.007        &        0.047    &        0.293     \\\\\n",
       "\\bottomrule\n",
       "\\end{tabular}\n",
       "\\end{center}"
      ],
      "text/plain": [
       "<class 'statsmodels.iolib.table.SimpleTable'>"
      ]
     },
     "execution_count": 40,
     "metadata": {},
     "output_type": "execute_result"
    }
   ],
   "source": [
    "significancia = smf.ols('medv ~' + ' + '.join(df_nuevo2), data = df).fit()\n",
    "significancia.summary().tables[1]"
   ]
  },
  {
   "cell_type": "code",
   "execution_count": 41,
   "id": "76d5c6e1",
   "metadata": {},
   "outputs": [],
   "source": [
    "X_nuevo2 = df[['crim', 'zn', 'indus', 'chas', 'rm', 'age','dis', 'lstat', 'rad_1', 'rad_2', 'rad_3', 'rad_4', 'rad_5', 'rad_7', 'rad_8', 'rad_24', 'rm2', 'log_tax','log_nox', 'log_dis', 'log_ptratio', 'nox_dis', 'lstat_indus', 'age_dis']]"
   ]
  },
  {
   "cell_type": "markdown",
   "id": "8a7d9a64",
   "metadata": {},
   "source": [
    "## Modelos solamente con variables importantes y feature engineering"
   ]
  },
  {
   "cell_type": "markdown",
   "id": "35ddd63d",
   "metadata": {},
   "source": [
    "### Regresión lineal múltiple"
   ]
  },
  {
   "cell_type": "code",
   "execution_count": 42,
   "id": "2612e56f",
   "metadata": {},
   "outputs": [
    {
     "data": {
      "text/plain": [
       "0.8347621513206149"
      ]
     },
     "execution_count": 42,
     "metadata": {},
     "output_type": "execute_result"
    }
   ],
   "source": [
    "modelo_lineal = linear_model.LinearRegression().fit(X_nuevo2,y)\n",
    "predicciones_lineal = modelo_lineal.predict(X_nuevo2)\n",
    "\n",
    "r2_score(y_pred = predicciones_lineal, y_true = y)"
   ]
  },
  {
   "cell_type": "markdown",
   "id": "a5545eed",
   "metadata": {},
   "source": [
    "#### ANÁLISIS:\n",
    "\n",
    "Este modelo que solo utiliza las variables importantes y que usa feature engineering obtuvo un R2 de 0.8347. Este no supera el R2 más alto hasta ahora."
   ]
  },
  {
   "cell_type": "code",
   "execution_count": 43,
   "id": "2472c81a",
   "metadata": {},
   "outputs": [
    {
     "data": {
      "text/plain": [
       "0.891377060508333"
      ]
     },
     "execution_count": 43,
     "metadata": {},
     "output_type": "execute_result"
    }
   ],
   "source": [
    "degree = 2\n",
    "\n",
    "scaler = StandardScaler().fit(X_nuevo2)\n",
    "X_scaled = scaler.transform(X_nuevo2)\n",
    "\n",
    "poly_features = PolynomialFeatures(degree=degree)\n",
    "X_poly = poly_features.fit_transform(X_scaled)\n",
    "\n",
    "X_train, X_test, y_train, y_test = train_test_split(X_poly, y, test_size=0.3, random_state=42)\n",
    "\n",
    "model = linear_model.Ridge().fit(X_train, y_train)\n",
    " \n",
    "predicciones_poly2_nuevo = model.predict(X_test)\n",
    "r2_score(y_pred=predicciones_poly2_nuevo, y_true=y_test)"
   ]
  },
  {
   "cell_type": "markdown",
   "id": "f811dff2",
   "metadata": {},
   "source": [
    "#### ANÁLISIS:\n",
    "\n",
    "Este modelo obtuvo un R2 de 0.8914. Aunque es bastante decente, sigue sin superar el R2 calculado anteriormente"
   ]
  },
  {
   "cell_type": "code",
   "execution_count": 44,
   "id": "bb816f94",
   "metadata": {},
   "outputs": [
    {
     "data": {
      "text/plain": [
       "0.7363228111204279"
      ]
     },
     "execution_count": 44,
     "metadata": {},
     "output_type": "execute_result"
    }
   ],
   "source": [
    "degree = 3\n",
    "\n",
    "scaler = StandardScaler().fit(X_nuevo2)\n",
    "X_scaled = scaler.transform(X_nuevo2)\n",
    "\n",
    "poly_features = PolynomialFeatures(degree=degree)\n",
    "X_poly = poly_features.fit_transform(X_scaled)\n",
    "\n",
    "X_train, X_test, y_train, y_test = train_test_split(X_poly, y, test_size=0.3, random_state=42)\n",
    "\n",
    "model = linear_model.Lasso().fit(X_train, y_train)\n",
    " \n",
    "predicciones_poly3_nuevo = model.predict(X_test)\n",
    "r2_score(y_pred=predicciones_poly3_nuevo, y_true=y_test)"
   ]
  },
  {
   "cell_type": "markdown",
   "id": "4c627f57",
   "metadata": {},
   "source": [
    "#### ANÁLISIS:\n",
    "\n",
    "Este modelo obtuvo un R2 de 0.7363."
   ]
  },
  {
   "cell_type": "code",
   "execution_count": 45,
   "id": "19526f92",
   "metadata": {},
   "outputs": [
    {
     "name": "stderr",
     "output_type": "stream",
     "text": [
      "C:\\Users\\arant\\anaconda3\\Lib\\site-packages\\sklearn\\linear_model\\_coordinate_descent.py:628: ConvergenceWarning: Objective did not converge. You might want to increase the number of iterations, check the scale of the features or consider increasing regularisation. Duality gap: 1.371e+02, tolerance: 3.112e+00\n",
      "  model = cd_fast.enet_coordinate_descent(\n"
     ]
    },
    {
     "data": {
      "text/plain": [
       "0.7818732687654193"
      ]
     },
     "execution_count": 45,
     "metadata": {},
     "output_type": "execute_result"
    }
   ],
   "source": [
    "degree = 4\n",
    "\n",
    "scaler = StandardScaler().fit(X_nuevo2)\n",
    "X_scaled = scaler.transform(X_nuevo2)\n",
    "\n",
    "poly_features = PolynomialFeatures(degree=degree)\n",
    "X_poly = poly_features.fit_transform(X_scaled)\n",
    "\n",
    "X_train, X_test, y_train, y_test = train_test_split(X_poly, y, test_size=0.3, random_state=42)\n",
    "\n",
    "model = linear_model.Lasso().fit(X_train, y_train)\n",
    " \n",
    "predicciones_poly4_nuevo = model.predict(X_test)\n",
    "r2_score(y_pred=predicciones_poly4_nuevo, y_true=y_test)"
   ]
  },
  {
   "cell_type": "markdown",
   "id": "bdc75ecf",
   "metadata": {},
   "source": [
    "#### ANÁLISIS:\n",
    "\n",
    "Este modelo obtuvo un R2 de 0.7818, el cual no es el mejor modelo hasta ahora."
   ]
  },
  {
   "cell_type": "code",
   "execution_count": 46,
   "id": "d321b78b",
   "metadata": {},
   "outputs": [
    {
     "name": "stdout",
     "output_type": "stream",
     "text": [
      "El valor de nn con el mayor r2 es: 1.0\n",
      "El valor máximo de r2 es: 0.7390515210892208\n"
     ]
    }
   ],
   "source": [
    "X_train, X_test, y_train, y_test = train_test_split(X_nuevo2, y, test_size=0.3, random_state=42)\n",
    "\n",
    "scaler = StandardScaler()\n",
    "X_train_scaled = scaler.fit_transform(X_train)\n",
    "X_test_scaled = scaler.transform(X_test)\n",
    "\n",
    "model = KNeighborsRegressor(n_neighbors = 10).fit(X_train_scaled, y_train)\n",
    "predicciones = model.predict(X_test_scaled)\n",
    "r2_score(y_pred=predicciones, y_true=y_test)\n",
    "\n",
    "nn = []\n",
    "r2 = []\n",
    "r2_train = []\n",
    "for i in range(1, 60):\n",
    "    nn.append(i)\n",
    "    model = KNeighborsRegressor(n_neighbors=i).fit(X_train_scaled, y_train)\n",
    "    predicciones = model.predict(X_test_scaled)\n",
    "    r2.append(r2_score(y_pred=predicciones, y_true=y_test))\n",
    "    predicciones_train = model.predict(X_train_scaled)\n",
    "    r2_train.append(r2_score(y_pred = predicciones_train, y_true = y_train))\n",
    "    \n",
    "resultados = pd.DataFrame({\n",
    "    'nn': nn,\n",
    "    'r2': r2,\n",
    "    'r2_train': r2_train\n",
    "})\n",
    "\n",
    "óptimo = resultados.loc[resultados['r2'].idxmax()]\n",
    "\n",
    "print(\"El valor de nn con el mayor r2 es:\", óptimo['nn'])\n",
    "print(\"El valor máximo de r2 es:\", óptimo['r2'])"
   ]
  },
  {
   "cell_type": "markdown",
   "id": "42e8765c",
   "metadata": {},
   "source": [
    "#### ANÁLISIS:\n",
    "\n",
    "El modelo KNN utilizando feature engineering y eliminando ciertas variables que no son significantes obtuvo un R2 de 0.7390"
   ]
  },
  {
   "cell_type": "markdown",
   "id": "98507a2d",
   "metadata": {},
   "source": [
    "## Mejor modelo"
   ]
  },
  {
   "cell_type": "code",
   "execution_count": 47,
   "id": "51cc8179",
   "metadata": {},
   "outputs": [
    {
     "data": {
      "text/plain": [
       "0.9029265037601136"
      ]
     },
     "execution_count": 47,
     "metadata": {},
     "output_type": "execute_result"
    }
   ],
   "source": [
    "degree = 2\n",
    "\n",
    "scaler = StandardScaler().fit(X_otro)\n",
    "X_scaled = scaler.transform(X_otro)\n",
    "\n",
    "poly_features = PolynomialFeatures(degree=degree)\n",
    "X_poly = poly_features.fit_transform(X_scaled)\n",
    "\n",
    "X_train, X_test, y_train, y_test = train_test_split(X_poly, y, test_size=0.3, random_state=42)\n",
    "\n",
    "model = linear_model.Ridge().fit(X_train, y_train)\n",
    " \n",
    "predicciones_poly2_nuevo_fe = model.predict(X_test)\n",
    "r2_score(y_pred=predicciones_poly2_nuevo_fe, y_true=y_test)"
   ]
  },
  {
   "cell_type": "code",
   "execution_count": 48,
   "id": "7780e8f3",
   "metadata": {},
   "outputs": [
    {
     "data": {
      "image/png": "[encoded data removed]",
      "text/plain": [
       "<Figure size 640x480 with 1 Axes>"
      ]
     },
     "metadata": {},
     "output_type": "display_data"
    }
   ],
   "source": [
    "calibracion(predicciones_poly2_nuevo_fe, y_test, bins=10)"
   ]
  },
  {
   "cell_type": "markdown",
   "id": "8005401b",
   "metadata": {},
   "source": [
    "En conlusión, el mejor modelo obtenido fue el de **regresión polinomial de grado 2 utilizando feature engineering y sin eliminar ninguna variable**. Este modelo obtuvo un **R2 de 0.9029**, lo cual significa que el modelo explica el 90.29% de la variación de los datos. Este R2 es muy bueno, indicando una buena precisión del modelo al momento de ajustarse a los datos reales. \n",
    "\n",
    "En la gráfica anterior podemos ver como el modelo obtenido se ajusta de una gran manera a los datos reales. Es evidente que aún hay pequeñas fallas en el modelo, sin embargo, la precisión que se obtuve fue bastante alta. \n",
    "\n",
    "Con este trabajo pudimos ver la importancia de analizar a profundidad los datos dados para así poder mejorar nuestros modelos predictivos. En este caso, las variables transformadas utilizando feature engineering fue de gran ayuda, ya que así fue como se logró mejorar la precisión del modelo. "
   ]
  }
 ],
 "metadata": {
  "kernelspec": {
   "display_name": "Python 3 (ipykernel)",
   "language": "python",
   "name": "python3"
  },
  "language_info": {
   "codemirror_mode": {
    "name": "ipython",
    "version": 3
   },
   "file_extension": ".py",
   "mimetype": "text/x-python",
   "name": "python",
   "nbconvert_exporter": "python",
   "pygments_lexer": "ipython3",
   "version": "3.11.4"
  }
 },
 "nbformat": 4,
 "nbformat_minor": 5
}
