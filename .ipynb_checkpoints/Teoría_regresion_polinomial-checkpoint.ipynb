{
 "cells": [
  {
   "cell_type": "code",
   "execution_count": null,
   "metadata": {},
   "outputs": [],
   "source": []
  },
  {
   "cell_type": "markdown",
   "metadata": {},
   "source": [
    "# Regresión Polinómica de Grado 2\n",
    "\n",
    "La regresión polinómica se utiliza para modelar relaciones no lineales entre la variable independiente \\(x\\) y la variable dependiente \\(y\\). Para un polinomio de grado 2, el modelo es:\n",
    "\n",
    "$\\hat{y} = \\theta_0 + \\theta_1 x + \\theta_2 x^2$\n",
    "\n",
    "Donde:\n",
    "- $(\\hat{y})$ es la predicción.\n",
    "- $(\\theta_0, \\theta_1, \\theta_2)$ son los parámetros del modelo.\n",
    "- $(x$ es la característica de entrada.\n",
    "\n",
    "---\n",
    "\n",
    "## Función de costo\n",
    "\n",
    "Usamos la función de error cuadrático medio (MSE) como métrica para minimizar:\n",
    "\n",
    "$J(\\theta_0, \\theta_1, \\theta_2) = \\frac{1}{2m} \\sum_{i=1}^m \\left( \\hat{y}^{(i)} - y^{(i)} \\right)^2$\n",
    "\n",
    "Donde:\n",
    "- $m$ es el número de ejemplos en el conjunto de datos.\n",
    "- $(y^{(i)})$ es el valor real de la observación \\(i\\).\n",
    "- $(\\hat{y}^{(i)} = \\theta_0 + \\theta_1 x^{(i)} + \\theta_2 (x^{(i)})^2$\n",
    "\n",
    "---\n",
    "\n",
    "## Derivadas parciales\n",
    "\n",
    "Para minimizar la función de costo, calculamos las derivadas parciales de \\(J\\) con respecto a cada parámetro:\n",
    "\n",
    "$\\frac{\\partial J}{\\partial \\theta_0} = \\frac{1}{m} \\sum_{i=1}^m \\left( \\hat{y}^{(i)} - y^{(i)} \\right)$\n",
    "\n",
    "$\\frac{\\partial J}{\\partial \\theta_1} = \\frac{1}{m} \\sum_{i=1}^m \\left( \\hat{y}^{(i)} - y^{(i)} \\right) x^{(i)}$\n",
    "\n",
    "$\\frac{\\partial J}{\\partial \\theta_2} = \\frac{1}{m} \\sum_{i=1}^m \\left( \\hat{y}^{(i)} - y^{(i)} \\right) (x^{(i)})^2$\n",
    "\n",
    "---\n",
    "\n",
    "## Descenso por gradiente\n",
    "\n",
    "Los parámetros \\(\\theta_0, \\theta_1, \\theta_2\\) se actualizan iterativamente según la regla del descenso por gradiente:\n",
    "\n",
    "$\\theta_j := \\theta_j - \\alpha \\frac{\\partial J}{\\partial \\theta_j}$\n",
    "\n",
    "Donde:\n",
    "- $\\alpha$ es la tasa de aprendizaje, que determina el tamaño de los pasos.\n",
    "- $(j \\in \\{0, 1, 2\\}$) indica cada parámetro.\n",
    "\n",
    "De forma explícita, las actualizaciones son:\n",
    "\n",
    "$\\theta_0 := \\theta_0 - \\alpha \\cdot \\frac{1}{m} \\sum_{i=1}^m \\left( \\hat{y}^{(i)} - y^{(i)} \\right) $\n",
    "\n",
    "$\\theta_1 := \\theta_1 - \\alpha \\cdot \\frac{1}{m} \\sum_{i=1}^m \\left( \\hat{y}^{(i)} - y^{(i)} \\right) x^{(i)}$\n",
    "\n",
    "$\\theta_2 := \\theta_2 - \\alpha \\cdot \\frac{1}{m} \\sum_{i=1}^m \\left( \\hat{y}^{(i)} - y^{(i)} \\right) (x^{(i)})^2$\n",
    "\n",
    "---\n",
    "\n",
    "## Iteración hasta convergencia\n",
    "\n",
    "El proceso completo se puede resumir en los siguientes pasos:\n",
    "\n",
    "1. Inicializar los parámetros $\\theta_0$, $\\theta_1$, $\\theta_2$ con valores aleatorios o ceros.\n",
    "2. Calcular las predicciones $\\hat{y}^{(i)}$ para todos los datos.\n",
    "3. Calcular las derivadas parciales $\\frac{\\partial J}{\\partial \\theta_j}$.\n",
    "4. Actualizar los parámetros $\\theta_0$, $\\theta_1$, $\\theta_2$) usando las reglas del descenso por gradiente.\n",
    "5. Repetir hasta que \\(J\\) converja.\n",
    "\n",
    "---\n",
    "\n",
    "## Visualización del modelo\n",
    "\n",
    "Finalmente, podemos graficar el modelo ajustado sobre los datos observados para evaluar su desempeño.\n"
   ]
  },
  {
   "cell_type": "code",
   "execution_count": 69,
   "metadata": {},
   "outputs": [
    {
     "data": {
      "image/png": "[encoded data removed]",
      "text/plain": [
       "<Figure size 432x288 with 1 Axes>"
      ]
     },
     "metadata": {
      "needs_background": "light"
     },
     "output_type": "display_data"
    }
   ],
   "source": [
    "import numpy as np\n",
    "import matplotlib.pyplot as plt\n",
    "from sklearn.linear_model import LinearRegression\n",
    "from sklearn.preprocessing import PolynomialFeatures\n",
    "\n",
    "# Generar datos simulados\n",
    "np.random.seed(42)\n",
    "X = np.sort(5 * np.random.rand(50, 1), axis=0)  # Valores entre 0 y 5\n",
    "y = np.sin(X).ravel() + np.random.normal(scale=0.2, size=X.shape[0])  # Seno con ruido\n",
    "\n",
    "# Crear la transformación polinómica de grado 2\n",
    "degree = 2\n",
    "poly_features = PolynomialFeatures(degree=degree)\n",
    "X_poly = poly_features.fit_transform(X)  # Transformar X a características polinómicas\n",
    "\n",
    "# Ajustar el modelo de regresión lineal\n",
    "model = LinearRegression()\n",
    "model.fit(X_poly, y)\n",
    "\n",
    "# Predecir valores\n",
    "X_fit = np.linspace(0, 5, 100).reshape(-1, 1)\n",
    "X_fit_poly = poly_features.transform(X_fit)  # Transformar X_fit a características polinómicas\n",
    "y_fit = model.predict(X_fit_poly)\n",
    "\n",
    "# Graficar los resultados\n",
    "plt.scatter(X, y, color=\"blue\", label=\"Datos\")\n",
    "plt.plot(X_fit, y_fit, color=\"red\", label=\"Ajuste polinómico (grado 2)\")\n",
    "plt.xlabel(\"X\")\n",
    "plt.ylabel(\"y\")\n",
    "plt.legend()\n",
    "plt.title(\"Regresión Polinómica de Grado 2\")\n",
    "plt.show()\n"
   ]
  },
  {
   "cell_type": "code",
   "execution_count": 73,
   "metadata": {},
   "outputs": [],
   "source": [
    "X1 = np.sort(5 * np.random.rand(150, 1), axis=0)  # Valores entre 0 y 5\n",
    "y1 = np.sin(X1).ravel() + np.random.normal(scale=0.2, size=X1.shape[0]) \n",
    "X1_poly = poly_features.fit_transform(X1)\n",
    "predictions_y1 = model.predict(X1_poly)\n",
    "\n",
    "from sklearn.metrics import r2_score"
   ]
  },
  {
   "cell_type": "code",
   "execution_count": 74,
   "metadata": {},
   "outputs": [
    {
     "data": {
      "text/plain": [
       "0.8919317415350381"
      ]
     },
     "execution_count": 74,
     "metadata": {},
     "output_type": "execute_result"
    }
   ],
   "source": [
    "r2_score(y_pred=predictions_y1, y_true=y1)"
   ]
  },
  {
   "cell_type": "code",
   "execution_count": null,
   "metadata": {},
   "outputs": [],
   "source": []
  }
 ],
 "metadata": {
  "kernelspec": {
   "display_name": "Python 3",
   "language": "python",
   "name": "python3"
  },
  "language_info": {
   "codemirror_mode": {
    "name": "ipython",
    "version": 3
   },
   "file_extension": ".py",
   "mimetype": "text/x-python",
   "name": "python",
   "nbconvert_exporter": "python",
   "pygments_lexer": "ipython3",
   "version": "3.8.5"
  }
 },
 "nbformat": 4,
 "nbformat_minor": 4
}
