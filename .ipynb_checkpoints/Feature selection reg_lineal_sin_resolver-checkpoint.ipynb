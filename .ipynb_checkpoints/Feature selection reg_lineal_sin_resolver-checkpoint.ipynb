{
 "cells": [
  {
   "cell_type": "code",
   "execution_count": 16,
   "metadata": {},
   "outputs": [],
   "source": [
    "# Importar librerías necesarias\n",
    "import pandas as pd\n",
    "import numpy as np\n",
    "from itertools import combinations\n",
    "from sklearn.model_selection import train_test_split\n",
    "from sklearn import linear_model\n",
    "from sklearn.metrics import r2_score\n",
    "from sklearn.preprocessing import PolynomialFeatures\n",
    "import matplotlib.pyplot as plt\n",
    "\n",
    "import warnings\n",
    "warnings.filterwarnings('ignore')\n",
    "\n",
    "# Recargar el archivo\n",
    "file_path = \"housing.csv\"\n",
    "df = pd.read_csv(file_path)\n",
    "\n",
    "target = 'median_house_value'\n"
   ]
  },
  {
   "cell_type": "markdown",
   "metadata": {},
   "source": [
    "### Crea una regresión lineal con cross validation"
   ]
  },
  {
   "cell_type": "code",
   "execution_count": 1,
   "metadata": {},
   "outputs": [],
   "source": [
    "# Dummies y NAS\n"
   ]
  },
  {
   "cell_type": "code",
   "execution_count": 2,
   "metadata": {},
   "outputs": [],
   "source": [
    "# Define X, y\n",
    "\n",
    "# División en conjunto de entrenamiento y prueba\n",
    "\n",
    "# Entrenar modelo con interacciones\n",
    "\n",
    "# Predicciones y r2, cuida el nombre de la prediccion \n",
    "\n"
   ]
  },
  {
   "cell_type": "code",
   "execution_count": 6,
   "metadata": {},
   "outputs": [],
   "source": [
    "## Crea una función de calibracion"
   ]
  },
  {
   "cell_type": "markdown",
   "metadata": {},
   "source": [
    "### Standard escaler\n",
    "\n",
    "Escalar valor a media 0 y varianza 1\n",
    "\n",
    "\n",
    "$Z = \\frac{x - \\mu}{\\sigma}$\n"
   ]
  },
  {
   "cell_type": "code",
   "execution_count": 4,
   "metadata": {},
   "outputs": [],
   "source": [
    "X_prueba = df[['total_rooms', 'median_income']]\n"
   ]
  },
  {
   "cell_type": "code",
   "execution_count": null,
   "metadata": {},
   "outputs": [],
   "source": []
  },
  {
   "cell_type": "markdown",
   "metadata": {},
   "source": [
    "### Polinomio grado 2 y escalamiento"
   ]
  },
  {
   "cell_type": "code",
   "execution_count": 5,
   "metadata": {},
   "outputs": [],
   "source": [
    "\n",
    "degree = 2\n",
    "\n",
    "# Aplicar StandardScaler\n",
    "\n",
    "# Features polinomiales\n",
    "\n",
    "# Ajustar el modelo de regresión Lasso o ridge \n",
    "\n",
    "# Predicciones y r2, cuida el nombre de la prediccion \n"
   ]
  },
  {
   "cell_type": "code",
   "execution_count": null,
   "metadata": {},
   "outputs": [],
   "source": []
  },
  {
   "cell_type": "markdown",
   "metadata": {},
   "source": [
    "#### Polinomio grado 3"
   ]
  },
  {
   "cell_type": "code",
   "execution_count": 8,
   "metadata": {},
   "outputs": [],
   "source": [
    "\n",
    "degree = 3\n",
    "\n",
    "# Aplicar StandardScaler\n",
    "\n",
    "# Features polinomiales\n",
    "\n",
    "# Ajustar el modelo de regresión Lasso o ridge \n",
    "\n",
    "# Predicciones y r2, cuida el nombre de la prediccion \n"
   ]
  },
  {
   "cell_type": "code",
   "execution_count": null,
   "metadata": {},
   "outputs": [],
   "source": []
  },
  {
   "cell_type": "markdown",
   "metadata": {},
   "source": [
    "### Feature engenieering \n",
    "\n",
    "Per room\n",
    "* Population per room\n",
    "* Bedrooms per room\n",
    "\n",
    "Per household\n",
    "* Population per household\n",
    "* Rooms per household\n",
    "* Bedrooms per household\n",
    "\n",
    "Per population\n",
    "* Income per person\n",
    "* Rooms per person\n",
    "\n",
    "Transformaciones\n",
    "* Logaritmo ingreso\n",
    "* Raíz de total rooms \n",
    "* Median income **2 "
   ]
  },
  {
   "cell_type": "code",
   "execution_count": 8,
   "metadata": {},
   "outputs": [],
   "source": []
  },
  {
   "cell_type": "code",
   "execution_count": 9,
   "metadata": {},
   "outputs": [],
   "source": [
    "# Correlación \n"
   ]
  },
  {
   "cell_type": "code",
   "execution_count": 10,
   "metadata": {},
   "outputs": [],
   "source": [
    "# Define los valores numericos\n"
   ]
  },
  {
   "cell_type": "markdown",
   "metadata": {},
   "source": [
    "### Realiza un bivariado de las variables numericas"
   ]
  },
  {
   "cell_type": "code",
   "execution_count": null,
   "metadata": {},
   "outputs": [],
   "source": []
  },
  {
   "cell_type": "code",
   "execution_count": null,
   "metadata": {},
   "outputs": [],
   "source": []
  },
  {
   "cell_type": "code",
   "execution_count": null,
   "metadata": {},
   "outputs": [],
   "source": []
  },
  {
   "cell_type": "markdown",
   "metadata": {},
   "source": [
    "\n",
    "### Regresion lineal feature eng"
   ]
  },
  {
   "cell_type": "code",
   "execution_count": 10,
   "metadata": {},
   "outputs": [],
   "source": [
    "## vuelve a empezar\n",
    "\n",
    "# Dummies\n",
    "\n",
    "# Crear dataset con las variables seleccionadas\n",
    "\n",
    "\n",
    "# Manejo de valores nulos (rellenar con la mediana)\n",
    "\n",
    "# División en conjunto de entrenamiento y prueba\n",
    "\n",
    "# Entrenar modelo con interacciones\n",
    "\n",
    "\n",
    "# PRedicicones \n"
   ]
  },
  {
   "cell_type": "markdown",
   "metadata": {},
   "source": [
    "### Regresion polinomial grado 2 feature eng "
   ]
  },
  {
   "cell_type": "code",
   "execution_count": 11,
   "metadata": {},
   "outputs": [],
   "source": [
    "\n",
    "degree = 2\n",
    "\n",
    "# Aplicar StandardScaler\n",
    "\n",
    "# Poli\n",
    "\n",
    "# Ajustar el modelo de regresión lineal\n",
    "\n",
    "# Predicicones\n"
   ]
  },
  {
   "cell_type": "markdown",
   "metadata": {},
   "source": [
    "### Regresion polinomial grado 3 feature eng "
   ]
  },
  {
   "cell_type": "code",
   "execution_count": 12,
   "metadata": {},
   "outputs": [],
   "source": [
    "\n",
    "degree = 3\n",
    "\n",
    "# Aplicar StandardScaler\n",
    "\n",
    "# Ajustar el modelo de regresión lineal\n",
    "\n",
    "# Prediccions\n"
   ]
  },
  {
   "cell_type": "markdown",
   "metadata": {},
   "source": [
    "### Transformar numericos a categoricos "
   ]
  },
  {
   "cell_type": "code",
   "execution_count": 16,
   "metadata": {},
   "outputs": [],
   "source": [
    "# Numericos ni ocean_proximity ni median_house_value\n",
    "\n",
    "# X = df.copy() y drop target\n"
   ]
  },
  {
   "cell_type": "code",
   "execution_count": 15,
   "metadata": {},
   "outputs": [],
   "source": [
    "# División en conjunto de entrenamiento y prueba\n",
    "\n",
    "# Crea funcion bins para las variables numericas \n",
    "\n",
    "# Aplica la foruma de bins a x_trian y x_test\n",
    "\n",
    "# Bin features\n",
    "\n",
    "\n",
    "# Final features \n",
    "\n",
    "# Apply get dummies to both pd.get_dummies(X_train[final_features], columns=bin_features, drop_first=True)\n",
    "\n",
    "# Entrenar modelo con interacciones\n",
    "\n"
   ]
  },
  {
   "cell_type": "code",
   "execution_count": null,
   "metadata": {},
   "outputs": [],
   "source": []
  }
 ],
 "metadata": {
  "kernelspec": {
   "display_name": "Python 3",
   "language": "python",
   "name": "python3"
  },
  "language_info": {
   "codemirror_mode": {
    "name": "ipython",
    "version": 3
   },
   "file_extension": ".py",
   "mimetype": "text/x-python",
   "name": "python",
   "nbconvert_exporter": "python",
   "pygments_lexer": "ipython3",
   "version": "3.8.5"
  }
 },
 "nbformat": 4,
 "nbformat_minor": 4
}
