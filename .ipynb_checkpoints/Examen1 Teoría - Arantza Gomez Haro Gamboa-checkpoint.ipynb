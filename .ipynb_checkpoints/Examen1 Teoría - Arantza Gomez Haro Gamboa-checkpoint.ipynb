{
 "cells": [
  {
   "cell_type": "markdown",
   "metadata": {},
   "source": [
    "### Sección 1: Conceptos Teóricos (40 puntos)\n",
    "(5 pts) ¿Cuál es la diferencia entre una regresión lineal simple y una regresión lineal múltiple? Da un ejemplo de cada una.\n",
    "\n",
    "(5 pts) Explica el problema de overfitting y cómo podrías mitigarlo \n",
    "\n",
    "(5 pts) En regresión polinomial, ¿por qué es necesario realizar un análisis de validación cruzada antes de elegir el grado del polinomio?\n",
    "\n",
    "(5 pts) ¿Qué es una prueba de hipótesis en el contexto de regresión lineal? Explica cómo se interpreta el p-value de un coeficiente.\n",
    "\n",
    "(5 pts) ¿Por qué convertir variables categóricas en dummies puede mejorar el desempeño de un modelo? ¿En qué casos podríamos usar una codificación diferente?\n",
    "\n",
    "(5 pts) Explica como se obtienen los coeficientes de una regresión lineal con decenso en gradiente (tanto para lineal como polinomio), me tiene que quedar claro que le entiendes\n",
    "\n",
    "(5 pts) Explica que es el teorema de Frisch-Waugh-Lovell\n",
    "\n",
    "(5 pts) Explica que es K-nearest neighboors"
   ]
  },
  {
   "cell_type": "markdown",
   "metadata": {},
   "source": [
    "**1. ¿Cuál es la diferencia entre una regresión lineal simple y una regresión lineal múltiple? Da un ejemplo de cada una.**\n",
    "\n",
    "- Una regresión lineal simple es un modelo que nos permite entender la relación que existe entre una variable dependiente y una sola independiente. Además, nos permite predecir como una variable afecta a la otra mediante una línea recta que se ajusta de cierta manera a los datos reales. Dicho esto, una regresión lineal múltiple es un modelo que nos permite entender la relación que existe entre una variable dependiente y más de una variable independiente. Un ejemplo de una regresión lineal simple es ver la relación entre la cantidad de bicis rentadas en cuestión de la temperatura que hubo ese día. Es decir, $\\hat{y} = B_0 + B_1x_1$, solamente hay una variable de x. Un ejemplo de una regresión lineal múltiple sería este mismo, la relación entre cantidad de bicis en cuestión de la temperatura, sin embargo, se le agregarían más variables independientes como humedad, precipitación, etc. Es decir, $\\hat{y} = B_0 + B_1x_1 + B_2x_2 + B_3x_3$, hay múltiples variables que se toman en cuenta. Este modelo se puede hacer hasta \"n\" cantidad de variables."
   ]
  },
  {
   "cell_type": "markdown",
   "metadata": {},
   "source": [
    "**2. Explica el problema de overfitting y cómo podrías mitigarlo**\n",
    "\n",
    "- Overfitting es cuando un modelo de ajusta de más a los datos reales, haciendo que el modelo no sea efectivo. Esto se puede mitigar a través de regularizaciones como Ridge o Lasso donde se penalizan las betas. Con Ridge, se reduce el impacto de las variables importantes del modelo sin eliminarlas por completo. Mientras que Lasso reduce el impacto de variables menos importantes, eliminadolas por completo, y deja solo las variables más importantes para el modelo. También, se podrían hacer análisis bivariados para entender mejor la relación existente entre variables, y así hacer las transformaciones y modificaciones correctas."
   ]
  },
  {
   "cell_type": "markdown",
   "metadata": {},
   "source": [
    "**3. En regresión polinomial, ¿por qué es necesario realizar un análisis de validación cruzada antes de elegir el grado del polinomio?**\n",
    "\n",
    "- El cross validation nos ayuda a dividir los datos de entrenamiento (train) y de prueba (test) para así entrenar y evaluar el modelo. El objetivo de esto es medir la capacidad del modelo para generalizar el modelo a nueva información y así poder evitar hacer overfitting y que no solo se memorice los datos de entrenamiento. En el caso de una regresión polinomial, el hacer cross validation sirve para saber el nivel de polinomio que se debe de hacer para la regresión de la manera óptima"
   ]
  },
  {
   "cell_type": "markdown",
   "metadata": {},
   "source": [
    "**4. ¿Qué es una prueba de hipótesis en el contexto de regresión lineal? Explica cómo se interpreta el p-value de un coeficiente.**\n",
    "\n",
    "- Una prueba de hipótesis en el contexto de una regresión lineal sería ver la significancia de los coeficientes obtenidos en la regresión lineal. En el caso de los p-values, si el p-value es mayor a 0.05 ese coeficiente analizando no es de significancia en la regresión. Si fuera lo contrario, que el p-value sea menor a 0.05, el coeficiente si es importante para la regresión."
   ]
  },
  {
   "cell_type": "markdown",
   "metadata": {},
   "source": [
    "**5. ¿Por qué convertir variables categóricas en dummies puede mejorar el desempeño de un modelo? ¿En qué casos podríamos usar una codificación diferente?** \n",
    "\n",
    "- El categorizar variables se utiliza cuando tienes una variable categórica, yea sean palabras o variables con cierto orden. Es necesario hacer estas variables dummies para así poder convertirlo en algo numérico y que no importe el orden. Esto mejora el desempeño general del modelo ya que se pueden implementar una mayor cantidad de variables al modelo, sin importar si son palabras o datos de otro tipo. Una codificación diferente sería utilizando bins y cuartiles para categorizar variables. Es decir, las categorías caerán en cierto cuartil dándonos información valiosa para el modelo, como puede ser alto, medio y bajo."
   ]
  },
  {
   "cell_type": "markdown",
   "metadata": {},
   "source": [
    "**6. Explica como se obtienen los coeficientes de una regresión lineal con decenso en gradiente (tanto para lineal como polinomio), me tiene que quedar claro que le entiendes**\n",
    "\n",
    "- El descenso en gradiente es un método de optimización donde se busca minimizar una función a través del gradiente (o sea a través de la derivada de la función). En nuestro caso, tenemos la función de pérdida $L = \\frac{1}{2}\\sum(x_1 B_1 -y)^2$ (LINEAL) y $J(\\theta_0, \\theta_1, \\theta_2) = \\frac{1}{2m} \\sum_{i=1}^m \\left( \\hat{y}^{(i)} - y^{(i)} \\right)^2$ (POLINOMIAL) y su respectiva gráfica que es una parábola concava hacía arriba. Tomando esto en cuenta, se considera que tomas un punto de manera aleatoria en cualquier lado de la gráfica y queremos que el punto se mueva cada vez más cerca al punto mínimo, es decir, donde la pérdida sea practicamente cero. Es decir, se necesita derivar la función y repetirlo hasta converger al punto mínimo, a través de iteraciones del punto. Este proceso nos daría lo siguiente: $B_1 = B - \\alpha \\frac{\\partial L}{\\partial B_1}$ (LINEAL) y $\\theta_j := \\theta_j - \\alpha \\frac{\\partial J}{\\partial \\theta_j}$ (POLINOMIAL). Esta es la función que permite el movimiento del punto a través de la parábola. El valor obtenido de $B_1$ sería el nuevo coeficiente de la regresión lineal, el cual se tendrá que implementar en la regresión para poder repetir el proceso hasta obtener todos los valores de los coeficientes y que el punto se acerque cada vez más al mínimo."
   ]
  },
  {
   "cell_type": "markdown",
   "metadata": {},
   "source": [
    "**7. Explica que es el teorema de Frisch-Waugh-Lovell**\n",
    "\n",
    "El objetivo del Teorema de Frisch-Waugh-Lovell es buscar el efecto causal de alguna de las variables (x) en el modelo de regresión.\n",
    "\n",
    "$$\n",
    "\\hat{y} = B_0 + B_1x_1 + B_2x_2 + B_3x_3\n",
    "$$\n",
    "- Esta ecuación representa el modelo de regresión, donde $x_1$, $x_2$ y $x_3$ son las variables a analizar y $B_1$, $B_2$ y $B_3$ son las betas o coeficientes de cada variable.\n",
    "\n",
    "$$\n",
    "\\hat{y} = \\Theta_0 + \\Theta_2 x_2 + \\Theta_3 x_3\n",
    "$$\n",
    "- Para analizar la causalidad de la variable $x_1$, se debe hacer un modelo de regresión donde no se incluye esta variable. Es decir, se hace una predicción sin incluir esta variable para saber lo que se explica con $x_2$ y $x_3$.\n",
    "\n",
    "$$\n",
    "y - \\hat{y} = \\text{residuales de } y\n",
    "$$\n",
    "- Se hace la resta entre $y$ y $\\hat{y}$ para así obtener los residuales de y. Esto nos da lo que no explica $x_2$ y $x_3$ de $y$, ya que se esta restando la $y$ con la $\\hat{y}$ que es la predicción hecha con $x_2$ y $x_3$.\n",
    "\n",
    "$$\n",
    "\\hat{x}_1 = \\gamma_0 + \\gamma_2 x_2 + \\gamma_3 x_3\n",
    "$$\n",
    "- Se hace otra ecuación donde se busca predecir $x_1$ mediante $x_2$ y $x_3$. Es una segunda regresión ahora para $x_1$\n",
    "\n",
    "$$\n",
    "x_1 - \\hat{x}_1 = \\text{residuales de } x\n",
    "$$\n",
    "- Al hacer la resta de $x_1$ y $\\hat{x}_1$, obtenemos lo que $x_2$ y $x_3$ no lograron explicar de $x_1$. Esto se pone como residuales de x\n",
    "\n",
    "$$\n",
    "(y - \\hat{y}) = B_1(x - \\hat{x})\n",
    "$$\n",
    "- Por último, se hace una regresión de los residuales de y contra los residuales de x. Con esto se obtiene el valor de $B_1$, el cual debe de ser igual al $B_1$ original. Esto nos da el efecto causal que tiene la variable $x_1$ sobre el modelo de regresión inicial."
   ]
  },
  {
   "cell_type": "markdown",
   "metadata": {},
   "source": [
    "**8. Explica que es K-nearest neighboors**\n",
    "\n",
    "- KNN (K Nearest Neighbors) es una algorítmo que se utiliza para clasificaciones y regresiones. En el caso de regresiones, se busca predecir el valor de un punto en una gráfica. Utilizando las distancias euclidianas se elige una cantidad óptima (K) de vecinos cercanos para calcular el promedio de sus valores y obtener el valor de la predicción. Por otro lado, en el caso de clasificaciones, se utiliza el KNN para elegir los K vecinos más cercanos, se predice la clase más común entre ellos y se le asigna al punto."
   ]
  },
  {
   "cell_type": "markdown",
   "metadata": {},
   "source": [
    "### Sección 2 (20 puntos)\n",
    "\n",
    "(10 pts) Dado el siguiente dataset de casas:\n",
    "\n",
    "```\n",
    "data = pd.DataFrame({\n",
    "    \"Tamaño_m2\": [50, 80, 120, 200, 150, 90, 175, 60, 220, 130],\n",
    "    \"Habitaciones\": [1, 2, 3, 4, 3, 2, 3, 1, 5, 3],\n",
    "    \"Precio_1000s\": [110, 170, 250, 400, 270, 200, 330, 190, 600, 380]  })\n",
    "````\n",
    "\n",
    "\n",
    "\n",
    "a) Ajusta una regresión lineal para predecir el precio en función del tamaño y número de habitaciones, dime el R2 y coeficientes.\n",
    "\n",
    "\n",
    "b) Imagina que el coeficiente de Tamaño es 2.5 y el coeficiente de Habitaciones es 20, ¿cómo interpretarías estos valores?  \n",
    "\n",
    "(20 pts) Imagina que entrenas un modelo de regresión polinomial de grado 5 y obtienes un 𝑅2 de 0.98 en el conjunto de entrenamiento y 0.65 en el conjunto de prueba.\n",
    "\n",
    "- a) ¿Qué problema podrías estar enfrentando?\n",
    "- b) ¿Cómo lo solucionarías sin reducir demasiado la capacidad del modelo?\n"
   ]
  },
  {
   "cell_type": "code",
   "execution_count": 1,
   "metadata": {},
   "outputs": [],
   "source": [
    "import pandas as pd\n",
    "import numpy as np\n",
    "from sklearn import linear_model\n",
    "from sklearn.metrics import r2_score"
   ]
  },
  {
   "cell_type": "code",
   "execution_count": 2,
   "metadata": {},
   "outputs": [],
   "source": [
    "data = pd.DataFrame({\n",
    "    \"Tamaño_m2\": [50, 80, 120, 200, 150, 90, 175, 60, 220, 130],\n",
    "    \"Habitaciones\": [1, 2, 3, 4, 3, 2, 3, 1, 5, 3],\n",
    "    \"Precio_1000s\": [110, 170, 250, 400, 270, 200, 330, 190, 600, 380]  })"
   ]
  },
  {
   "cell_type": "code",
   "execution_count": 3,
   "metadata": {},
   "outputs": [],
   "source": [
    "target = 'Precio_1000s'\n",
    "y = data[target]"
   ]
  },
  {
   "cell_type": "code",
   "execution_count": 4,
   "metadata": {},
   "outputs": [
    {
     "data": {
      "text/plain": [
       "0.8661894650001757"
      ]
     },
     "execution_count": 4,
     "metadata": {},
     "output_type": "execute_result"
    }
   ],
   "source": [
    "X_multiple = data[['Tamaño_m2', 'Habitaciones']]\n",
    "model_multiple = linear_model.LinearRegression()\n",
    "model_multiple.fit(X_multiple,y)\n",
    "\n",
    "predicciones_multiple = model_multiple.predict(X_multiple)\n",
    "r2_score( y_true = y, y_pred = predicciones_multiple)"
   ]
  },
  {
   "cell_type": "code",
   "execution_count": 5,
   "metadata": {},
   "outputs": [
    {
     "data": {
      "text/plain": [
       "array([ 0.44694488, 86.33385558])"
      ]
     },
     "execution_count": 5,
     "metadata": {},
     "output_type": "execute_result"
    }
   ],
   "source": [
    "model_multiple.coef_"
   ]
  },
  {
   "cell_type": "markdown",
   "metadata": {},
   "source": [
    "El valor de R2 que se obtuvo con la regresión lineal anterior fue de 0.8661. Esto significa que el modelo explica el 86.61% de la variación de los datos. Por otro lado, el coeficiente de Tamaño_m2 fue de 0.4469 y el de Habitaciones fue de 86.3338."
   ]
  },
  {
   "cell_type": "markdown",
   "metadata": {},
   "source": [
    "**b) Imagina que el coeficiente de Tamaño es 2.5 y el coeficiente de Habitaciones es 20, ¿cómo interpretarías estos valores?**\n",
    "\n",
    "- Tomando en cuenta que se tiene 2.5 como coeficiente de Tamaño y 20 como coeficiente de Habitaciones, podemos decir que la variable de Habitaciones tiene un impacto mayor en el modelo establecido. Es decir, cada habitación que se aumenta equivale a un aumento de 20,000 en el precio de la casa, mientras que cada m2 que se aumenta equivale a un aumento de 2,500 en el precio."
   ]
  },
  {
   "cell_type": "markdown",
   "metadata": {},
   "source": [
    "**(20 pts) Imagina que entrenas un modelo de regresión polinomial de grado 5 y obtienes un 𝑅2 de 0.98 en el conjunto de entrenamiento y 0.65 en el conjunto de prueba.**\n",
    "\n",
    "a) ¿Qué problema podrías estar enfrentando?\n",
    "\n",
    "- El problema con el cual nos podríamos estar enfrentando sería un tema de overfitting. Considerando que se obtiene un R2 de 0.98 (muy elevado) es muy probable que exista este problema donde se está ajustando de más el modelo a los datos.\n",
    "\n",
    "b) ¿Cómo lo solucionarías sin reducir demasiado la capacidad del modelo?\n",
    "- Esto se podría solucionar utilizando regularizaciones como Ridge o Lasso, o incluso se podría hacer un análisis bivariado para realmente entender los patrones o las formas que tiene la gráfica de la relación de las variables. Con esto se podrían hacer las transformaciones o modificaciones necesarias y evitar ajustar demasiado el modelo."
   ]
  },
  {
   "cell_type": "markdown",
   "metadata": {},
   "source": [
    "### Sección 3: Implementación de Código (40 puntos)\n"
   ]
  },
  {
   "cell_type": "markdown",
   "metadata": {},
   "source": [
    "\n",
    "1- En el dataset Advertising.csv estan las ventas de una empresa y hay 3 canales de distribuición:\n",
    "    \n",
    "- radio\n",
    "- Televisión\n",
    "- Periodico\n",
    "\n",
    "\n",
    "La empresa quiere simplificar su operción y eliminar aquellos canales que no traen ventas.\n",
    "\n",
    "Dime que canal o canales no sirven con una prueba de hipotesis y una regresión\n",
    "\n",
    "\n",
    "    "
   ]
  },
  {
   "cell_type": "code",
   "execution_count": 6,
   "metadata": {},
   "outputs": [
    {
     "data": {
      "text/html": [
       "<div>\n",
       "<style scoped>\n",
       "    .dataframe tbody tr th:only-of-type {\n",
       "        vertical-align: middle;\n",
       "    }\n",
       "\n",
       "    .dataframe tbody tr th {\n",
       "        vertical-align: top;\n",
       "    }\n",
       "\n",
       "    .dataframe thead th {\n",
       "        text-align: right;\n",
       "    }\n",
       "</style>\n",
       "<table border=\"1\" class=\"dataframe\">\n",
       "  <thead>\n",
       "    <tr style=\"text-align: right;\">\n",
       "      <th></th>\n",
       "      <th>Unnamed: 0</th>\n",
       "      <th>TV</th>\n",
       "      <th>radio</th>\n",
       "      <th>newspaper</th>\n",
       "      <th>sales</th>\n",
       "    </tr>\n",
       "  </thead>\n",
       "  <tbody>\n",
       "    <tr>\n",
       "      <th>0</th>\n",
       "      <td>1</td>\n",
       "      <td>230.1</td>\n",
       "      <td>37.8</td>\n",
       "      <td>69.2</td>\n",
       "      <td>22.1</td>\n",
       "    </tr>\n",
       "    <tr>\n",
       "      <th>1</th>\n",
       "      <td>2</td>\n",
       "      <td>44.5</td>\n",
       "      <td>39.3</td>\n",
       "      <td>45.1</td>\n",
       "      <td>10.4</td>\n",
       "    </tr>\n",
       "    <tr>\n",
       "      <th>2</th>\n",
       "      <td>3</td>\n",
       "      <td>17.2</td>\n",
       "      <td>45.9</td>\n",
       "      <td>69.3</td>\n",
       "      <td>9.3</td>\n",
       "    </tr>\n",
       "    <tr>\n",
       "      <th>3</th>\n",
       "      <td>4</td>\n",
       "      <td>151.5</td>\n",
       "      <td>41.3</td>\n",
       "      <td>58.5</td>\n",
       "      <td>18.5</td>\n",
       "    </tr>\n",
       "    <tr>\n",
       "      <th>4</th>\n",
       "      <td>5</td>\n",
       "      <td>180.8</td>\n",
       "      <td>10.8</td>\n",
       "      <td>58.4</td>\n",
       "      <td>12.9</td>\n",
       "    </tr>\n",
       "  </tbody>\n",
       "</table>\n",
       "</div>"
      ],
      "text/plain": [
       "   Unnamed: 0     TV  radio  newspaper  sales\n",
       "0           1  230.1   37.8       69.2   22.1\n",
       "1           2   44.5   39.3       45.1   10.4\n",
       "2           3   17.2   45.9       69.3    9.3\n",
       "3           4  151.5   41.3       58.5   18.5\n",
       "4           5  180.8   10.8       58.4   12.9"
      ]
     },
     "execution_count": 6,
     "metadata": {},
     "output_type": "execute_result"
    }
   ],
   "source": [
    "data = pd.read_csv('Advertising.csv')\n",
    "data.head()"
   ]
  },
  {
   "cell_type": "code",
   "execution_count": 7,
   "metadata": {},
   "outputs": [],
   "source": [
    "import statsmodels.formula.api as smf"
   ]
  },
  {
   "cell_type": "code",
   "execution_count": 8,
   "metadata": {},
   "outputs": [
    {
     "data": {
      "text/html": [
       "<table class=\"simpletable\">\n",
       "<tr>\n",
       "      <td></td>         <th>coef</th>     <th>std err</th>      <th>t</th>      <th>P>|t|</th>  <th>[0.025</th>    <th>0.975]</th>  \n",
       "</tr>\n",
       "<tr>\n",
       "  <th>Intercept</th> <td>    2.9389</td> <td>    0.312</td> <td>    9.422</td> <td> 0.000</td> <td>    2.324</td> <td>    3.554</td>\n",
       "</tr>\n",
       "<tr>\n",
       "  <th>newspaper</th> <td>   -0.0010</td> <td>    0.006</td> <td>   -0.177</td> <td> 0.860</td> <td>   -0.013</td> <td>    0.011</td>\n",
       "</tr>\n",
       "<tr>\n",
       "  <th>radio</th>     <td>    0.1885</td> <td>    0.009</td> <td>   21.893</td> <td> 0.000</td> <td>    0.172</td> <td>    0.206</td>\n",
       "</tr>\n",
       "<tr>\n",
       "  <th>TV</th>        <td>    0.0458</td> <td>    0.001</td> <td>   32.809</td> <td> 0.000</td> <td>    0.043</td> <td>    0.049</td>\n",
       "</tr>\n",
       "</table>"
      ],
      "text/latex": [
       "\\begin{center}\n",
       "\\begin{tabular}{lcccccc}\n",
       "\\toprule\n",
       "                   & \\textbf{coef} & \\textbf{std err} & \\textbf{t} & \\textbf{P$> |$t$|$} & \\textbf{[0.025} & \\textbf{0.975]}  \\\\\n",
       "\\midrule\n",
       "\\textbf{Intercept} &       2.9389  &        0.312     &     9.422  &         0.000        &        2.324    &        3.554     \\\\\n",
       "\\textbf{newspaper} &      -0.0010  &        0.006     &    -0.177  &         0.860        &       -0.013    &        0.011     \\\\\n",
       "\\textbf{radio}     &       0.1885  &        0.009     &    21.893  &         0.000        &        0.172    &        0.206     \\\\\n",
       "\\textbf{TV}        &       0.0458  &        0.001     &    32.809  &         0.000        &        0.043    &        0.049     \\\\\n",
       "\\bottomrule\n",
       "\\end{tabular}\n",
       "\\end{center}"
      ],
      "text/plain": [
       "<class 'statsmodels.iolib.table.SimpleTable'>"
      ]
     },
     "execution_count": 8,
     "metadata": {},
     "output_type": "execute_result"
    }
   ],
   "source": [
    "model = smf.ols(\"sales ~ newspaper + radio + TV\", data=data).fit()\n",
    "model.summary().tables[1]"
   ]
  },
  {
   "cell_type": "markdown",
   "metadata": {},
   "source": [
    "Con el análisis anterior, se puede analizar como newspaper cuenta con un P-value de 0.860, lo cual significa que no es una variable importante o significativa en el modelo. Además, este canal cuenta con un coeficiente negativo, lo cual significa que impacta negativamente a las ventas. Por otro lado, en cuestión de radio y TV, estas variables si son importantes para el modelo. Esto es debido a que tienen un p-value de 0 y coeficientes positivos, lo que significa que las ventas aumentan con estas variables. Es por esto que el único canal de distribución que no sirve en cuestión de una prueba de hipótesis y regresión es newspaper."
   ]
  },
  {
   "cell_type": "code",
   "execution_count": null,
   "metadata": {},
   "outputs": [],
   "source": []
  }
 ],
 "metadata": {
  "kernelspec": {
   "display_name": "Python 3 (ipykernel)",
   "language": "python",
   "name": "python3"
  },
  "language_info": {
   "codemirror_mode": {
    "name": "ipython",
    "version": 3
   },
   "file_extension": ".py",
   "mimetype": "text/x-python",
   "name": "python",
   "nbconvert_exporter": "python",
   "pygments_lexer": "ipython3",
   "version": "3.11.4"
  }
 },
 "nbformat": 4,
 "nbformat_minor": 4
}
