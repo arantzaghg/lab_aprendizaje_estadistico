{
 "cells": [
  {
   "cell_type": "code",
   "execution_count": 105,
   "id": "7b21d0a4-a98f-46a2-9995-3397b95dc0e9",
   "metadata": {},
   "outputs": [],
   "source": [
    "from sklearn.preprocessing import StandardScaler\n",
    "from sklearn.pipeline import Pipeline\n",
    "from sklearn.decomposition import PCA\n",
    "import matplotlib.pyplot as plt\n",
    "import pandas as pd\n",
    "\n",
    "# Cargar el archivo CSV subido\n",
    "df = pd.read_csv(\"housing.csv\")\n",
    "#del df['ocean_proximity']\n",
    "df = pd.get_dummies(df)\n",
    "df = df.fillna(df.mean())\n",
    "\n",
    "X = df.drop(['median_house_value'], axis=1)\n",
    "y = df['median_house_value']\n",
    "\n",
    "nombres_limpios = [col.replace('<', '').replace('>', '').replace('[', '').replace(']', '') for col in X.columns]\n",
    "X.columns = nombres_limpios\n"
   ]
  },
  {
   "cell_type": "markdown",
   "id": "a283029c-50fc-4dde-b2a5-e7dc65c79905",
   "metadata": {},
   "source": [
    "### Escalar datos y hacer PCA"
   ]
  },
  {
   "cell_type": "code",
   "execution_count": null,
   "id": "4f7bee90-5f69-4ab1-b16f-eae357927515",
   "metadata": {},
   "outputs": [],
   "source": []
  },
  {
   "cell_type": "code",
   "execution_count": null,
   "id": "20a19b6b-7bf7-4302-8f4f-1ddd532b061a",
   "metadata": {},
   "outputs": [],
   "source": []
  },
  {
   "cell_type": "code",
   "execution_count": 1,
   "id": "7657a93f-a785-40b0-a589-088225291cdd",
   "metadata": {},
   "outputs": [],
   "source": [
    "# Obten el objeto de PCA"
   ]
  },
  {
   "cell_type": "markdown",
   "id": "7389dec7-2bfd-4c1d-b10a-2ca855ed92ea",
   "metadata": {},
   "source": [
    "### Varianza explicada\n",
    "\n",
    "Si la primera componente principal se obtiene con el eigenvalor que máximiza la varianza.\n",
    "\n",
    "La varianza explicada por cada componente principal \n",
    "\n",
    "$$varianza_i = \\frac{Eigenvalor_i}{\\Sigma{Eigenvalores}}$$\n"
   ]
  },
  {
   "cell_type": "code",
   "execution_count": null,
   "id": "7bed79dd-56c9-4691-ae2f-90308a8e5226",
   "metadata": {},
   "outputs": [],
   "source": []
  },
  {
   "cell_type": "markdown",
   "id": "4b121ee6-0b2b-4961-a9f2-5801df7410ee",
   "metadata": {},
   "source": [
    "### Entendiendo primera componente"
   ]
  },
  {
   "cell_type": "code",
   "execution_count": null,
   "id": "a1d91a1b-2f71-4e42-acc9-28f9488fb5a3",
   "metadata": {},
   "outputs": [],
   "source": []
  },
  {
   "cell_type": "code",
   "execution_count": null,
   "id": "e814ad66-b302-4072-abc6-c8ed1a7b7865",
   "metadata": {},
   "outputs": [],
   "source": []
  },
  {
   "cell_type": "markdown",
   "id": "d471f0db-7f7b-44a9-8a73-fc3a99732c02",
   "metadata": {},
   "source": [
    "### Entendiendo segunda componente"
   ]
  },
  {
   "cell_type": "code",
   "execution_count": null,
   "id": "95bfbe5e-d126-4bb7-8b41-406b72502a97",
   "metadata": {},
   "outputs": [],
   "source": []
  },
  {
   "cell_type": "code",
   "execution_count": null,
   "id": "4b60f07c-a1e4-4fac-926c-c4f4a6133167",
   "metadata": {},
   "outputs": [],
   "source": []
  },
  {
   "cell_type": "markdown",
   "id": "b7f88c76-a6df-4755-a272-90dbda10e7b1",
   "metadata": {},
   "source": [
    "### Obtener las componentes principales\n",
    "\n",
    "pd.DataFrame(X_pca, columns=[f'PC{i+1}' for i in range(X_pca.shape[1])])"
   ]
  },
  {
   "cell_type": "code",
   "execution_count": 114,
   "id": "5f3f0204-94d7-4ee4-9330-63c3bb531a6d",
   "metadata": {},
   "outputs": [],
   "source": [
    "\n",
    "# Transformar los datos\n",
    "\n",
    "# Crear DataFrame con nombres de columnas\n"
   ]
  },
  {
   "cell_type": "code",
   "execution_count": null,
   "id": "fc528f10-fd98-4a15-a68e-bd35a625a383",
   "metadata": {},
   "outputs": [],
   "source": []
  },
  {
   "cell_type": "markdown",
   "id": "861ac17f-3ca1-446a-b79b-b79e7046ac8a",
   "metadata": {},
   "source": [
    "### Visualizar componentes principales"
   ]
  },
  {
   "cell_type": "code",
   "execution_count": null,
   "id": "5f4907fe-c147-4fd2-807e-29363d46a3f5",
   "metadata": {},
   "outputs": [],
   "source": []
  },
  {
   "cell_type": "code",
   "execution_count": null,
   "id": "a02e226d-9e86-4fc6-b922-2cfa21db028b",
   "metadata": {},
   "outputs": [],
   "source": []
  },
  {
   "cell_type": "markdown",
   "id": "27c7d040-cbb3-4997-a95e-faa7ccb0fddc",
   "metadata": {},
   "source": [
    "## Modelos de datos\n",
    "\n",
    "### Primero con todos los features"
   ]
  },
  {
   "cell_type": "code",
   "execution_count": 116,
   "id": "4ffc97bb-e6e2-4755-976d-ae7cee5527c5",
   "metadata": {},
   "outputs": [
    {
     "data": {
      "text/plain": [
       "0.9310218522655087"
      ]
     },
     "execution_count": 116,
     "metadata": {},
     "output_type": "execute_result"
    }
   ],
   "source": [
    "from xgboost import XGBRegressor\n",
    "from sklearn.metrics import r2_score\n",
    "\n"
   ]
  },
  {
   "cell_type": "markdown",
   "id": "cddfd0fa-a4e4-4a91-be1d-752943d34bea",
   "metadata": {},
   "source": [
    "### Ahora con las componentes principales"
   ]
  },
  {
   "cell_type": "code",
   "execution_count": null,
   "id": "65f8fd65-0fa3-4272-a3e4-f544f98d5a17",
   "metadata": {},
   "outputs": [],
   "source": []
  },
  {
   "cell_type": "markdown",
   "id": "672411e2-006a-4deb-9c19-3ea90cf160cc",
   "metadata": {},
   "source": [
    "### Ahora solo con las primeras 3 componentes"
   ]
  },
  {
   "cell_type": "code",
   "execution_count": null,
   "id": "2ce81c4e-bf66-411f-b822-8b026abbcb79",
   "metadata": {},
   "outputs": [],
   "source": []
  },
  {
   "cell_type": "code",
   "execution_count": null,
   "id": "8d1c97df-1fc8-4e95-be85-31b5ddd2a9ae",
   "metadata": {},
   "outputs": [],
   "source": []
  },
  {
   "cell_type": "markdown",
   "id": "d5bf4196-ff38-40f2-9616-212f89b5c997",
   "metadata": {},
   "source": [
    "### Conclusión: a medida que agregamos más componentes aumenta el poder predictivo pero se pierde el objetivo inicial que es tener menos dimensiones"
   ]
  },
  {
   "cell_type": "markdown",
   "id": "938c9bb7-9eba-4eb1-9e6d-8ac6e94b418f",
   "metadata": {},
   "source": [
    "### Clustering + PCA"
   ]
  },
  {
   "cell_type": "code",
   "execution_count": 3,
   "id": "f325a769-f06e-43e9-b4b6-ca4e9d6612eb",
   "metadata": {},
   "outputs": [],
   "source": [
    "from sklearn.cluster import KMeans\n",
    "\n",
    "\n"
   ]
  },
  {
   "cell_type": "code",
   "execution_count": null,
   "id": "22940e32-0498-4941-9b94-e46d6ceb02e2",
   "metadata": {},
   "outputs": [],
   "source": []
  },
  {
   "cell_type": "code",
   "execution_count": null,
   "id": "d0fb1586-a4a7-4a83-8377-1c78ca11656d",
   "metadata": {},
   "outputs": [],
   "source": []
  },
  {
   "cell_type": "code",
   "execution_count": null,
   "id": "62f76f65-c922-4236-aaaf-50d6d16e04b7",
   "metadata": {},
   "outputs": [],
   "source": []
  },
  {
   "cell_type": "code",
   "execution_count": null,
   "id": "efdb14e2-8590-43b4-aef6-c594c5fdea8a",
   "metadata": {},
   "outputs": [],
   "source": []
  }
 ],
 "metadata": {
  "kernelspec": {
   "display_name": "Python 3 (ipykernel)",
   "language": "python",
   "name": "python3"
  },
  "language_info": {
   "codemirror_mode": {
    "name": "ipython",
    "version": 3
   },
   "file_extension": ".py",
   "mimetype": "text/x-python",
   "name": "python",
   "nbconvert_exporter": "python",
   "pygments_lexer": "ipython3",
   "version": "3.10.16"
  }
 },
 "nbformat": 4,
 "nbformat_minor": 5
}
