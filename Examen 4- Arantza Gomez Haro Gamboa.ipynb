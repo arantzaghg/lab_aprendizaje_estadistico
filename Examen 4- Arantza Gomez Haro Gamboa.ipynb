{
 "cells": [
  {
   "cell_type": "markdown",
   "id": "2e12595f",
   "metadata": {},
   "source": [
    "# <font color='rosybrown'> Examen 4"
   ]
  },
  {
   "cell_type": "markdown",
   "id": "dfd940b9",
   "metadata": {},
   "source": [
    "## <font color='cornflowerblue'> Datos"
   ]
  },
  {
   "cell_type": "code",
   "execution_count": null,
   "id": "8dd2b50c",
   "metadata": {},
   "outputs": [],
   "source": []
  },
  {
   "cell_type": "code",
   "execution_count": null,
   "id": "64fac11b",
   "metadata": {},
   "outputs": [],
   "source": []
  },
  {
   "cell_type": "code",
   "execution_count": null,
   "id": "85670e06",
   "metadata": {},
   "outputs": [],
   "source": []
  }
 ],
 "metadata": {
  "language_info": {
   "name": "python"
  }
 },
 "nbformat": 4,
 "nbformat_minor": 5
}
