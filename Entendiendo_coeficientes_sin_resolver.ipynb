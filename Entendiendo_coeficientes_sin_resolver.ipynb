{
 "cells": [
  {
   "cell_type": "code",
   "execution_count": 1,
   "metadata": {},
   "outputs": [],
   "source": [
    "import pandas as pd\n",
    "import numpy as np\n",
    "import matplotlib.pyplot as plt\n",
    "import statsmodels.formula.api as smf\n",
    "\n",
    "import warnings\n",
    "warnings.filterwarnings('ignore')\n",
    "\n",
    "\n",
    "wage = pd.read_csv('wage.csv').dropna()\n",
    "wage['hwage'] = wage[\"wage\"]/wage[\"hours\"]"
   ]
  },
  {
   "cell_type": "markdown",
   "metadata": {},
   "source": [
    "Efecto de la educación en el salario (logaritmo)"
   ]
  },
  {
   "cell_type": "code",
   "execution_count": 2,
   "metadata": {},
   "outputs": [
    {
     "data": {
      "text/html": [
       "<div>\n",
       "<style scoped>\n",
       "    .dataframe tbody tr th:only-of-type {\n",
       "        vertical-align: middle;\n",
       "    }\n",
       "\n",
       "    .dataframe tbody tr th {\n",
       "        vertical-align: top;\n",
       "    }\n",
       "\n",
       "    .dataframe thead th {\n",
       "        text-align: right;\n",
       "    }\n",
       "</style>\n",
       "<table border=\"1\" class=\"dataframe\">\n",
       "  <thead>\n",
       "    <tr style=\"text-align: right;\">\n",
       "      <th></th>\n",
       "      <th>wage</th>\n",
       "      <th>hours</th>\n",
       "      <th>lhwage</th>\n",
       "      <th>IQ</th>\n",
       "      <th>educ</th>\n",
       "      <th>exper</th>\n",
       "      <th>tenure</th>\n",
       "      <th>age</th>\n",
       "      <th>married</th>\n",
       "      <th>black</th>\n",
       "      <th>south</th>\n",
       "      <th>urban</th>\n",
       "      <th>sibs</th>\n",
       "      <th>brthord</th>\n",
       "      <th>meduc</th>\n",
       "      <th>feduc</th>\n",
       "      <th>hwage</th>\n",
       "    </tr>\n",
       "  </thead>\n",
       "  <tbody>\n",
       "    <tr>\n",
       "      <th>0</th>\n",
       "      <td>769</td>\n",
       "      <td>40</td>\n",
       "      <td>2.956212</td>\n",
       "      <td>93</td>\n",
       "      <td>12</td>\n",
       "      <td>11</td>\n",
       "      <td>2</td>\n",
       "      <td>31</td>\n",
       "      <td>1</td>\n",
       "      <td>0</td>\n",
       "      <td>0</td>\n",
       "      <td>1</td>\n",
       "      <td>1</td>\n",
       "      <td>2.0</td>\n",
       "      <td>8.0</td>\n",
       "      <td>8.0</td>\n",
       "      <td>19.225</td>\n",
       "    </tr>\n",
       "    <tr>\n",
       "      <th>2</th>\n",
       "      <td>825</td>\n",
       "      <td>40</td>\n",
       "      <td>3.026504</td>\n",
       "      <td>108</td>\n",
       "      <td>14</td>\n",
       "      <td>11</td>\n",
       "      <td>9</td>\n",
       "      <td>33</td>\n",
       "      <td>1</td>\n",
       "      <td>0</td>\n",
       "      <td>0</td>\n",
       "      <td>1</td>\n",
       "      <td>1</td>\n",
       "      <td>2.0</td>\n",
       "      <td>14.0</td>\n",
       "      <td>14.0</td>\n",
       "      <td>20.625</td>\n",
       "    </tr>\n",
       "    <tr>\n",
       "      <th>3</th>\n",
       "      <td>650</td>\n",
       "      <td>40</td>\n",
       "      <td>2.788093</td>\n",
       "      <td>96</td>\n",
       "      <td>12</td>\n",
       "      <td>13</td>\n",
       "      <td>7</td>\n",
       "      <td>32</td>\n",
       "      <td>1</td>\n",
       "      <td>0</td>\n",
       "      <td>0</td>\n",
       "      <td>1</td>\n",
       "      <td>4</td>\n",
       "      <td>3.0</td>\n",
       "      <td>12.0</td>\n",
       "      <td>12.0</td>\n",
       "      <td>16.250</td>\n",
       "    </tr>\n",
       "    <tr>\n",
       "      <th>4</th>\n",
       "      <td>562</td>\n",
       "      <td>40</td>\n",
       "      <td>2.642622</td>\n",
       "      <td>74</td>\n",
       "      <td>11</td>\n",
       "      <td>14</td>\n",
       "      <td>5</td>\n",
       "      <td>34</td>\n",
       "      <td>1</td>\n",
       "      <td>0</td>\n",
       "      <td>0</td>\n",
       "      <td>1</td>\n",
       "      <td>10</td>\n",
       "      <td>6.0</td>\n",
       "      <td>6.0</td>\n",
       "      <td>11.0</td>\n",
       "      <td>14.050</td>\n",
       "    </tr>\n",
       "    <tr>\n",
       "      <th>6</th>\n",
       "      <td>600</td>\n",
       "      <td>40</td>\n",
       "      <td>2.708050</td>\n",
       "      <td>91</td>\n",
       "      <td>10</td>\n",
       "      <td>13</td>\n",
       "      <td>0</td>\n",
       "      <td>30</td>\n",
       "      <td>0</td>\n",
       "      <td>0</td>\n",
       "      <td>0</td>\n",
       "      <td>1</td>\n",
       "      <td>1</td>\n",
       "      <td>2.0</td>\n",
       "      <td>8.0</td>\n",
       "      <td>8.0</td>\n",
       "      <td>15.000</td>\n",
       "    </tr>\n",
       "  </tbody>\n",
       "</table>\n",
       "</div>"
      ],
      "text/plain": [
       "   wage  hours    lhwage   IQ  educ  exper  tenure  age  married  black  \\\n",
       "0   769     40  2.956212   93    12     11       2   31        1      0   \n",
       "2   825     40  3.026504  108    14     11       9   33        1      0   \n",
       "3   650     40  2.788093   96    12     13       7   32        1      0   \n",
       "4   562     40  2.642622   74    11     14       5   34        1      0   \n",
       "6   600     40  2.708050   91    10     13       0   30        0      0   \n",
       "\n",
       "   south  urban  sibs  brthord  meduc  feduc   hwage  \n",
       "0      0      1     1      2.0    8.0    8.0  19.225  \n",
       "2      0      1     1      2.0   14.0   14.0  20.625  \n",
       "3      0      1     4      3.0   12.0   12.0  16.250  \n",
       "4      0      1    10      6.0    6.0   11.0  14.050  \n",
       "6      0      1     1      2.0    8.0    8.0  15.000  "
      ]
     },
     "execution_count": 2,
     "metadata": {},
     "output_type": "execute_result"
    }
   ],
   "source": [
    "wage.head()"
   ]
  },
  {
   "cell_type": "code",
   "execution_count": 3,
   "metadata": {},
   "outputs": [
    {
     "data": {
      "text/html": [
       "<table class=\"simpletable\">\n",
       "<tr>\n",
       "      <td></td>         <th>coef</th>     <th>std err</th>      <th>t</th>      <th>P>|t|</th>  <th>[0.025</th>    <th>0.975]</th>  \n",
       "</tr>\n",
       "<tr>\n",
       "  <th>Intercept</th> <td>    2.3071</td> <td>    0.104</td> <td>   22.089</td> <td> 0.000</td> <td>    2.102</td> <td>    2.512</td>\n",
       "</tr>\n",
       "<tr>\n",
       "  <th>educ</th>      <td>    0.0536</td> <td>    0.008</td> <td>    7.114</td> <td> 0.000</td> <td>    0.039</td> <td>    0.068</td>\n",
       "</tr>\n",
       "</table>"
      ],
      "text/latex": [
       "\\begin{center}\n",
       "\\begin{tabular}{lcccccc}\n",
       "\\toprule\n",
       "                   & \\textbf{coef} & \\textbf{std err} & \\textbf{t} & \\textbf{P$> |$t$|$} & \\textbf{[0.025} & \\textbf{0.975]}  \\\\\n",
       "\\midrule\n",
       "\\textbf{Intercept} &       2.3071  &        0.104     &    22.089  &         0.000        &        2.102    &        2.512     \\\\\n",
       "\\textbf{educ}      &       0.0536  &        0.008     &     7.114  &         0.000        &        0.039    &        0.068     \\\\\n",
       "\\bottomrule\n",
       "\\end{tabular}\n",
       "\\end{center}"
      ],
      "text/plain": [
       "<class 'statsmodels.iolib.table.SimpleTable'>"
      ]
     },
     "execution_count": 3,
     "metadata": {},
     "output_type": "execute_result"
    }
   ],
   "source": [
    "model = smf.ols('np.log(hwage) ~ educ', data = wage).fit()\n",
    "model.summary().tables[1]"
   ]
  },
  {
   "cell_type": "code",
   "execution_count": 4,
   "metadata": {},
   "outputs": [
    {
     "data": {
      "text/html": [
       "<table class=\"simpletable\">\n",
       "<tr>\n",
       "      <td></td>         <th>coef</th>     <th>std err</th>      <th>t</th>      <th>P>|t|</th>  <th>[0.025</th>    <th>0.975]</th>  \n",
       "</tr>\n",
       "<tr>\n",
       "  <th>Intercept</th> <td>    6.4811</td> <td>    2.349</td> <td>    2.759</td> <td> 0.006</td> <td>    1.869</td> <td>   11.093</td>\n",
       "</tr>\n",
       "<tr>\n",
       "  <th>educ</th>      <td>    1.2069</td> <td>    0.169</td> <td>    7.123</td> <td> 0.000</td> <td>    0.874</td> <td>    1.540</td>\n",
       "</tr>\n",
       "</table>"
      ],
      "text/latex": [
       "\\begin{center}\n",
       "\\begin{tabular}{lcccccc}\n",
       "\\toprule\n",
       "                   & \\textbf{coef} & \\textbf{std err} & \\textbf{t} & \\textbf{P$> |$t$|$} & \\textbf{[0.025} & \\textbf{0.975]}  \\\\\n",
       "\\midrule\n",
       "\\textbf{Intercept} &       6.4811  &        2.349     &     2.759  &         0.006        &        1.869    &       11.093     \\\\\n",
       "\\textbf{educ}      &       1.2069  &        0.169     &     7.123  &         0.000        &        0.874    &        1.540     \\\\\n",
       "\\bottomrule\n",
       "\\end{tabular}\n",
       "\\end{center}"
      ],
      "text/plain": [
       "<class 'statsmodels.iolib.table.SimpleTable'>"
      ]
     },
     "execution_count": 4,
     "metadata": {},
     "output_type": "execute_result"
    }
   ],
   "source": [
    "model = smf.ols('hwage ~ educ', data = wage).fit()\n",
    "model.summary().tables[1]"
   ]
  },
  {
   "cell_type": "code",
   "execution_count": 5,
   "metadata": {},
   "outputs": [
    {
     "data": {
      "text/plain": [
       "988.4751131221719"
      ]
     },
     "execution_count": 5,
     "metadata": {},
     "output_type": "execute_result"
    }
   ],
   "source": [
    "wage.wage.mean()"
   ]
  },
  {
   "cell_type": "code",
   "execution_count": null,
   "metadata": {},
   "outputs": [],
   "source": []
  },
  {
   "cell_type": "markdown",
   "metadata": {},
   "source": [
    "Utiliza los demás controles"
   ]
  },
  {
   "cell_type": "code",
   "execution_count": 6,
   "metadata": {},
   "outputs": [],
   "source": [
    "controls = ['IQ', 'exper', 'tenure', 'age', 'married', 'black',\n",
    "            'south', 'urban', 'sibs', 'brthord', 'meduc', 'feduc']"
   ]
  },
  {
   "cell_type": "code",
   "execution_count": 7,
   "metadata": {},
   "outputs": [
    {
     "data": {
      "text/plain": [
       "'IQ+exper+tenure+age+married+black+south+urban+sibs+brthord+meduc+feduc'"
      ]
     },
     "execution_count": 7,
     "metadata": {},
     "output_type": "execute_result"
    }
   ],
   "source": [
    "'+'.join(controls)"
   ]
  },
  {
   "cell_type": "code",
   "execution_count": 8,
   "metadata": {},
   "outputs": [
    {
     "data": {
      "text/html": [
       "<table class=\"simpletable\">\n",
       "<tr>\n",
       "      <td></td>         <th>coef</th>     <th>std err</th>      <th>t</th>      <th>P>|t|</th>  <th>[0.025</th>    <th>0.975]</th>  \n",
       "</tr>\n",
       "<tr>\n",
       "  <th>Intercept</th> <td>    1.1156</td> <td>    0.232</td> <td>    4.802</td> <td> 0.000</td> <td>    0.659</td> <td>    1.572</td>\n",
       "</tr>\n",
       "<tr>\n",
       "  <th>educ</th>      <td>    0.0411</td> <td>    0.010</td> <td>    4.075</td> <td> 0.000</td> <td>    0.021</td> <td>    0.061</td>\n",
       "</tr>\n",
       "<tr>\n",
       "  <th>IQ</th>        <td>    0.0038</td> <td>    0.001</td> <td>    2.794</td> <td> 0.005</td> <td>    0.001</td> <td>    0.006</td>\n",
       "</tr>\n",
       "<tr>\n",
       "  <th>exper</th>     <td>    0.0153</td> <td>    0.005</td> <td>    3.032</td> <td> 0.003</td> <td>    0.005</td> <td>    0.025</td>\n",
       "</tr>\n",
       "<tr>\n",
       "  <th>tenure</th>    <td>    0.0094</td> <td>    0.003</td> <td>    2.836</td> <td> 0.005</td> <td>    0.003</td> <td>    0.016</td>\n",
       "</tr>\n",
       "<tr>\n",
       "  <th>age</th>       <td>    0.0086</td> <td>    0.006</td> <td>    1.364</td> <td> 0.173</td> <td>   -0.004</td> <td>    0.021</td>\n",
       "</tr>\n",
       "<tr>\n",
       "  <th>married</th>   <td>    0.1795</td> <td>    0.053</td> <td>    3.415</td> <td> 0.001</td> <td>    0.076</td> <td>    0.283</td>\n",
       "</tr>\n",
       "<tr>\n",
       "  <th>black</th>     <td>   -0.0801</td> <td>    0.063</td> <td>   -1.263</td> <td> 0.207</td> <td>   -0.205</td> <td>    0.044</td>\n",
       "</tr>\n",
       "<tr>\n",
       "  <th>south</th>     <td>   -0.0397</td> <td>    0.035</td> <td>   -1.129</td> <td> 0.259</td> <td>   -0.109</td> <td>    0.029</td>\n",
       "</tr>\n",
       "<tr>\n",
       "  <th>urban</th>     <td>    0.1926</td> <td>    0.036</td> <td>    5.418</td> <td> 0.000</td> <td>    0.123</td> <td>    0.262</td>\n",
       "</tr>\n",
       "<tr>\n",
       "  <th>sibs</th>      <td>    0.0065</td> <td>    0.009</td> <td>    0.722</td> <td> 0.470</td> <td>   -0.011</td> <td>    0.024</td>\n",
       "</tr>\n",
       "<tr>\n",
       "  <th>brthord</th>   <td>   -0.0080</td> <td>    0.013</td> <td>   -0.604</td> <td> 0.546</td> <td>   -0.034</td> <td>    0.018</td>\n",
       "</tr>\n",
       "<tr>\n",
       "  <th>meduc</th>     <td>    0.0089</td> <td>    0.007</td> <td>    1.265</td> <td> 0.206</td> <td>   -0.005</td> <td>    0.023</td>\n",
       "</tr>\n",
       "<tr>\n",
       "  <th>feduc</th>     <td>    0.0069</td> <td>    0.006</td> <td>    1.113</td> <td> 0.266</td> <td>   -0.005</td> <td>    0.019</td>\n",
       "</tr>\n",
       "</table>"
      ],
      "text/latex": [
       "\\begin{center}\n",
       "\\begin{tabular}{lcccccc}\n",
       "\\toprule\n",
       "                   & \\textbf{coef} & \\textbf{std err} & \\textbf{t} & \\textbf{P$> |$t$|$} & \\textbf{[0.025} & \\textbf{0.975]}  \\\\\n",
       "\\midrule\n",
       "\\textbf{Intercept} &       1.1156  &        0.232     &     4.802  &         0.000        &        0.659    &        1.572     \\\\\n",
       "\\textbf{educ}      &       0.0411  &        0.010     &     4.075  &         0.000        &        0.021    &        0.061     \\\\\n",
       "\\textbf{IQ}        &       0.0038  &        0.001     &     2.794  &         0.005        &        0.001    &        0.006     \\\\\n",
       "\\textbf{exper}     &       0.0153  &        0.005     &     3.032  &         0.003        &        0.005    &        0.025     \\\\\n",
       "\\textbf{tenure}    &       0.0094  &        0.003     &     2.836  &         0.005        &        0.003    &        0.016     \\\\\n",
       "\\textbf{age}       &       0.0086  &        0.006     &     1.364  &         0.173        &       -0.004    &        0.021     \\\\\n",
       "\\textbf{married}   &       0.1795  &        0.053     &     3.415  &         0.001        &        0.076    &        0.283     \\\\\n",
       "\\textbf{black}     &      -0.0801  &        0.063     &    -1.263  &         0.207        &       -0.205    &        0.044     \\\\\n",
       "\\textbf{south}     &      -0.0397  &        0.035     &    -1.129  &         0.259        &       -0.109    &        0.029     \\\\\n",
       "\\textbf{urban}     &       0.1926  &        0.036     &     5.418  &         0.000        &        0.123    &        0.262     \\\\\n",
       "\\textbf{sibs}      &       0.0065  &        0.009     &     0.722  &         0.470        &       -0.011    &        0.024     \\\\\n",
       "\\textbf{brthord}   &      -0.0080  &        0.013     &    -0.604  &         0.546        &       -0.034    &        0.018     \\\\\n",
       "\\textbf{meduc}     &       0.0089  &        0.007     &     1.265  &         0.206        &       -0.005    &        0.023     \\\\\n",
       "\\textbf{feduc}     &       0.0069  &        0.006     &     1.113  &         0.266        &       -0.005    &        0.019     \\\\\n",
       "\\bottomrule\n",
       "\\end{tabular}\n",
       "\\end{center}"
      ],
      "text/plain": [
       "<class 'statsmodels.iolib.table.SimpleTable'>"
      ]
     },
     "execution_count": 8,
     "metadata": {},
     "output_type": "execute_result"
    }
   ],
   "source": [
    "model = smf.ols('np.log(hwage) ~ educ +' + '+'.join(controls), data= wage).fit()\n",
    "model.summary().tables[1]"
   ]
  },
  {
   "cell_type": "code",
   "execution_count": null,
   "metadata": {},
   "outputs": [],
   "source": []
  },
  {
   "cell_type": "code",
   "execution_count": null,
   "metadata": {},
   "outputs": [],
   "source": []
  },
  {
   "cell_type": "markdown",
   "metadata": {},
   "source": [
    "\n",
    "\n",
    "# Teorema de Frisch-Waugh-Lovell\n",
    "\n",
    "El **Teorema de Frisch-Waugh-Lovell** establece que en una regresión múltiple:\n",
    "\n",
    "$$\n",
    "Y = \\beta_0 + \\beta_1 X_1 + \\beta_2 X_2 + \\dots + \\beta_k X_k + \\epsilon\n",
    "$$\n",
    "\n",
    "el coeficiente $(\\beta_1$) puede obtenerse de manera equivalente en tres pasos:\n",
    "\n",
    "##  Paso 1: Regresión de $Y$ contra $(X_2, ..., X_k)$\n",
    "Regresamos $Y$ contra $(X_2, X_3, ..., X_k)$ y obtenemos los residuos $R_Y$:\n",
    "\n",
    "$$\n",
    "Y = \\gamma_0 + \\gamma_2 X_2 + \\dots + \\gamma_k X_k + R_Y\n",
    "$$\n",
    "\n",
    "Donde $R_Y$ representa la parte de $Y$ que *no* está explicada por $X_2, ..., X_k$.\n",
    "\n",
    "## Paso 2: Regresión de $X_1$ contra $(X_2, ..., X_k)$\n",
    "Regresamos $X_1$ contra $(X_2, X_3, ..., X_k)$ y obtenemos los residuos $R_{X_1}$:\n",
    "\n",
    "$$\n",
    "X_1 = \\delta_0 + \\delta_2 X_2 + \\dots + \\delta_k X_k + R_{X_1}\n",
    "$$\n",
    "\n",
    "Donde $R_{X_1}$ representa la parte de $X_1$ que no está explicada por $(X_2, ..., X_k)$.\n",
    "\n",
    "## Paso 3: Regresión de $R_Y$ contra $R_{X_1}$\n",
    "\n",
    "Finalmente, regresamos $R_Y$ contra $R_{X_1}$:\n",
    "\n",
    "$$\n",
    "R_Y = \\beta_1 R_{X_1} + \\nu\n",
    "$$\n",
    "\n",
    "El coeficiente $\\beta_1$ obtenido en esta regresión es **idéntico** al de la regresión original:\n",
    "\n",
    "$$\n",
    "Y = \\beta_0 + \\beta_1 X_1 + \\beta_2 X_2 + \\dots + \\beta_k X_k + \\epsilon\n",
    "$$\n",
    "\n",
    "## Conclusión  \n",
    "El teorema demuestra que el **efecto de $X_1$ sobre $Y$ ** se puede calcular sin necesidad de incluir todas las variables en una misma regresión, utilizando residuos de regresiones auxiliares.\n",
    "\n"
   ]
  },
  {
   "cell_type": "markdown",
   "metadata": {},
   "source": [
    "### Implementando el teorema "
   ]
  },
  {
   "cell_type": "code",
   "execution_count": null,
   "metadata": {},
   "outputs": [],
   "source": []
  },
  {
   "cell_type": "markdown",
   "metadata": {},
   "source": [
    "### Parte 1\n",
    "\n",
    "Predice el salario a partir de todos los controles excepto por la educación"
   ]
  },
  {
   "cell_type": "code",
   "execution_count": 9,
   "metadata": {},
   "outputs": [],
   "source": [
    "m1 = smf.ols('np.log(hwage) ~'+'+'.join(controls), data = wage).fit()"
   ]
  },
  {
   "cell_type": "markdown",
   "metadata": {},
   "source": [
    "Obten los residuales, que es la parte del salario que no esta explicada por los controles"
   ]
  },
  {
   "cell_type": "code",
   "execution_count": 10,
   "metadata": {},
   "outputs": [],
   "source": [
    "# Predecir el salario sin la educación\n",
    "\n",
    "residuales_m1 = m1.resid"
   ]
  },
  {
   "cell_type": "markdown",
   "metadata": {},
   "source": [
    "### Parte 2\n",
    "\n",
    "Predice la educación a partir de los demás controles "
   ]
  },
  {
   "cell_type": "code",
   "execution_count": 11,
   "metadata": {},
   "outputs": [],
   "source": [
    "m2 = smf.ols('educ ~'+'+'.join(controls), data = wage).fit()"
   ]
  },
  {
   "cell_type": "markdown",
   "metadata": {},
   "source": [
    "Obten los residuales, que es la información que está en educación que no puede ser explicada por los controles"
   ]
  },
  {
   "cell_type": "code",
   "execution_count": 12,
   "metadata": {},
   "outputs": [],
   "source": [
    "residuales_m2 = m2.resid"
   ]
  },
  {
   "cell_type": "markdown",
   "metadata": {},
   "source": [
    "### Parte 3\n",
    "\n",
    "Crea un modelo que prediga los residuales del modelo 1 a partir de los residuales del modelo 2"
   ]
  },
  {
   "cell_type": "code",
   "execution_count": 13,
   "metadata": {},
   "outputs": [
    {
     "data": {
      "text/html": [
       "<table class=\"simpletable\">\n",
       "<tr>\n",
       "      <td></td>         <th>coef</th>     <th>std err</th>      <th>t</th>      <th>P>|t|</th>  <th>[0.025</th>    <th>0.975]</th>  \n",
       "</tr>\n",
       "<tr>\n",
       "  <th>Intercept</th> <td> 2.003e-14</td> <td>    0.015</td> <td>  1.3e-12</td> <td> 1.000</td> <td>   -0.030</td> <td>    0.030</td>\n",
       "</tr>\n",
       "<tr>\n",
       "  <th>resid2</th>    <td>    0.0411</td> <td>    0.010</td> <td>    4.112</td> <td> 0.000</td> <td>    0.021</td> <td>    0.061</td>\n",
       "</tr>\n",
       "</table>"
      ],
      "text/latex": [
       "\\begin{center}\n",
       "\\begin{tabular}{lcccccc}\n",
       "\\toprule\n",
       "                   & \\textbf{coef} & \\textbf{std err} & \\textbf{t} & \\textbf{P$> |$t$|$} & \\textbf{[0.025} & \\textbf{0.975]}  \\\\\n",
       "\\midrule\n",
       "\\textbf{Intercept} &    2.003e-14  &        0.015     &   1.3e-12  &         1.000        &       -0.030    &        0.030     \\\\\n",
       "\\textbf{resid2}    &       0.0411  &        0.010     &     4.112  &         0.000        &        0.021    &        0.061     \\\\\n",
       "\\bottomrule\n",
       "\\end{tabular}\n",
       "\\end{center}"
      ],
      "text/plain": [
       "<class 'statsmodels.iolib.table.SimpleTable'>"
      ]
     },
     "execution_count": 13,
     "metadata": {},
     "output_type": "execute_result"
    }
   ],
   "source": [
    "modelo = smf.ols(\"resid1 ~ resid2\", data = wage.assign(resid1 = residuales_m1,\n",
    "                                                      resid2 = residuales_m2)).fit()\n",
    "\n",
    "modelo.summary().tables[1]"
   ]
  },
  {
   "cell_type": "markdown",
   "metadata": {},
   "source": [
    "Esto tiene que ser *exactamente igual* que predecir con todos \n",
    "\n",
    "\n",
    "¿Por qué esto es importante?\n",
    "\n",
    "*quiere decir que cuando hacemos una regresión, el coeficiente $\\beta_1$ es el efecto de $x_1$ tomando en cuenta toda la información contenida en los demás coeficientes*\n",
    "\n",
    "¿Por qué esto es importante?\n",
    "\n",
    "Quiere decir que si hacemos una regresión y usamos todos los controles, podemos aislar el efecto particular de cualquier tratamiento, siempre y cuando se usen los controles pertinentes. \n"
   ]
  },
  {
   "cell_type": "markdown",
   "metadata": {},
   "source": [
    "### Ejemplo de data en el mundo real\n",
    "\n",
    "Tenemos las ventas de una tienda de helados.\n",
    "\n",
    "El vendedor de helados quiere cobrar siempre lo más que pueda pero hay una intuición obvia. \n",
    "\n",
    "*Si cobro muy caro, nadie va venir*\n",
    "\n",
    "Contrata a un Data Scientist para que le ayude a entender cuanto cobrar.\n",
    "\n",
    "Primer paso, regresión lineal"
   ]
  },
  {
   "cell_type": "code",
   "execution_count": 14,
   "metadata": {},
   "outputs": [],
   "source": [
    "df = pd.read_csv('ice_cream_sales.csv')"
   ]
  },
  {
   "cell_type": "code",
   "execution_count": 15,
   "metadata": {},
   "outputs": [
    {
     "data": {
      "text/html": [
       "<div>\n",
       "<style scoped>\n",
       "    .dataframe tbody tr th:only-of-type {\n",
       "        vertical-align: middle;\n",
       "    }\n",
       "\n",
       "    .dataframe tbody tr th {\n",
       "        vertical-align: top;\n",
       "    }\n",
       "\n",
       "    .dataframe thead th {\n",
       "        text-align: right;\n",
       "    }\n",
       "</style>\n",
       "<table border=\"1\" class=\"dataframe\">\n",
       "  <thead>\n",
       "    <tr style=\"text-align: right;\">\n",
       "      <th></th>\n",
       "      <th>temp</th>\n",
       "      <th>weekday</th>\n",
       "      <th>cost</th>\n",
       "      <th>price</th>\n",
       "      <th>sales</th>\n",
       "    </tr>\n",
       "  </thead>\n",
       "  <tbody>\n",
       "    <tr>\n",
       "      <th>0</th>\n",
       "      <td>17.3</td>\n",
       "      <td>6</td>\n",
       "      <td>1.5</td>\n",
       "      <td>5.6</td>\n",
       "      <td>173</td>\n",
       "    </tr>\n",
       "    <tr>\n",
       "      <th>1</th>\n",
       "      <td>25.4</td>\n",
       "      <td>3</td>\n",
       "      <td>0.3</td>\n",
       "      <td>4.9</td>\n",
       "      <td>196</td>\n",
       "    </tr>\n",
       "    <tr>\n",
       "      <th>2</th>\n",
       "      <td>23.3</td>\n",
       "      <td>5</td>\n",
       "      <td>1.5</td>\n",
       "      <td>7.6</td>\n",
       "      <td>207</td>\n",
       "    </tr>\n",
       "    <tr>\n",
       "      <th>3</th>\n",
       "      <td>26.9</td>\n",
       "      <td>1</td>\n",
       "      <td>0.3</td>\n",
       "      <td>5.3</td>\n",
       "      <td>241</td>\n",
       "    </tr>\n",
       "    <tr>\n",
       "      <th>4</th>\n",
       "      <td>20.2</td>\n",
       "      <td>1</td>\n",
       "      <td>1.0</td>\n",
       "      <td>7.2</td>\n",
       "      <td>227</td>\n",
       "    </tr>\n",
       "  </tbody>\n",
       "</table>\n",
       "</div>"
      ],
      "text/plain": [
       "   temp  weekday  cost  price  sales\n",
       "0  17.3        6   1.5    5.6    173\n",
       "1  25.4        3   0.3    4.9    196\n",
       "2  23.3        5   1.5    7.6    207\n",
       "3  26.9        1   0.3    5.3    241\n",
       "4  20.2        1   1.0    7.2    227"
      ]
     },
     "execution_count": 15,
     "metadata": {},
     "output_type": "execute_result"
    }
   ],
   "source": [
    "df.head()"
   ]
  },
  {
   "cell_type": "markdown",
   "metadata": {},
   "source": [
    "Esto suena absurdo, ¿como es posible que a mayor precio, más ventas?\n",
    "\n",
    "Bivariado de las ventas\n",
    "\n",
    "pd.qcut(df_calibracion['predicciones'], q=5, labels=False, duplicates='drop')"
   ]
  },
  {
   "cell_type": "code",
   "execution_count": 16,
   "metadata": {},
   "outputs": [
    {
     "data": {
      "text/html": [
       "<div>\n",
       "<style scoped>\n",
       "    .dataframe tbody tr th:only-of-type {\n",
       "        vertical-align: middle;\n",
       "    }\n",
       "\n",
       "    .dataframe tbody tr th {\n",
       "        vertical-align: top;\n",
       "    }\n",
       "\n",
       "    .dataframe thead th {\n",
       "        text-align: right;\n",
       "    }\n",
       "</style>\n",
       "<table border=\"1\" class=\"dataframe\">\n",
       "  <thead>\n",
       "    <tr style=\"text-align: right;\">\n",
       "      <th></th>\n",
       "      <th>temp</th>\n",
       "      <th>weekday</th>\n",
       "      <th>cost</th>\n",
       "      <th>price</th>\n",
       "      <th>sales</th>\n",
       "    </tr>\n",
       "  </thead>\n",
       "  <tbody>\n",
       "    <tr>\n",
       "      <th>temp</th>\n",
       "      <td>1.000000</td>\n",
       "      <td>-0.006214</td>\n",
       "      <td>0.000027</td>\n",
       "      <td>-0.003644</td>\n",
       "      <td>0.375951</td>\n",
       "    </tr>\n",
       "    <tr>\n",
       "      <th>weekday</th>\n",
       "      <td>-0.006214</td>\n",
       "      <td>1.000000</td>\n",
       "      <td>0.009161</td>\n",
       "      <td>0.004559</td>\n",
       "      <td>0.011888</td>\n",
       "    </tr>\n",
       "    <tr>\n",
       "      <th>cost</th>\n",
       "      <td>0.000027</td>\n",
       "      <td>0.009161</td>\n",
       "      <td>1.000000</td>\n",
       "      <td>0.390435</td>\n",
       "      <td>-0.015494</td>\n",
       "    </tr>\n",
       "    <tr>\n",
       "      <th>price</th>\n",
       "      <td>-0.003644</td>\n",
       "      <td>0.004559</td>\n",
       "      <td>0.390435</td>\n",
       "      <td>1.000000</td>\n",
       "      <td>0.075544</td>\n",
       "    </tr>\n",
       "    <tr>\n",
       "      <th>sales</th>\n",
       "      <td>0.375951</td>\n",
       "      <td>0.011888</td>\n",
       "      <td>-0.015494</td>\n",
       "      <td>0.075544</td>\n",
       "      <td>1.000000</td>\n",
       "    </tr>\n",
       "  </tbody>\n",
       "</table>\n",
       "</div>"
      ],
      "text/plain": [
       "             temp   weekday      cost     price     sales\n",
       "temp     1.000000 -0.006214  0.000027 -0.003644  0.375951\n",
       "weekday -0.006214  1.000000  0.009161  0.004559  0.011888\n",
       "cost     0.000027  0.009161  1.000000  0.390435 -0.015494\n",
       "price   -0.003644  0.004559  0.390435  1.000000  0.075544\n",
       "sales    0.375951  0.011888 -0.015494  0.075544  1.000000"
      ]
     },
     "execution_count": 16,
     "metadata": {},
     "output_type": "execute_result"
    }
   ],
   "source": [
    "df.corr()"
   ]
  },
  {
   "cell_type": "code",
   "execution_count": 17,
   "metadata": {},
   "outputs": [
    {
     "data": {
      "image/png": "[encoded data removed]",
      "text/plain": [
       "<Figure size 640x480 with 1 Axes>"
      ]
     },
     "metadata": {},
     "output_type": "display_data"
    }
   ],
   "source": [
    "df['bin_price'] = pd.qcut(df['price'] , q = 5, labels = False, duplicates = 'drop')\n",
    "\n",
    "grouped = df.groupby('bin_price').mean()\n",
    "\n",
    "plt.plot(grouped.price, grouped.sales, marker=\"o\")\n",
    "plt.grid()"
   ]
  },
  {
   "cell_type": "code",
   "execution_count": 18,
   "metadata": {},
   "outputs": [
    {
     "data": {
      "text/html": [
       "<table class=\"simpletable\">\n",
       "<tr>\n",
       "      <td></td>         <th>coef</th>     <th>std err</th>      <th>t</th>      <th>P>|t|</th>  <th>[0.025</th>    <th>0.975]</th>  \n",
       "</tr>\n",
       "<tr>\n",
       "  <th>Intercept</th> <td>  192.9679</td> <td>    1.013</td> <td>  190.414</td> <td> 0.000</td> <td>  190.981</td> <td>  194.954</td>\n",
       "</tr>\n",
       "<tr>\n",
       "  <th>price</th>     <td>    1.2294</td> <td>    0.162</td> <td>    7.575</td> <td> 0.000</td> <td>    0.911</td> <td>    1.547</td>\n",
       "</tr>\n",
       "</table>"
      ],
      "text/latex": [
       "\\begin{center}\n",
       "\\begin{tabular}{lcccccc}\n",
       "\\toprule\n",
       "                   & \\textbf{coef} & \\textbf{std err} & \\textbf{t} & \\textbf{P$> |$t$|$} & \\textbf{[0.025} & \\textbf{0.975]}  \\\\\n",
       "\\midrule\n",
       "\\textbf{Intercept} &     192.9679  &        1.013     &   190.414  &         0.000        &      190.981    &      194.954     \\\\\n",
       "\\textbf{price}     &       1.2294  &        0.162     &     7.575  &         0.000        &        0.911    &        1.547     \\\\\n",
       "\\bottomrule\n",
       "\\end{tabular}\n",
       "\\end{center}"
      ],
      "text/plain": [
       "<class 'statsmodels.iolib.table.SimpleTable'>"
      ]
     },
     "execution_count": 18,
     "metadata": {},
     "output_type": "execute_result"
    }
   ],
   "source": [
    "model = smf.ols('sales ~ price', data = df).fit()\n",
    "model.summary().tables[1]"
   ]
  },
  {
   "cell_type": "code",
   "execution_count": null,
   "metadata": {},
   "outputs": [],
   "source": []
  },
  {
   "cell_type": "code",
   "execution_count": null,
   "metadata": {},
   "outputs": [],
   "source": []
  },
  {
   "cell_type": "markdown",
   "metadata": {},
   "source": [
    "Efectiamente, según los datos a mayor precio, mayor venta.\n",
    "\n",
    "\n",
    "Pasa que los vendedores no son tontos, algunos días donde es feriado o que hace mucho calor suben el precio ... y es justamente donde se vende más.\n",
    "\n",
    "Podemos usar una regrsion linal _controlando por esos factores_.\n"
   ]
  },
  {
   "cell_type": "code",
   "execution_count": 19,
   "metadata": {},
   "outputs": [
    {
     "data": {
      "text/html": [
       "<table class=\"simpletable\">\n",
       "<tr>\n",
       "         <td></td>            <th>coef</th>     <th>std err</th>      <th>t</th>      <th>P>|t|</th>  <th>[0.025</th>    <th>0.975]</th>  \n",
       "</tr>\n",
       "<tr>\n",
       "  <th>Intercept</th>       <td>  201.9694</td> <td>    1.004</td> <td>  201.146</td> <td> 0.000</td> <td>  200.001</td> <td>  203.938</td>\n",
       "</tr>\n",
       "<tr>\n",
       "  <th>C(weekday)[T.2]</th> <td>  -33.8632</td> <td>    0.421</td> <td>  -80.432</td> <td> 0.000</td> <td>  -34.688</td> <td>  -33.038</td>\n",
       "</tr>\n",
       "<tr>\n",
       "  <th>C(weekday)[T.3]</th> <td>  -33.5465</td> <td>    0.429</td> <td>  -78.287</td> <td> 0.000</td> <td>  -34.386</td> <td>  -32.707</td>\n",
       "</tr>\n",
       "<tr>\n",
       "  <th>C(weekday)[T.4]</th> <td>  -33.5294</td> <td>    0.427</td> <td>  -78.441</td> <td> 0.000</td> <td>  -34.367</td> <td>  -32.692</td>\n",
       "</tr>\n",
       "<tr>\n",
       "  <th>C(weekday)[T.5]</th> <td>  -33.4590</td> <td>    0.424</td> <td>  -78.856</td> <td> 0.000</td> <td>  -34.291</td> <td>  -32.627</td>\n",
       "</tr>\n",
       "<tr>\n",
       "  <th>C(weekday)[T.6]</th> <td>  -33.4199</td> <td>    0.430</td> <td>  -77.660</td> <td> 0.000</td> <td>  -34.263</td> <td>  -32.576</td>\n",
       "</tr>\n",
       "<tr>\n",
       "  <th>C(weekday)[T.7]</th> <td>    0.3086</td> <td>    0.408</td> <td>    0.757</td> <td> 0.449</td> <td>   -0.491</td> <td>    1.108</td>\n",
       "</tr>\n",
       "<tr>\n",
       "  <th>price</th>           <td>   -4.0004</td> <td>    0.110</td> <td>  -36.413</td> <td> 0.000</td> <td>   -4.216</td> <td>   -3.785</td>\n",
       "</tr>\n",
       "<tr>\n",
       "  <th>temp</th>            <td>    1.8331</td> <td>    0.028</td> <td>   65.779</td> <td> 0.000</td> <td>    1.778</td> <td>    1.888</td>\n",
       "</tr>\n",
       "<tr>\n",
       "  <th>cost</th>            <td>    3.2659</td> <td>    0.264</td> <td>   12.366</td> <td> 0.000</td> <td>    2.748</td> <td>    3.784</td>\n",
       "</tr>\n",
       "</table>"
      ],
      "text/latex": [
       "\\begin{center}\n",
       "\\begin{tabular}{lcccccc}\n",
       "\\toprule\n",
       "                         & \\textbf{coef} & \\textbf{std err} & \\textbf{t} & \\textbf{P$> |$t$|$} & \\textbf{[0.025} & \\textbf{0.975]}  \\\\\n",
       "\\midrule\n",
       "\\textbf{Intercept}       &     201.9694  &        1.004     &   201.146  &         0.000        &      200.001    &      203.938     \\\\\n",
       "\\textbf{C(weekday)[T.2]} &     -33.8632  &        0.421     &   -80.432  &         0.000        &      -34.688    &      -33.038     \\\\\n",
       "\\textbf{C(weekday)[T.3]} &     -33.5465  &        0.429     &   -78.287  &         0.000        &      -34.386    &      -32.707     \\\\\n",
       "\\textbf{C(weekday)[T.4]} &     -33.5294  &        0.427     &   -78.441  &         0.000        &      -34.367    &      -32.692     \\\\\n",
       "\\textbf{C(weekday)[T.5]} &     -33.4590  &        0.424     &   -78.856  &         0.000        &      -34.291    &      -32.627     \\\\\n",
       "\\textbf{C(weekday)[T.6]} &     -33.4199  &        0.430     &   -77.660  &         0.000        &      -34.263    &      -32.576     \\\\\n",
       "\\textbf{C(weekday)[T.7]} &       0.3086  &        0.408     &     0.757  &         0.449        &       -0.491    &        1.108     \\\\\n",
       "\\textbf{price}           &      -4.0004  &        0.110     &   -36.413  &         0.000        &       -4.216    &       -3.785     \\\\\n",
       "\\textbf{temp}            &       1.8331  &        0.028     &    65.779  &         0.000        &        1.778    &        1.888     \\\\\n",
       "\\textbf{cost}            &       3.2659  &        0.264     &    12.366  &         0.000        &        2.748    &        3.784     \\\\\n",
       "\\bottomrule\n",
       "\\end{tabular}\n",
       "\\end{center}"
      ],
      "text/plain": [
       "<class 'statsmodels.iolib.table.SimpleTable'>"
      ]
     },
     "execution_count": 19,
     "metadata": {},
     "output_type": "execute_result"
    }
   ],
   "source": [
    "model = smf.ols('sales ~ price + C(weekday) + temp + cost', data = df).fit()\n",
    "model.summary().tables[1]"
   ]
  },
  {
   "cell_type": "markdown",
   "metadata": {},
   "source": [
    "Aqui ya podemos ver que el precio tiene un coeficiente negativo, dejando todo lo demás igual si sube el precio las ventas caen "
   ]
  },
  {
   "cell_type": "markdown",
   "metadata": {},
   "source": [
    "### Aplicando el teorema de Teorema de Frisch-Waugh-Lovell"
   ]
  },
  {
   "cell_type": "code",
   "execution_count": 20,
   "metadata": {},
   "outputs": [
    {
     "data": {
      "text/html": [
       "<table class=\"simpletable\">\n",
       "<tr>\n",
       "       <td></td>          <th>coef</th>     <th>std err</th>      <th>t</th>      <th>P>|t|</th>  <th>[0.025</th>    <th>0.975]</th>  \n",
       "</tr>\n",
       "<tr>\n",
       "  <th>Intercept</th>   <td>-5.364e-13</td> <td>    0.111</td> <td>-4.85e-12</td> <td> 1.000</td> <td>   -0.217</td> <td>    0.217</td>\n",
       "</tr>\n",
       "<tr>\n",
       "  <th>price_resid</th> <td>   -4.0004</td> <td>    0.110</td> <td>  -36.428</td> <td> 0.000</td> <td>   -4.216</td> <td>   -3.785</td>\n",
       "</tr>\n",
       "</table>"
      ],
      "text/latex": [
       "\\begin{center}\n",
       "\\begin{tabular}{lcccccc}\n",
       "\\toprule\n",
       "                      & \\textbf{coef} & \\textbf{std err} & \\textbf{t} & \\textbf{P$> |$t$|$} & \\textbf{[0.025} & \\textbf{0.975]}  \\\\\n",
       "\\midrule\n",
       "\\textbf{Intercept}    &   -5.364e-13  &        0.111     & -4.85e-12  &         1.000        &       -0.217    &        0.217     \\\\\n",
       "\\textbf{price\\_resid} &      -4.0004  &        0.110     &   -36.428  &         0.000        &       -4.216    &       -3.785     \\\\\n",
       "\\bottomrule\n",
       "\\end{tabular}\n",
       "\\end{center}"
      ],
      "text/plain": [
       "<class 'statsmodels.iolib.table.SimpleTable'>"
      ]
     },
     "execution_count": 20,
     "metadata": {},
     "output_type": "execute_result"
    }
   ],
   "source": [
    "m1 = smf.ols('sales ~ C(weekday) + temp + cost', data = df).fit()\n",
    "m2 = smf.ols('price ~ C(weekday) + temp + cost', data = df).fit()\n",
    "m3 = smf.ols('sales_resid ~ price_resid', data = df.assign(sales_resid=m1.resid,\n",
    "                                                          price_resid=m2.resid)).fit()\n",
    "\n",
    "m3.summary().tables[1]"
   ]
  },
  {
   "cell_type": "markdown",
   "metadata": {},
   "source": [
    "### Caso 2\n",
    "\n",
    "¿Qué tan buena es una medicina?"
   ]
  },
  {
   "cell_type": "code",
   "execution_count": 21,
   "metadata": {},
   "outputs": [],
   "source": [
    "hospital = pd.read_csv('hospital_treatment.csv')"
   ]
  },
  {
   "cell_type": "code",
   "execution_count": 22,
   "metadata": {},
   "outputs": [
    {
     "data": {
      "text/html": [
       "<div>\n",
       "<style scoped>\n",
       "    .dataframe tbody tr th:only-of-type {\n",
       "        vertical-align: middle;\n",
       "    }\n",
       "\n",
       "    .dataframe tbody tr th {\n",
       "        vertical-align: top;\n",
       "    }\n",
       "\n",
       "    .dataframe thead th {\n",
       "        text-align: right;\n",
       "    }\n",
       "</style>\n",
       "<table border=\"1\" class=\"dataframe\">\n",
       "  <thead>\n",
       "    <tr style=\"text-align: right;\">\n",
       "      <th></th>\n",
       "      <th>hospital</th>\n",
       "      <th>treatment</th>\n",
       "      <th>severity</th>\n",
       "      <th>days</th>\n",
       "    </tr>\n",
       "  </thead>\n",
       "  <tbody>\n",
       "    <tr>\n",
       "      <th>0</th>\n",
       "      <td>1</td>\n",
       "      <td>1</td>\n",
       "      <td>29.686618</td>\n",
       "      <td>82</td>\n",
       "    </tr>\n",
       "    <tr>\n",
       "      <th>1</th>\n",
       "      <td>1</td>\n",
       "      <td>1</td>\n",
       "      <td>20.050340</td>\n",
       "      <td>57</td>\n",
       "    </tr>\n",
       "    <tr>\n",
       "      <th>2</th>\n",
       "      <td>1</td>\n",
       "      <td>1</td>\n",
       "      <td>20.302399</td>\n",
       "      <td>49</td>\n",
       "    </tr>\n",
       "    <tr>\n",
       "      <th>3</th>\n",
       "      <td>0</td>\n",
       "      <td>0</td>\n",
       "      <td>10.603118</td>\n",
       "      <td>44</td>\n",
       "    </tr>\n",
       "    <tr>\n",
       "      <th>4</th>\n",
       "      <td>0</td>\n",
       "      <td>0</td>\n",
       "      <td>8.332793</td>\n",
       "      <td>15</td>\n",
       "    </tr>\n",
       "  </tbody>\n",
       "</table>\n",
       "</div>"
      ],
      "text/plain": [
       "   hospital  treatment   severity  days\n",
       "0         1          1  29.686618    82\n",
       "1         1          1  20.050340    57\n",
       "2         1          1  20.302399    49\n",
       "3         0          0  10.603118    44\n",
       "4         0          0   8.332793    15"
      ]
     },
     "execution_count": 22,
     "metadata": {},
     "output_type": "execute_result"
    }
   ],
   "source": [
    "hospital.head()"
   ]
  },
  {
   "cell_type": "markdown",
   "metadata": {},
   "source": [
    "Regresion días y treatment"
   ]
  },
  {
   "cell_type": "code",
   "execution_count": 23,
   "metadata": {},
   "outputs": [
    {
     "data": {
      "text/html": [
       "<table class=\"simpletable\">\n",
       "<tr>\n",
       "      <td></td>         <th>coef</th>     <th>std err</th>      <th>t</th>      <th>P>|t|</th>  <th>[0.025</th>    <th>0.975]</th>  \n",
       "</tr>\n",
       "<tr>\n",
       "  <th>Intercept</th> <td>   33.2667</td> <td>    2.662</td> <td>   12.498</td> <td> 0.000</td> <td>   27.968</td> <td>   38.566</td>\n",
       "</tr>\n",
       "<tr>\n",
       "  <th>treatment</th> <td>   14.1533</td> <td>    3.367</td> <td>    4.204</td> <td> 0.000</td> <td>    7.451</td> <td>   20.856</td>\n",
       "</tr>\n",
       "</table>"
      ],
      "text/latex": [
       "\\begin{center}\n",
       "\\begin{tabular}{lcccccc}\n",
       "\\toprule\n",
       "                   & \\textbf{coef} & \\textbf{std err} & \\textbf{t} & \\textbf{P$> |$t$|$} & \\textbf{[0.025} & \\textbf{0.975]}  \\\\\n",
       "\\midrule\n",
       "\\textbf{Intercept} &      33.2667  &        2.662     &    12.498  &         0.000        &       27.968    &       38.566     \\\\\n",
       "\\textbf{treatment} &      14.1533  &        3.367     &     4.204  &         0.000        &        7.451    &       20.856     \\\\\n",
       "\\bottomrule\n",
       "\\end{tabular}\n",
       "\\end{center}"
      ],
      "text/plain": [
       "<class 'statsmodels.iolib.table.SimpleTable'>"
      ]
     },
     "execution_count": 23,
     "metadata": {},
     "output_type": "execute_result"
    }
   ],
   "source": [
    "model = smf.ols('days ~ treatment', data = hospital).fit()\n",
    "model.summary().tables[1]"
   ]
  },
  {
   "cell_type": "markdown",
   "metadata": {},
   "source": [
    "De entrada, parece que la medicina hace que los pacientes duren _más días en el hospital_\n",
    "\n",
    "\n",
    "Pero ...\n",
    "\n",
    "En realidad esta medicina se le da a los pacientes que están muy muy mal, aquí hay un sesgo en los datos.\n",
    "\n",
    "Afortunadamente podemos controlar por severidad"
   ]
  },
  {
   "cell_type": "code",
   "execution_count": 24,
   "metadata": {},
   "outputs": [
    {
     "data": {
      "text/html": [
       "<table class=\"simpletable\">\n",
       "<tr>\n",
       "      <td></td>         <th>coef</th>     <th>std err</th>      <th>t</th>      <th>P>|t|</th>  <th>[0.025</th>    <th>0.975]</th>  \n",
       "</tr>\n",
       "<tr>\n",
       "  <th>Intercept</th> <td>   11.6641</td> <td>    2.000</td> <td>    5.832</td> <td> 0.000</td> <td>    7.681</td> <td>   15.647</td>\n",
       "</tr>\n",
       "<tr>\n",
       "  <th>treatment</th> <td>   -7.5912</td> <td>    2.269</td> <td>   -3.345</td> <td> 0.001</td> <td>  -12.110</td> <td>   -3.073</td>\n",
       "</tr>\n",
       "<tr>\n",
       "  <th>severity</th>  <td>    2.2741</td> <td>    0.154</td> <td>   14.793</td> <td> 0.000</td> <td>    1.968</td> <td>    2.580</td>\n",
       "</tr>\n",
       "</table>"
      ],
      "text/latex": [
       "\\begin{center}\n",
       "\\begin{tabular}{lcccccc}\n",
       "\\toprule\n",
       "                   & \\textbf{coef} & \\textbf{std err} & \\textbf{t} & \\textbf{P$> |$t$|$} & \\textbf{[0.025} & \\textbf{0.975]}  \\\\\n",
       "\\midrule\n",
       "\\textbf{Intercept} &      11.6641  &        2.000     &     5.832  &         0.000        &        7.681    &       15.647     \\\\\n",
       "\\textbf{treatment} &      -7.5912  &        2.269     &    -3.345  &         0.001        &      -12.110    &       -3.073     \\\\\n",
       "\\textbf{severity}  &       2.2741  &        0.154     &    14.793  &         0.000        &        1.968    &        2.580     \\\\\n",
       "\\bottomrule\n",
       "\\end{tabular}\n",
       "\\end{center}"
      ],
      "text/plain": [
       "<class 'statsmodels.iolib.table.SimpleTable'>"
      ]
     },
     "execution_count": 24,
     "metadata": {},
     "output_type": "execute_result"
    }
   ],
   "source": [
    "model = smf.ols('days ~ treatment + severity', data = hospital).fit()\n",
    "model.summary().tables[1]"
   ]
  },
  {
   "cell_type": "markdown",
   "metadata": {},
   "source": [
    "Ahora la medicina parece que si tiene buen efecto \n",
    "\n",
    "Pasa que también depende mucho de los hopspitales, hay hospitales que tienen más pacientes con severidad"
   ]
  },
  {
   "cell_type": "code",
   "execution_count": 25,
   "metadata": {},
   "outputs": [
    {
     "data": {
      "text/html": [
       "<div>\n",
       "<style scoped>\n",
       "    .dataframe tbody tr th:only-of-type {\n",
       "        vertical-align: middle;\n",
       "    }\n",
       "\n",
       "    .dataframe tbody tr th {\n",
       "        vertical-align: top;\n",
       "    }\n",
       "\n",
       "    .dataframe thead th {\n",
       "        text-align: right;\n",
       "    }\n",
       "</style>\n",
       "<table border=\"1\" class=\"dataframe\">\n",
       "  <thead>\n",
       "    <tr style=\"text-align: right;\">\n",
       "      <th></th>\n",
       "      <th>treatment</th>\n",
       "      <th>severity</th>\n",
       "      <th>days</th>\n",
       "    </tr>\n",
       "    <tr>\n",
       "      <th>hospital</th>\n",
       "      <th></th>\n",
       "      <th></th>\n",
       "      <th></th>\n",
       "    </tr>\n",
       "  </thead>\n",
       "  <tbody>\n",
       "    <tr>\n",
       "      <th>0</th>\n",
       "      <td>0.068966</td>\n",
       "      <td>7.944987</td>\n",
       "      <td>29.620690</td>\n",
       "    </tr>\n",
       "    <tr>\n",
       "      <th>1</th>\n",
       "      <td>0.941176</td>\n",
       "      <td>19.757954</td>\n",
       "      <td>49.215686</td>\n",
       "    </tr>\n",
       "  </tbody>\n",
       "</table>\n",
       "</div>"
      ],
      "text/plain": [
       "          treatment   severity       days\n",
       "hospital                                 \n",
       "0          0.068966   7.944987  29.620690\n",
       "1          0.941176  19.757954  49.215686"
      ]
     },
     "execution_count": 25,
     "metadata": {},
     "output_type": "execute_result"
    }
   ],
   "source": [
    "# Group by hospital\n",
    "hospital.groupby('hospital').mean()"
   ]
  },
  {
   "cell_type": "markdown",
   "metadata": {},
   "source": [
    "Pues hago un modelo que tenga todo, de una vez ... no puede ser malo-"
   ]
  },
  {
   "cell_type": "code",
   "execution_count": 26,
   "metadata": {},
   "outputs": [
    {
     "data": {
      "text/html": [
       "<table class=\"simpletable\">\n",
       "<tr>\n",
       "      <td></td>         <th>coef</th>     <th>std err</th>      <th>t</th>      <th>P>|t|</th>  <th>[0.025</th>    <th>0.975]</th>  \n",
       "</tr>\n",
       "<tr>\n",
       "  <th>Intercept</th> <td>   11.0111</td> <td>    2.118</td> <td>    5.198</td> <td> 0.000</td> <td>    6.792</td> <td>   15.230</td>\n",
       "</tr>\n",
       "<tr>\n",
       "  <th>treatment</th> <td>   -5.0945</td> <td>    3.492</td> <td>   -1.459</td> <td> 0.149</td> <td>  -12.049</td> <td>    1.861</td>\n",
       "</tr>\n",
       "<tr>\n",
       "  <th>severity</th>  <td>    2.3865</td> <td>    0.195</td> <td>   12.251</td> <td> 0.000</td> <td>    1.999</td> <td>    2.774</td>\n",
       "</tr>\n",
       "<tr>\n",
       "  <th>hospital</th>  <td>   -4.1535</td> <td>    4.413</td> <td>   -0.941</td> <td> 0.350</td> <td>  -12.943</td> <td>    4.636</td>\n",
       "</tr>\n",
       "</table>"
      ],
      "text/latex": [
       "\\begin{center}\n",
       "\\begin{tabular}{lcccccc}\n",
       "\\toprule\n",
       "                   & \\textbf{coef} & \\textbf{std err} & \\textbf{t} & \\textbf{P$> |$t$|$} & \\textbf{[0.025} & \\textbf{0.975]}  \\\\\n",
       "\\midrule\n",
       "\\textbf{Intercept} &      11.0111  &        2.118     &     5.198  &         0.000        &        6.792    &       15.230     \\\\\n",
       "\\textbf{treatment} &      -5.0945  &        3.492     &    -1.459  &         0.149        &      -12.049    &        1.861     \\\\\n",
       "\\textbf{severity}  &       2.3865  &        0.195     &    12.251  &         0.000        &        1.999    &        2.774     \\\\\n",
       "\\textbf{hospital}  &      -4.1535  &        4.413     &    -0.941  &         0.350        &      -12.943    &        4.636     \\\\\n",
       "\\bottomrule\n",
       "\\end{tabular}\n",
       "\\end{center}"
      ],
      "text/plain": [
       "<class 'statsmodels.iolib.table.SimpleTable'>"
      ]
     },
     "execution_count": 26,
     "metadata": {},
     "output_type": "execute_result"
    }
   ],
   "source": [
    "model = smf.ols('days ~ treatment + severity + hospital', data = hospital).fit()\n",
    "model.summary().tables[1]"
   ]
  },
  {
   "cell_type": "markdown",
   "metadata": {},
   "source": [
    "El tratamiento tiene un p-value no significativo, ¿qué está pasando?\n",
    "\n",
    "\n",
    "Recordar la formula del error estadard en una regresión:\n",
    "\n",
    "\n",
    "$$\\sigma^2 = \\frac{\\Sigma (y_i - \\hat{y})^2}{n}$$\n",
    "\n",
    "$$SE(\\beta) = \\sqrt{\\frac{\\sigma^2}{\\Sigma (x - E[X])^2}} $$\n",
    "\n",
    "Si la varianza de X es muy baja, el error estandard será *mayor*\n",
    "\n",
    "\n",
    "¿Cómo es que la varianza de el tratamiento puede bajar en este caso?\n",
    "\n",
    "A la hora de aplicar el Teorema de Frisch-Waugh-Lovel el hospital puede predecir la severidad, los residuales serán más pequeños y le predicción del efecto se ve afectada.\n"
   ]
  },
  {
   "cell_type": "code",
   "execution_count": 27,
   "metadata": {},
   "outputs": [],
   "source": [
    "m1 = smf.ols('days ~ severity + hospital', data = hospital).fit()\n",
    "m2 = smf.ols('treatment ~ severity + hospital', data = hospital).fit()\n",
    "\n",
    "m3 = smf.ols('resid_days ~ resid_treatment', data = hospital.assign(resid_days = m1.resid,\n",
    "                                                                 resid_treatment = m2.resid)).fit()"
   ]
  },
  {
   "cell_type": "code",
   "execution_count": 28,
   "metadata": {},
   "outputs": [
    {
     "data": {
      "text/html": [
       "<table class=\"simpletable\">\n",
       "<tr>\n",
       "         <td></td>            <th>coef</th>     <th>std err</th>      <th>t</th>      <th>P>|t|</th>  <th>[0.025</th>    <th>0.975]</th>  \n",
       "</tr>\n",
       "<tr>\n",
       "  <th>Intercept</th>       <td> 3.259e-14</td> <td>    0.827</td> <td> 3.94e-14</td> <td> 1.000</td> <td>   -1.646</td> <td>    1.646</td>\n",
       "</tr>\n",
       "<tr>\n",
       "  <th>resid_treatment</th> <td>   -5.0945</td> <td>    3.447</td> <td>   -1.478</td> <td> 0.143</td> <td>  -11.957</td> <td>    1.768</td>\n",
       "</tr>\n",
       "</table>"
      ],
      "text/latex": [
       "\\begin{center}\n",
       "\\begin{tabular}{lcccccc}\n",
       "\\toprule\n",
       "                          & \\textbf{coef} & \\textbf{std err} & \\textbf{t} & \\textbf{P$> |$t$|$} & \\textbf{[0.025} & \\textbf{0.975]}  \\\\\n",
       "\\midrule\n",
       "\\textbf{Intercept}        &    3.259e-14  &        0.827     &  3.94e-14  &         1.000        &       -1.646    &        1.646     \\\\\n",
       "\\textbf{resid\\_treatment} &      -5.0945  &        3.447     &    -1.478  &         0.143        &      -11.957    &        1.768     \\\\\n",
       "\\bottomrule\n",
       "\\end{tabular}\n",
       "\\end{center}"
      ],
      "text/plain": [
       "<class 'statsmodels.iolib.table.SimpleTable'>"
      ]
     },
     "execution_count": 28,
     "metadata": {},
     "output_type": "execute_result"
    }
   ],
   "source": [
    "m3.summary().tables[1]"
   ]
  },
  {
   "cell_type": "code",
   "execution_count": null,
   "metadata": {},
   "outputs": [],
   "source": []
  },
  {
   "cell_type": "markdown",
   "metadata": {},
   "source": [
    "Si hacemos lo mismo, pero sin hospital el p-value ya es significativo"
   ]
  },
  {
   "cell_type": "code",
   "execution_count": null,
   "metadata": {},
   "outputs": [],
   "source": []
  },
  {
   "cell_type": "markdown",
   "metadata": {},
   "source": [
    "*Si el objetivo de su regresión está fuertemente ligado a interpretar los coeficientes, no agregar controles que predigan el tratamiento pero no tenga relación real con $y$*"
   ]
  },
  {
   "cell_type": "markdown",
   "metadata": {},
   "source": [
    "### Un poco más sobre modelado \n",
    "\n",
    "Tenemos los datos de tarjeta de crédito de una empresa, queremos predecir cuanto va a gastar un usuario y en función de eso darle un límite de crédito.\n",
    "\n",
    "Podemos asumir que :\n",
    "\n",
    "1- A mayor ingreso, mayor gasto\n",
    "\n",
    "2- A mayor límite de crédito, mayor gasto pero no en la misma proporción\n"
   ]
  },
  {
   "cell_type": "code",
   "execution_count": 31,
   "metadata": {},
   "outputs": [
    {
     "data": {
      "text/html": [
       "<div>\n",
       "<style scoped>\n",
       "    .dataframe tbody tr th:only-of-type {\n",
       "        vertical-align: middle;\n",
       "    }\n",
       "\n",
       "    .dataframe tbody tr th {\n",
       "        vertical-align: top;\n",
       "    }\n",
       "\n",
       "    .dataframe thead th {\n",
       "        text-align: right;\n",
       "    }\n",
       "</style>\n",
       "<table border=\"1\" class=\"dataframe\">\n",
       "  <thead>\n",
       "    <tr style=\"text-align: right;\">\n",
       "      <th></th>\n",
       "      <th>wage</th>\n",
       "      <th>educ</th>\n",
       "      <th>exper</th>\n",
       "      <th>married</th>\n",
       "      <th>credit_score1</th>\n",
       "      <th>credit_score2</th>\n",
       "      <th>credit_limit</th>\n",
       "      <th>spend</th>\n",
       "    </tr>\n",
       "  </thead>\n",
       "  <tbody>\n",
       "    <tr>\n",
       "      <th>0</th>\n",
       "      <td>950.0</td>\n",
       "      <td>11</td>\n",
       "      <td>16</td>\n",
       "      <td>1</td>\n",
       "      <td>500.0</td>\n",
       "      <td>518.0</td>\n",
       "      <td>3200.0</td>\n",
       "      <td>3848</td>\n",
       "    </tr>\n",
       "    <tr>\n",
       "      <th>1</th>\n",
       "      <td>780.0</td>\n",
       "      <td>11</td>\n",
       "      <td>7</td>\n",
       "      <td>1</td>\n",
       "      <td>414.0</td>\n",
       "      <td>429.0</td>\n",
       "      <td>1700.0</td>\n",
       "      <td>3144</td>\n",
       "    </tr>\n",
       "    <tr>\n",
       "      <th>2</th>\n",
       "      <td>1230.0</td>\n",
       "      <td>14</td>\n",
       "      <td>9</td>\n",
       "      <td>1</td>\n",
       "      <td>586.0</td>\n",
       "      <td>571.0</td>\n",
       "      <td>4200.0</td>\n",
       "      <td>4486</td>\n",
       "    </tr>\n",
       "    <tr>\n",
       "      <th>3</th>\n",
       "      <td>1040.0</td>\n",
       "      <td>15</td>\n",
       "      <td>8</td>\n",
       "      <td>1</td>\n",
       "      <td>379.0</td>\n",
       "      <td>411.0</td>\n",
       "      <td>1500.0</td>\n",
       "      <td>3327</td>\n",
       "    </tr>\n",
       "    <tr>\n",
       "      <th>4</th>\n",
       "      <td>1000.0</td>\n",
       "      <td>16</td>\n",
       "      <td>1</td>\n",
       "      <td>1</td>\n",
       "      <td>379.0</td>\n",
       "      <td>518.0</td>\n",
       "      <td>1800.0</td>\n",
       "      <td>3508</td>\n",
       "    </tr>\n",
       "  </tbody>\n",
       "</table>\n",
       "</div>"
      ],
      "text/plain": [
       "     wage  educ  exper  married  credit_score1  credit_score2  credit_limit  \\\n",
       "0   950.0    11     16        1          500.0          518.0        3200.0   \n",
       "1   780.0    11      7        1          414.0          429.0        1700.0   \n",
       "2  1230.0    14      9        1          586.0          571.0        4200.0   \n",
       "3  1040.0    15      8        1          379.0          411.0        1500.0   \n",
       "4  1000.0    16      1        1          379.0          518.0        1800.0   \n",
       "\n",
       "   spend  \n",
       "0   3848  \n",
       "1   3144  \n",
       "2   4486  \n",
       "3   3327  \n",
       "4   3508  "
      ]
     },
     "execution_count": 31,
     "metadata": {},
     "output_type": "execute_result"
    }
   ],
   "source": [
    "spend = pd.read_csv('spend_data.csv')\n",
    "spend.head()"
   ]
  },
  {
   "cell_type": "code",
   "execution_count": 32,
   "metadata": {},
   "outputs": [],
   "source": [
    "spend['wage_bins'] = pd.qcut(spend['wage'], q=5, labels=False) + 1"
   ]
  },
  {
   "cell_type": "markdown",
   "metadata": {},
   "source": [
    "Grafica el límite de crédito vs gasto, segmentado por salario "
   ]
  },
  {
   "cell_type": "code",
   "execution_count": 35,
   "metadata": {},
   "outputs": [
    {
     "data": {
      "text/plain": [
       "Text(0.5, 1.0, 'Límite de crédito vs. gasto, segmentado por salario')"
      ]
     },
     "execution_count": 35,
     "metadata": {},
     "output_type": "execute_result"
    },
    {
     "data": {
      "image/png": "[encoded data removed]",
      "text/plain": [
       "<Figure size 640x480 with 1 Axes>"
      ]
     },
     "metadata": {},
     "output_type": "display_data"
    }
   ],
   "source": [
    "for i in  np.sort(spend.wage_bins.unique()):\n",
    "    flag_df = spend.query(\"wage_bins == @i\")\n",
    "    flag_df['credit_limit_bin'] = pd.qcut(flag_df['credit_limit'], q=5, labels = False) + 1\n",
    "    grouped = flag_df.groupby('credit_limit_bin').mean()\n",
    "    \n",
    "    plt.plot(grouped.credit_limit, grouped.spend, label = np.mean(flag_df.wage), marker = \"o\")\n",
    "    \n",
    "plt.legend()\n",
    "plt.grid()\n",
    "plt.xlabel(\"Límite de crédito\")\n",
    "plt.ylabel(\"Salario\")\n",
    "plt.title(\"Límite de crédito vs. gasto, segmentado por salario\")"
   ]
  },
  {
   "cell_type": "markdown",
   "metadata": {},
   "source": [
    "Efectivamente, líite de crédito, mayor gasto pero no es lineal al segmentar por ingreso.\n",
    "\n",
    "Predice el gasto usando una regresión simple de salrio y límite de crédito"
   ]
  },
  {
   "cell_type": "code",
   "execution_count": 42,
   "metadata": {},
   "outputs": [
    {
     "name": "stdout",
     "output_type": "stream",
     "text": [
      "                            OLS Regression Results                            \n",
      "==============================================================================\n",
      "Dep. Variable:                  spend   R-squared:                       0.949\n",
      "Model:                            OLS   Adj. R-squared:                  0.949\n",
      "Method:                 Least Squares   F-statistic:                 4.608e+05\n",
      "Date:                Thu, 13 Feb 2025   Prob (F-statistic):               0.00\n",
      "Time:                        20:34:19   Log-Likelihood:            -3.3935e+05\n",
      "No. Observations:               50000   AIC:                         6.787e+05\n",
      "Df Residuals:                   49997   BIC:                         6.787e+05\n",
      "Df Model:                           2                                         \n",
      "Covariance Type:            nonrobust                                         \n",
      "================================================================================\n",
      "                   coef    std err          t      P>|t|      [0.025      0.975]\n",
      "--------------------------------------------------------------------------------\n",
      "Intercept     1457.4571      2.694    541.036      0.000    1452.177    1462.737\n",
      "wage             0.9980      0.003    323.873      0.000       0.992       1.004\n",
      "credit_limit     0.4348      0.001    469.691      0.000       0.433       0.437\n",
      "==============================================================================\n",
      "Omnibus:                    11008.217   Durbin-Watson:                   1.997\n",
      "Prob(Omnibus):                  0.000   Jarque-Bera (JB):            23698.062\n",
      "Skew:                          -1.282   Prob(JB):                         0.00\n",
      "Kurtosis:                       5.191   Cond. No.                     9.39e+03\n",
      "==============================================================================\n",
      "\n",
      "Notes:\n",
      "[1] Standard Errors assume that the covariance matrix of the errors is correctly specified.\n",
      "[2] The condition number is large, 9.39e+03. This might indicate that there are\n",
      "strong multicollinearity or other numerical problems.\n"
     ]
    }
   ],
   "source": [
    "model = smf.ols('spend ~ wage + credit_limit', data = spend).fit()\n",
    "predicciones1 = model.predict(spend)\n",
    "\n",
    "print(model.summary())"
   ]
  },
  {
   "cell_type": "code",
   "execution_count": 43,
   "metadata": {},
   "outputs": [
    {
     "name": "stdout",
     "output_type": "stream",
     "text": [
      "                            OLS Regression Results                            \n",
      "==============================================================================\n",
      "Dep. Variable:                  spend   R-squared:                       0.972\n",
      "Model:                            OLS   Adj. R-squared:                  0.972\n",
      "Method:                 Least Squares   F-statistic:                 8.771e+05\n",
      "Date:                Thu, 13 Feb 2025   Prob (F-statistic):               0.00\n",
      "Time:                        20:34:19   Log-Likelihood:            -3.2388e+05\n",
      "No. Observations:               50000   AIC:                         6.478e+05\n",
      "Df Residuals:                   49997   BIC:                         6.478e+05\n",
      "Df Model:                           2                                         \n",
      "Covariance Type:            nonrobust                                         \n",
      "=========================================================================================\n",
      "                            coef    std err          t      P>|t|      [0.025      0.975]\n",
      "-----------------------------------------------------------------------------------------\n",
      "Intercept               383.5002      2.746    139.662      0.000     378.118     388.882\n",
      "wage                      1.0459      0.002    481.875      0.000       1.042       1.050\n",
      "np.sqrt(credit_limit)    43.8504      0.065    672.633      0.000      43.723      43.978\n",
      "==============================================================================\n",
      "Omnibus:                     7910.493   Durbin-Watson:                   1.997\n",
      "Prob(Omnibus):                  0.000   Jarque-Bera (JB):            13295.911\n",
      "Skew:                          -1.056   Prob(JB):                         0.00\n",
      "Kurtosis:                       4.385   Cond. No.                     4.45e+03\n",
      "==============================================================================\n",
      "\n",
      "Notes:\n",
      "[1] Standard Errors assume that the covariance matrix of the errors is correctly specified.\n",
      "[2] The condition number is large, 4.45e+03. This might indicate that there are\n",
      "strong multicollinearity or other numerical problems.\n"
     ]
    }
   ],
   "source": [
    "model = smf.ols('spend ~ wage + np.sqrt(credit_limit)', data = spend).fit()\n",
    "predicciones2 = model.predict(spend)\n",
    "\n",
    "print(model.summary())"
   ]
  },
  {
   "cell_type": "markdown",
   "metadata": {},
   "source": [
    "### Utilizando una función no lineal vamos a linearizar el modelo"
   ]
  },
  {
   "cell_type": "code",
   "execution_count": 46,
   "metadata": {},
   "outputs": [],
   "source": [
    "spend['predicciones1'] = predicciones\n",
    "spend['predicciones2'] = predicciones2"
   ]
  },
  {
   "cell_type": "code",
   "execution_count": 50,
   "metadata": {},
   "outputs": [
    {
     "data": {
      "text/plain": [
       "Text(0.5, 1.0, 'Límite de crédito vs. gasto, segmentado por salario')"
      ]
     },
     "execution_count": 50,
     "metadata": {},
     "output_type": "execute_result"
    },
    {
     "data": {
      "image/png": "[encoded data removed]",
      "text/plain": [
       "<Figure size 640x480 with 1 Axes>"
      ]
     },
     "metadata": {},
     "output_type": "display_data"
    }
   ],
   "source": [
    "for i in  np.sort(spend.wage_bins.unique()):\n",
    "    flag_df = spend.query(\"wage_bins == @i\")\n",
    "    flag_df['credit_limit_bin'] = pd.qcut(flag_df['credit_limit'], q=5, labels = False) + 1\n",
    "    grouped = flag_df.groupby('credit_limit_bin').mean()\n",
    "    \n",
    "    plt.plot(grouped.credit_limit, grouped.spend, label = \"real\", marker = \"o\", alpha = 0.5)\n",
    "    plt.plot(grouped.credit_limit, grouped.predicciones1, label = \"modelo1\", marker = \"o\")\n",
    "    \n",
    "plt.legend()\n",
    "plt.grid()\n",
    "plt.xlabel(\"Límite de crédito\")\n",
    "plt.ylabel(\"Salario\")\n",
    "plt.title(\"Límite de crédito vs. gasto, segmentado por salario\")"
   ]
  },
  {
   "cell_type": "code",
   "execution_count": 51,
   "metadata": {},
   "outputs": [
    {
     "data": {
      "text/plain": [
       "Text(0.5, 1.0, 'Límite de crédito vs. gasto, segmentado por salario')"
      ]
     },
     "execution_count": 51,
     "metadata": {},
     "output_type": "execute_result"
    },
    {
     "data": {
      "image/png": "[encoded data removed]",
      "text/plain": [
       "<Figure size 640x480 with 1 Axes>"
      ]
     },
     "metadata": {},
     "output_type": "display_data"
    }
   ],
   "source": [
    "for i in  np.sort(spend.wage_bins.unique()):\n",
    "    flag_df = spend.query(\"wage_bins == @i\")\n",
    "    flag_df['credit_limit_bin'] = pd.qcut(flag_df['credit_limit'], q=5, labels = False) + 1\n",
    "    grouped = flag_df.groupby('credit_limit_bin').mean()\n",
    "    \n",
    "    plt.plot(grouped.credit_limit, grouped.spend, label = \"real\", marker = \"o\", alpha = 0.5)\n",
    "    plt.plot(grouped.credit_limit, grouped.predicciones2, label = \"modelo1\", marker = \"o\")\n",
    "    \n",
    "plt.legend()\n",
    "plt.grid()\n",
    "plt.xlabel(\"Límite de crédito\")\n",
    "plt.ylabel(\"Salario\")\n",
    "plt.title(\"Límite de crédito vs. gasto, segmentado por salario\")"
   ]
  },
  {
   "cell_type": "markdown",
   "metadata": {},
   "source": [
    "¿Por qué esto mejora?\n",
    "\n",
    "Bivarido segmentado por el límite de crédito con predicciones 1"
   ]
  },
  {
   "cell_type": "code",
   "execution_count": null,
   "metadata": {},
   "outputs": [],
   "source": []
  },
  {
   "cell_type": "markdown",
   "metadata": {},
   "source": [
    "Ahora con la segunda prediccion"
   ]
  },
  {
   "cell_type": "code",
   "execution_count": null,
   "metadata": {},
   "outputs": [],
   "source": []
  },
  {
   "cell_type": "markdown",
   "metadata": {},
   "source": [
    "La predicción 2 se parece más a la realidad"
   ]
  },
  {
   "cell_type": "code",
   "execution_count": null,
   "metadata": {},
   "outputs": [],
   "source": []
  }
 ],
 "metadata": {
  "kernelspec": {
   "display_name": "Python 3 (ipykernel)",
   "language": "python",
   "name": "python3"
  },
  "language_info": {
   "codemirror_mode": {
    "name": "ipython",
    "version": 3
   },
   "file_extension": ".py",
   "mimetype": "text/x-python",
   "name": "python",
   "nbconvert_exporter": "python",
   "pygments_lexer": "ipython3",
   "version": "3.11.4"
  }
 },
 "nbformat": 4,
 "nbformat_minor": 4
}
