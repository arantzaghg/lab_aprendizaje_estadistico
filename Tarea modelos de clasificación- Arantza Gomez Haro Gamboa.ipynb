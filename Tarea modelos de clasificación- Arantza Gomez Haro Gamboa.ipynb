{
 "cells": [
  {
   "cell_type": "code",
   "execution_count": 1,
   "id": "e6ac134e",
   "metadata": {},
   "outputs": [],
   "source": [
    "import pandas as pd\n",
    "import numpy as np\n",
    "import matplotlib.pyplot as plt\n",
    "from sklearn import neighbors\n",
    "from sklearn.model_selection import train_test_split\n",
    "from sklearn import linear_model\n",
    "from sklearn.metrics import roc_curve\n",
    "from sklearn.metrics import roc_auc_score\n",
    "from sklearn.preprocessing import PolynomialFeatures\n",
    "from sklearn.preprocessing import StandardScaler\n",
    "from sklearn.pipeline import Pipeline\n",
    "from sklearn import discriminant_analysis\n",
    "from sklearn.neighbors import KNeighborsClassifier\n",
    "from sklearn.neighbors import KNeighborsRegressor\n",
    "import statsmodels.formula.api as smf"
   ]
  },
  {
   "cell_type": "markdown",
   "id": "f0dce11f",
   "metadata": {},
   "source": [
    "# Datos:"
   ]
  },
  {
   "cell_type": "code",
   "execution_count": 2,
   "id": "bfc049c2",
   "metadata": {},
   "outputs": [
    {
     "data": {
      "text/html": [
       "<div>\n",
       "<style scoped>\n",
       "    .dataframe tbody tr th:only-of-type {\n",
       "        vertical-align: middle;\n",
       "    }\n",
       "\n",
       "    .dataframe tbody tr th {\n",
       "        vertical-align: top;\n",
       "    }\n",
       "\n",
       "    .dataframe thead th {\n",
       "        text-align: right;\n",
       "    }\n",
       "</style>\n",
       "<table border=\"1\" class=\"dataframe\">\n",
       "  <thead>\n",
       "    <tr style=\"text-align: right;\">\n",
       "      <th></th>\n",
       "      <th>Age</th>\n",
       "      <th>Gender</th>\n",
       "      <th>BMI</th>\n",
       "      <th>Smoking</th>\n",
       "      <th>AlcoholConsumption</th>\n",
       "      <th>PhysicalActivity</th>\n",
       "      <th>DietQuality</th>\n",
       "      <th>SleepQuality</th>\n",
       "      <th>FamilyHistoryAlzheimers</th>\n",
       "      <th>CardiovascularDisease</th>\n",
       "      <th>...</th>\n",
       "      <th>Forgetfulness</th>\n",
       "      <th>Diagnosis</th>\n",
       "      <th>Ethnicity_0</th>\n",
       "      <th>Ethnicity_1</th>\n",
       "      <th>Ethnicity_2</th>\n",
       "      <th>Ethnicity_3</th>\n",
       "      <th>EducationLevel_0</th>\n",
       "      <th>EducationLevel_1</th>\n",
       "      <th>EducationLevel_2</th>\n",
       "      <th>EducationLevel_3</th>\n",
       "    </tr>\n",
       "  </thead>\n",
       "  <tbody>\n",
       "    <tr>\n",
       "      <th>0</th>\n",
       "      <td>73</td>\n",
       "      <td>0</td>\n",
       "      <td>22.927749</td>\n",
       "      <td>0</td>\n",
       "      <td>13.297218</td>\n",
       "      <td>6.327112</td>\n",
       "      <td>1.347214</td>\n",
       "      <td>9.025679</td>\n",
       "      <td>0</td>\n",
       "      <td>0</td>\n",
       "      <td>...</td>\n",
       "      <td>0</td>\n",
       "      <td>0</td>\n",
       "      <td>1</td>\n",
       "      <td>0</td>\n",
       "      <td>0</td>\n",
       "      <td>0</td>\n",
       "      <td>0</td>\n",
       "      <td>0</td>\n",
       "      <td>1</td>\n",
       "      <td>0</td>\n",
       "    </tr>\n",
       "    <tr>\n",
       "      <th>1</th>\n",
       "      <td>89</td>\n",
       "      <td>0</td>\n",
       "      <td>26.827681</td>\n",
       "      <td>0</td>\n",
       "      <td>4.542524</td>\n",
       "      <td>7.619885</td>\n",
       "      <td>0.518767</td>\n",
       "      <td>7.151293</td>\n",
       "      <td>0</td>\n",
       "      <td>0</td>\n",
       "      <td>...</td>\n",
       "      <td>1</td>\n",
       "      <td>0</td>\n",
       "      <td>1</td>\n",
       "      <td>0</td>\n",
       "      <td>0</td>\n",
       "      <td>0</td>\n",
       "      <td>1</td>\n",
       "      <td>0</td>\n",
       "      <td>0</td>\n",
       "      <td>0</td>\n",
       "    </tr>\n",
       "    <tr>\n",
       "      <th>2</th>\n",
       "      <td>73</td>\n",
       "      <td>0</td>\n",
       "      <td>17.795882</td>\n",
       "      <td>0</td>\n",
       "      <td>19.555085</td>\n",
       "      <td>7.844988</td>\n",
       "      <td>1.826335</td>\n",
       "      <td>9.673574</td>\n",
       "      <td>1</td>\n",
       "      <td>0</td>\n",
       "      <td>...</td>\n",
       "      <td>0</td>\n",
       "      <td>0</td>\n",
       "      <td>0</td>\n",
       "      <td>0</td>\n",
       "      <td>0</td>\n",
       "      <td>1</td>\n",
       "      <td>0</td>\n",
       "      <td>1</td>\n",
       "      <td>0</td>\n",
       "      <td>0</td>\n",
       "    </tr>\n",
       "    <tr>\n",
       "      <th>3</th>\n",
       "      <td>74</td>\n",
       "      <td>1</td>\n",
       "      <td>33.800817</td>\n",
       "      <td>1</td>\n",
       "      <td>12.209266</td>\n",
       "      <td>8.428001</td>\n",
       "      <td>7.435604</td>\n",
       "      <td>8.392554</td>\n",
       "      <td>0</td>\n",
       "      <td>0</td>\n",
       "      <td>...</td>\n",
       "      <td>0</td>\n",
       "      <td>0</td>\n",
       "      <td>1</td>\n",
       "      <td>0</td>\n",
       "      <td>0</td>\n",
       "      <td>0</td>\n",
       "      <td>0</td>\n",
       "      <td>1</td>\n",
       "      <td>0</td>\n",
       "      <td>0</td>\n",
       "    </tr>\n",
       "    <tr>\n",
       "      <th>4</th>\n",
       "      <td>89</td>\n",
       "      <td>0</td>\n",
       "      <td>20.716974</td>\n",
       "      <td>0</td>\n",
       "      <td>18.454356</td>\n",
       "      <td>6.310461</td>\n",
       "      <td>0.795498</td>\n",
       "      <td>5.597238</td>\n",
       "      <td>0</td>\n",
       "      <td>0</td>\n",
       "      <td>...</td>\n",
       "      <td>0</td>\n",
       "      <td>0</td>\n",
       "      <td>1</td>\n",
       "      <td>0</td>\n",
       "      <td>0</td>\n",
       "      <td>0</td>\n",
       "      <td>1</td>\n",
       "      <td>0</td>\n",
       "      <td>0</td>\n",
       "      <td>0</td>\n",
       "    </tr>\n",
       "  </tbody>\n",
       "</table>\n",
       "<p>5 rows × 39 columns</p>\n",
       "</div>"
      ],
      "text/plain": [
       "   Age  Gender        BMI  Smoking  AlcoholConsumption  PhysicalActivity  \\\n",
       "0   73       0  22.927749        0           13.297218          6.327112   \n",
       "1   89       0  26.827681        0            4.542524          7.619885   \n",
       "2   73       0  17.795882        0           19.555085          7.844988   \n",
       "3   74       1  33.800817        1           12.209266          8.428001   \n",
       "4   89       0  20.716974        0           18.454356          6.310461   \n",
       "\n",
       "   DietQuality  SleepQuality  FamilyHistoryAlzheimers  CardiovascularDisease  \\\n",
       "0     1.347214      9.025679                        0                      0   \n",
       "1     0.518767      7.151293                        0                      0   \n",
       "2     1.826335      9.673574                        1                      0   \n",
       "3     7.435604      8.392554                        0                      0   \n",
       "4     0.795498      5.597238                        0                      0   \n",
       "\n",
       "   ...  Forgetfulness  Diagnosis  Ethnicity_0  Ethnicity_1  Ethnicity_2  \\\n",
       "0  ...              0          0            1            0            0   \n",
       "1  ...              1          0            1            0            0   \n",
       "2  ...              0          0            0            0            0   \n",
       "3  ...              0          0            1            0            0   \n",
       "4  ...              0          0            1            0            0   \n",
       "\n",
       "   Ethnicity_3  EducationLevel_0  EducationLevel_1  EducationLevel_2  \\\n",
       "0            0                 0                 0                 1   \n",
       "1            0                 1                 0                 0   \n",
       "2            1                 0                 1                 0   \n",
       "3            0                 0                 1                 0   \n",
       "4            0                 1                 0                 0   \n",
       "\n",
       "   EducationLevel_3  \n",
       "0                 0  \n",
       "1                 0  \n",
       "2                 0  \n",
       "3                 0  \n",
       "4                 0  \n",
       "\n",
       "[5 rows x 39 columns]"
      ]
     },
     "execution_count": 2,
     "metadata": {},
     "output_type": "execute_result"
    }
   ],
   "source": [
    "df = pd.read_csv('alzheimers_disease_data.csv')\n",
    "df = df.drop(['PatientID', 'DoctorInCharge'], axis=1)\n",
    "df = pd.get_dummies(df, columns = ['Ethnicity', 'EducationLevel'])\n",
    "df.head()"
   ]
  },
  {
   "cell_type": "code",
   "execution_count": 3,
   "id": "36bdc813",
   "metadata": {},
   "outputs": [],
   "source": [
    "target = 'Diagnosis'\n",
    "y = df[target]\n",
    "X = df.copy()\n",
    "X = X.drop(target, axis=1)\n",
    "\n",
    "X_train, X_test, y_train, y_test = train_test_split(X, y, test_size=0.3, random_state=42)"
   ]
  },
  {
   "cell_type": "markdown",
   "id": "e4e9c378",
   "metadata": {},
   "source": [
    "# Modelos:\n",
    "\n",
    "## Regresión Logística"
   ]
  },
  {
   "cell_type": "code",
   "execution_count": 4,
   "id": "73c7b2c3",
   "metadata": {},
   "outputs": [
    {
     "name": "stderr",
     "output_type": "stream",
     "text": [
      "C:\\Users\\arant\\anaconda3\\Lib\\site-packages\\sklearn\\linear_model\\_logistic.py:460: ConvergenceWarning: lbfgs failed to converge (status=1):\n",
      "STOP: TOTAL NO. of ITERATIONS REACHED LIMIT.\n",
      "\n",
      "Increase the number of iterations (max_iter) or scale the data as shown in:\n",
      "    https://scikit-learn.org/stable/modules/preprocessing.html\n",
      "Please also refer to the documentation for alternative solver options:\n",
      "    https://scikit-learn.org/stable/modules/linear_model.html#logistic-regression\n",
      "  n_iter_i = _check_optimize_result(\n"
     ]
    }
   ],
   "source": [
    "model = linear_model.LogisticRegression()\n",
    "model.fit(X_train, y_train)\n",
    "probas = model.predict_proba(X_test)\n",
    "probabilidades_rl = [i[1] for i in probas]"
   ]
  },
  {
   "cell_type": "code",
   "execution_count": 5,
   "id": "f1278067",
   "metadata": {},
   "outputs": [
    {
     "data": {
      "text/html": [
       "<div>\n",
       "<style scoped>\n",
       "    .dataframe tbody tr th:only-of-type {\n",
       "        vertical-align: middle;\n",
       "    }\n",
       "\n",
       "    .dataframe tbody tr th {\n",
       "        vertical-align: top;\n",
       "    }\n",
       "\n",
       "    .dataframe thead th {\n",
       "        text-align: right;\n",
       "    }\n",
       "</style>\n",
       "<table border=\"1\" class=\"dataframe\">\n",
       "  <thead>\n",
       "    <tr style=\"text-align: right;\">\n",
       "      <th></th>\n",
       "      <th>Datos</th>\n",
       "      <th>Coeficiente</th>\n",
       "    </tr>\n",
       "  </thead>\n",
       "  <tbody>\n",
       "    <tr>\n",
       "      <th>0</th>\n",
       "      <td>Age</td>\n",
       "      <td>0.017201</td>\n",
       "    </tr>\n",
       "    <tr>\n",
       "      <th>1</th>\n",
       "      <td>Gender</td>\n",
       "      <td>0.134720</td>\n",
       "    </tr>\n",
       "    <tr>\n",
       "      <th>2</th>\n",
       "      <td>BMI</td>\n",
       "      <td>-0.018813</td>\n",
       "    </tr>\n",
       "    <tr>\n",
       "      <th>3</th>\n",
       "      <td>Smoking</td>\n",
       "      <td>-0.017406</td>\n",
       "    </tr>\n",
       "    <tr>\n",
       "      <th>4</th>\n",
       "      <td>AlcoholConsumption</td>\n",
       "      <td>-0.041123</td>\n",
       "    </tr>\n",
       "    <tr>\n",
       "      <th>5</th>\n",
       "      <td>PhysicalActivity</td>\n",
       "      <td>-0.029839</td>\n",
       "    </tr>\n",
       "    <tr>\n",
       "      <th>6</th>\n",
       "      <td>DietQuality</td>\n",
       "      <td>0.068913</td>\n",
       "    </tr>\n",
       "    <tr>\n",
       "      <th>7</th>\n",
       "      <td>SleepQuality</td>\n",
       "      <td>-0.095320</td>\n",
       "    </tr>\n",
       "    <tr>\n",
       "      <th>8</th>\n",
       "      <td>FamilyHistoryAlzheimers</td>\n",
       "      <td>-0.023931</td>\n",
       "    </tr>\n",
       "    <tr>\n",
       "      <th>9</th>\n",
       "      <td>CardiovascularDisease</td>\n",
       "      <td>0.066174</td>\n",
       "    </tr>\n",
       "    <tr>\n",
       "      <th>10</th>\n",
       "      <td>Diabetes</td>\n",
       "      <td>0.055565</td>\n",
       "    </tr>\n",
       "    <tr>\n",
       "      <th>11</th>\n",
       "      <td>Depression</td>\n",
       "      <td>0.039628</td>\n",
       "    </tr>\n",
       "    <tr>\n",
       "      <th>12</th>\n",
       "      <td>HeadInjury</td>\n",
       "      <td>-0.024255</td>\n",
       "    </tr>\n",
       "    <tr>\n",
       "      <th>13</th>\n",
       "      <td>Hypertension</td>\n",
       "      <td>0.024735</td>\n",
       "    </tr>\n",
       "    <tr>\n",
       "      <th>14</th>\n",
       "      <td>SystolicBP</td>\n",
       "      <td>0.004453</td>\n",
       "    </tr>\n",
       "    <tr>\n",
       "      <th>15</th>\n",
       "      <td>DiastolicBP</td>\n",
       "      <td>0.012657</td>\n",
       "    </tr>\n",
       "    <tr>\n",
       "      <th>16</th>\n",
       "      <td>CholesterolTotal</td>\n",
       "      <td>0.003208</td>\n",
       "    </tr>\n",
       "    <tr>\n",
       "      <th>17</th>\n",
       "      <td>CholesterolLDL</td>\n",
       "      <td>0.001203</td>\n",
       "    </tr>\n",
       "    <tr>\n",
       "      <th>18</th>\n",
       "      <td>CholesterolHDL</td>\n",
       "      <td>0.004555</td>\n",
       "    </tr>\n",
       "    <tr>\n",
       "      <th>19</th>\n",
       "      <td>CholesterolTriglycerides</td>\n",
       "      <td>0.001878</td>\n",
       "    </tr>\n",
       "    <tr>\n",
       "      <th>20</th>\n",
       "      <td>MMSE</td>\n",
       "      <td>-0.093316</td>\n",
       "    </tr>\n",
       "    <tr>\n",
       "      <th>21</th>\n",
       "      <td>FunctionalAssessment</td>\n",
       "      <td>-0.359448</td>\n",
       "    </tr>\n",
       "    <tr>\n",
       "      <th>22</th>\n",
       "      <td>MemoryComplaints</td>\n",
       "      <td>0.914243</td>\n",
       "    </tr>\n",
       "    <tr>\n",
       "      <th>23</th>\n",
       "      <td>BehavioralProblems</td>\n",
       "      <td>0.609315</td>\n",
       "    </tr>\n",
       "    <tr>\n",
       "      <th>24</th>\n",
       "      <td>ADL</td>\n",
       "      <td>-0.293201</td>\n",
       "    </tr>\n",
       "    <tr>\n",
       "      <th>25</th>\n",
       "      <td>Confusion</td>\n",
       "      <td>-0.019246</td>\n",
       "    </tr>\n",
       "    <tr>\n",
       "      <th>26</th>\n",
       "      <td>Disorientation</td>\n",
       "      <td>-0.005806</td>\n",
       "    </tr>\n",
       "    <tr>\n",
       "      <th>27</th>\n",
       "      <td>PersonalityChanges</td>\n",
       "      <td>-0.041367</td>\n",
       "    </tr>\n",
       "    <tr>\n",
       "      <th>28</th>\n",
       "      <td>DifficultyCompletingTasks</td>\n",
       "      <td>0.006986</td>\n",
       "    </tr>\n",
       "    <tr>\n",
       "      <th>29</th>\n",
       "      <td>Forgetfulness</td>\n",
       "      <td>0.033948</td>\n",
       "    </tr>\n",
       "    <tr>\n",
       "      <th>30</th>\n",
       "      <td>Ethnicity_0</td>\n",
       "      <td>0.095431</td>\n",
       "    </tr>\n",
       "    <tr>\n",
       "      <th>31</th>\n",
       "      <td>Ethnicity_1</td>\n",
       "      <td>-0.121624</td>\n",
       "    </tr>\n",
       "    <tr>\n",
       "      <th>32</th>\n",
       "      <td>Ethnicity_2</td>\n",
       "      <td>0.083330</td>\n",
       "    </tr>\n",
       "    <tr>\n",
       "      <th>33</th>\n",
       "      <td>Ethnicity_3</td>\n",
       "      <td>-0.022473</td>\n",
       "    </tr>\n",
       "    <tr>\n",
       "      <th>34</th>\n",
       "      <td>EducationLevel_0</td>\n",
       "      <td>0.056223</td>\n",
       "    </tr>\n",
       "    <tr>\n",
       "      <th>35</th>\n",
       "      <td>EducationLevel_1</td>\n",
       "      <td>-0.045530</td>\n",
       "    </tr>\n",
       "    <tr>\n",
       "      <th>36</th>\n",
       "      <td>EducationLevel_2</td>\n",
       "      <td>0.085373</td>\n",
       "    </tr>\n",
       "    <tr>\n",
       "      <th>37</th>\n",
       "      <td>EducationLevel_3</td>\n",
       "      <td>-0.061401</td>\n",
       "    </tr>\n",
       "  </tbody>\n",
       "</table>\n",
       "</div>"
      ],
      "text/plain": [
       "                        Datos  Coeficiente\n",
       "0                         Age     0.017201\n",
       "1                      Gender     0.134720\n",
       "2                         BMI    -0.018813\n",
       "3                     Smoking    -0.017406\n",
       "4          AlcoholConsumption    -0.041123\n",
       "5            PhysicalActivity    -0.029839\n",
       "6                 DietQuality     0.068913\n",
       "7                SleepQuality    -0.095320\n",
       "8     FamilyHistoryAlzheimers    -0.023931\n",
       "9       CardiovascularDisease     0.066174\n",
       "10                   Diabetes     0.055565\n",
       "11                 Depression     0.039628\n",
       "12                 HeadInjury    -0.024255\n",
       "13               Hypertension     0.024735\n",
       "14                 SystolicBP     0.004453\n",
       "15                DiastolicBP     0.012657\n",
       "16           CholesterolTotal     0.003208\n",
       "17             CholesterolLDL     0.001203\n",
       "18             CholesterolHDL     0.004555\n",
       "19   CholesterolTriglycerides     0.001878\n",
       "20                       MMSE    -0.093316\n",
       "21       FunctionalAssessment    -0.359448\n",
       "22           MemoryComplaints     0.914243\n",
       "23         BehavioralProblems     0.609315\n",
       "24                        ADL    -0.293201\n",
       "25                  Confusion    -0.019246\n",
       "26             Disorientation    -0.005806\n",
       "27         PersonalityChanges    -0.041367\n",
       "28  DifficultyCompletingTasks     0.006986\n",
       "29              Forgetfulness     0.033948\n",
       "30                Ethnicity_0     0.095431\n",
       "31                Ethnicity_1    -0.121624\n",
       "32                Ethnicity_2     0.083330\n",
       "33                Ethnicity_3    -0.022473\n",
       "34           EducationLevel_0     0.056223\n",
       "35           EducationLevel_1    -0.045530\n",
       "36           EducationLevel_2     0.085373\n",
       "37           EducationLevel_3    -0.061401"
      ]
     },
     "execution_count": 5,
     "metadata": {},
     "output_type": "execute_result"
    }
   ],
   "source": [
    "coeficientes = pd.DataFrame({'Datos': X.columns, 'Coeficiente': model.coef_[0]})\n",
    "coeficientes"
   ]
  },
  {
   "cell_type": "markdown",
   "id": "9ce301f0",
   "metadata": {},
   "source": [
    "### Análisis:\n",
    "Con el calculo anterior, podemos apreciar los coeficientes de la regresión logística, los cuales jugan un gran papel al momento de predecir si un paciente tiene alzheimer o no. Como podemos ver, algunos coeficientes cuentan con un signo positivo, lo cual significa que aumentan la probabilidad, mientras que otros tienen signos negativos, disminuyendo la probabilidad. Dicho esto, podemos analizar que los coeficientes mas altos son:\n",
    "\n",
    "- **Memory Complaints** con un coeficiente de 0.914243\n",
    "- **Behavioral Problems** con un coeficiente de 0.609315\n",
    "\n",
    "Estos son los factores que más aumentan la probabilidad de que el paciente tenga alzheimer. Por otro lado, los factores que disminuyen esta probabilidad son:\n",
    "\n",
    "- **Functional Assessment** con un coeficiente de -0.359448\n",
    "- **Ethnicity 1** con un coeficiente de -0.121624"
   ]
  },
  {
   "cell_type": "markdown",
   "id": "587e93f3",
   "metadata": {},
   "source": [
    "## Polinomial grado 2"
   ]
  },
  {
   "cell_type": "code",
   "execution_count": 6,
   "id": "76c8d7c7",
   "metadata": {},
   "outputs": [
    {
     "name": "stderr",
     "output_type": "stream",
     "text": [
      "C:\\Users\\arant\\anaconda3\\Lib\\site-packages\\sklearn\\linear_model\\_logistic.py:460: ConvergenceWarning: lbfgs failed to converge (status=1):\n",
      "STOP: TOTAL NO. of ITERATIONS REACHED LIMIT.\n",
      "\n",
      "Increase the number of iterations (max_iter) or scale the data as shown in:\n",
      "    https://scikit-learn.org/stable/modules/preprocessing.html\n",
      "Please also refer to the documentation for alternative solver options:\n",
      "    https://scikit-learn.org/stable/modules/linear_model.html#logistic-regression\n",
      "  n_iter_i = _check_optimize_result(\n"
     ]
    }
   ],
   "source": [
    "pipeline = Pipeline([\n",
    "    (\"scaler\", StandardScaler()),\n",
    "    (\"poly_features\", PolynomialFeatures(degree = 2)),\n",
    "    (\"model\", linear_model.LogisticRegression(penalty = 'l2'))\n",
    "])\n",
    "\n",
    "pipeline.fit(X_train, y_train)\n",
    "\n",
    "probabilidades_poly2= pipeline.predict_proba(X_test)[:, 1]"
   ]
  },
  {
   "cell_type": "markdown",
   "id": "d65195bc",
   "metadata": {},
   "source": [
    "## Polinomial grado 3"
   ]
  },
  {
   "cell_type": "code",
   "execution_count": 7,
   "id": "842c0890",
   "metadata": {},
   "outputs": [
    {
     "name": "stderr",
     "output_type": "stream",
     "text": [
      "C:\\Users\\arant\\anaconda3\\Lib\\site-packages\\sklearn\\linear_model\\_logistic.py:460: ConvergenceWarning: lbfgs failed to converge (status=1):\n",
      "STOP: TOTAL NO. of ITERATIONS REACHED LIMIT.\n",
      "\n",
      "Increase the number of iterations (max_iter) or scale the data as shown in:\n",
      "    https://scikit-learn.org/stable/modules/preprocessing.html\n",
      "Please also refer to the documentation for alternative solver options:\n",
      "    https://scikit-learn.org/stable/modules/linear_model.html#logistic-regression\n",
      "  n_iter_i = _check_optimize_result(\n"
     ]
    }
   ],
   "source": [
    "pipeline = Pipeline([\n",
    "    (\"scaler\", StandardScaler()),\n",
    "    (\"poly_features\", PolynomialFeatures(degree = 3)),\n",
    "    (\"model\", linear_model.LogisticRegression(penalty = 'l2'))\n",
    "])\n",
    "\n",
    "pipeline.fit(X_train, y_train)\n",
    "\n",
    "probabilidades_poly3= pipeline.predict_proba(X_test)[:, 1]"
   ]
  },
  {
   "cell_type": "markdown",
   "id": "76201b18",
   "metadata": {},
   "source": [
    "## Discriminante Lineal"
   ]
  },
  {
   "cell_type": "code",
   "execution_count": 8,
   "id": "d2384db1",
   "metadata": {},
   "outputs": [],
   "source": [
    "pipeline = Pipeline([\n",
    "    (\"scaler\", StandardScaler()),\n",
    "    (\"model\", discriminant_analysis.LinearDiscriminantAnalysis())\n",
    "])\n",
    "\n",
    "pipeline.fit(X_train, y_train)\n",
    "\n",
    "probabilidades_modelo_dis = pipeline.predict_proba(X_test)[:, 1]"
   ]
  },
  {
   "cell_type": "markdown",
   "id": "6d3f1a45",
   "metadata": {},
   "source": [
    "## Modelo KNN"
   ]
  },
  {
   "cell_type": "code",
   "execution_count": 9,
   "id": "0430e966",
   "metadata": {},
   "outputs": [],
   "source": [
    "scaler = StandardScaler()\n",
    "X_train_scaled = scaler.fit_transform(X_train)\n",
    "X_test_scaled = scaler.transform(X_test)\n",
    "\n",
    "nn = []\n",
    "for i in range(1, 100):\n",
    "    nn.append(i)\n",
    "    model = KNeighborsRegressor(n_neighbors=i).fit(X_train_scaled, y_train)\n",
    "    probabilidades_knn = model.predict(X_test_scaled)\n",
    "    nn.append(i)"
   ]
  },
  {
   "cell_type": "code",
   "execution_count": 10,
   "id": "15a4b70d",
   "metadata": {},
   "outputs": [
    {
     "data": {
      "text/html": [
       "<div>\n",
       "<style scoped>\n",
       "    .dataframe tbody tr th:only-of-type {\n",
       "        vertical-align: middle;\n",
       "    }\n",
       "\n",
       "    .dataframe tbody tr th {\n",
       "        vertical-align: top;\n",
       "    }\n",
       "\n",
       "    .dataframe thead th {\n",
       "        text-align: right;\n",
       "    }\n",
       "</style>\n",
       "<table border=\"1\" class=\"dataframe\">\n",
       "  <thead>\n",
       "    <tr style=\"text-align: right;\">\n",
       "      <th></th>\n",
       "      <th>real</th>\n",
       "      <th>logistica1</th>\n",
       "      <th>logistica2</th>\n",
       "      <th>logistica3</th>\n",
       "      <th>probabilidades_dis</th>\n",
       "      <th>probabilidades_knn</th>\n",
       "    </tr>\n",
       "  </thead>\n",
       "  <tbody>\n",
       "    <tr>\n",
       "      <th>1159</th>\n",
       "      <td>0</td>\n",
       "      <td>0.059520</td>\n",
       "      <td>6.551131e-12</td>\n",
       "      <td>4.117689e-07</td>\n",
       "      <td>0.013735</td>\n",
       "      <td>0.222222</td>\n",
       "    </tr>\n",
       "    <tr>\n",
       "      <th>1822</th>\n",
       "      <td>0</td>\n",
       "      <td>0.475682</td>\n",
       "      <td>1.161886e-05</td>\n",
       "      <td>2.897148e-02</td>\n",
       "      <td>0.153149</td>\n",
       "      <td>0.202020</td>\n",
       "    </tr>\n",
       "    <tr>\n",
       "      <th>978</th>\n",
       "      <td>0</td>\n",
       "      <td>0.124084</td>\n",
       "      <td>3.727678e-01</td>\n",
       "      <td>1.573301e-01</td>\n",
       "      <td>0.159469</td>\n",
       "      <td>0.343434</td>\n",
       "    </tr>\n",
       "    <tr>\n",
       "      <th>759</th>\n",
       "      <td>0</td>\n",
       "      <td>0.351036</td>\n",
       "      <td>1.857055e-05</td>\n",
       "      <td>1.327176e-05</td>\n",
       "      <td>0.078635</td>\n",
       "      <td>0.252525</td>\n",
       "    </tr>\n",
       "    <tr>\n",
       "      <th>874</th>\n",
       "      <td>0</td>\n",
       "      <td>0.004857</td>\n",
       "      <td>2.761389e-11</td>\n",
       "      <td>1.667646e-09</td>\n",
       "      <td>0.001993</td>\n",
       "      <td>0.161616</td>\n",
       "    </tr>\n",
       "  </tbody>\n",
       "</table>\n",
       "</div>"
      ],
      "text/plain": [
       "      real  logistica1    logistica2    logistica3  probabilidades_dis  \\\n",
       "1159     0    0.059520  6.551131e-12  4.117689e-07            0.013735   \n",
       "1822     0    0.475682  1.161886e-05  2.897148e-02            0.153149   \n",
       "978      0    0.124084  3.727678e-01  1.573301e-01            0.159469   \n",
       "759      0    0.351036  1.857055e-05  1.327176e-05            0.078635   \n",
       "874      0    0.004857  2.761389e-11  1.667646e-09            0.001993   \n",
       "\n",
       "      probabilidades_knn  \n",
       "1159            0.222222  \n",
       "1822            0.202020  \n",
       "978             0.343434  \n",
       "759             0.252525  \n",
       "874             0.161616  "
      ]
     },
     "execution_count": 10,
     "metadata": {},
     "output_type": "execute_result"
    }
   ],
   "source": [
    "juntar = pd.DataFrame({\n",
    "    'real': y_test,\n",
    "    'logistica1': probabilidades_rl,\n",
    "    'logistica2': probabilidades_poly2,\n",
    "    'logistica3': probabilidades_poly3,\n",
    "    'probabilidades_dis': probabilidades_modelo_dis,\n",
    "    'probabilidades_knn': probabilidades_knn\n",
    "})\n",
    "\n",
    "juntar.head()"
   ]
  },
  {
   "cell_type": "code",
   "execution_count": 11,
   "id": "84473cf9",
   "metadata": {},
   "outputs": [],
   "source": [
    "juntar['bins1']= pd.qcut(juntar['logistica1'], q=10, labels=False)+1\n",
    "juntar['bins2']= pd.qcut(juntar['logistica2'], q=10, labels=False)+1\n",
    "juntar['bins3']= pd.qcut(juntar['logistica3'], q=10, labels=False)+1\n",
    "juntar['bins_dis']= pd.qcut(juntar['probabilidades_dis'], q=10, labels=False)+1\n",
    "juntar['bins_knn']= pd.qcut(juntar['probabilidades_knn'], q=10, labels=False)+1"
   ]
  },
  {
   "cell_type": "code",
   "execution_count": 12,
   "id": "ba33344d",
   "metadata": {},
   "outputs": [],
   "source": [
    "grouped_rl = juntar.groupby('bins1').mean()\n",
    "grouped_poly2 = juntar.groupby('bins2').mean()\n",
    "grouped_poly3 = juntar.groupby('bins3').mean()\n",
    "grouped_dis = juntar.groupby('bins_dis').mean()\n",
    "grouped_knn = juntar.groupby('bins_knn').mean()"
   ]
  },
  {
   "cell_type": "code",
   "execution_count": 13,
   "id": "4146d955",
   "metadata": {},
   "outputs": [
    {
     "data": {
      "image/png": "[encoded data removed]",
      "text/plain": [
       "<Figure size 640x480 with 1 Axes>"
      ]
     },
     "metadata": {},
     "output_type": "display_data"
    }
   ],
   "source": [
    "plt.plot(grouped_dis.probabilidades_dis, grouped_dis.real, marker = \"o\", label = \"Discriminante\")\n",
    "plt.plot(grouped_rl.logistica1, grouped_rl.real, marker = \"o\", label = \"Regresión logística\")\n",
    "plt.plot(grouped_poly2.logistica2, grouped_poly2.real, marker = \"o\", label = \"Polinomial 2\")\n",
    "plt.plot(grouped_poly3.logistica3, grouped_poly3.real, marker = \"o\", label = \"Polinomial 3\")\n",
    "plt.plot(grouped_knn.probabilidades_knn, grouped_knn.real, marker = \"o\", label = \"KNN\")\n",
    "\n",
    "plt.plot([0, 1], [0, 1], color='red', linestyle='--', lw=2, label='Clasificador aleatorio')\n",
    "plt.legend()\n",
    "plt.grid()"
   ]
  },
  {
   "cell_type": "markdown",
   "id": "0fc66ded",
   "metadata": {},
   "source": [
    "# AUC:"
   ]
  },
  {
   "cell_type": "markdown",
   "id": "0cdf3c44",
   "metadata": {},
   "source": [
    "## Regresión lineal"
   ]
  },
  {
   "cell_type": "code",
   "execution_count": 14,
   "id": "e4e25441",
   "metadata": {},
   "outputs": [
    {
     "data": {
      "text/plain": [
       "[<matplotlib.lines.Line2D at 0x175870b3c10>]"
      ]
     },
     "execution_count": 14,
     "metadata": {},
     "output_type": "execute_result"
    },
    {
     "data": {
      "image/png": "[encoded data removed]",
      "text/plain": [
       "<Figure size 640x480 with 1 Axes>"
      ]
     },
     "metadata": {},
     "output_type": "display_data"
    }
   ],
   "source": [
    "fpr, fnp, scores=roc_curve(y_score=probabilidades_rl, y_true=y_test)\n",
    "plt.plot(fpr,fnp)\n",
    "plt.plot([0, 1], [0, 1], color='red', linestyle='--', lw=2, label='Clasificador aleatorio')"
   ]
  },
  {
   "cell_type": "markdown",
   "id": "fed3b726",
   "metadata": {},
   "source": [
    "## Polinomial grado 2"
   ]
  },
  {
   "cell_type": "code",
   "execution_count": 15,
   "id": "2c5cd73e",
   "metadata": {},
   "outputs": [
    {
     "data": {
      "text/plain": [
       "[<matplotlib.lines.Line2D at 0x1758709c810>]"
      ]
     },
     "execution_count": 15,
     "metadata": {},
     "output_type": "execute_result"
    },
    {
     "data": {
      "image/png": "[encoded data removed]",
      "text/plain": [
       "<Figure size 640x480 with 1 Axes>"
      ]
     },
     "metadata": {},
     "output_type": "display_data"
    }
   ],
   "source": [
    "fpr, fnp, scores=roc_curve(y_score=probabilidades_poly2, y_true=y_test)\n",
    "plt.plot(fpr,fnp)\n",
    "plt.plot([0, 1], [0, 1], color='red', linestyle='--', lw=2, label='Clasificador aleatorio')"
   ]
  },
  {
   "cell_type": "markdown",
   "id": "ad9ff659",
   "metadata": {},
   "source": [
    "## Polinomial grado 3"
   ]
  },
  {
   "cell_type": "code",
   "execution_count": 16,
   "id": "5583e396",
   "metadata": {},
   "outputs": [
    {
     "data": {
      "text/plain": [
       "[<matplotlib.lines.Line2D at 0x175877e2590>]"
      ]
     },
     "execution_count": 16,
     "metadata": {},
     "output_type": "execute_result"
    },
    {
     "data": {
      "image/png": "[encoded data removed]",
      "text/plain": [
       "<Figure size 640x480 with 1 Axes>"
      ]
     },
     "metadata": {},
     "output_type": "display_data"
    }
   ],
   "source": [
    "fpr, fnp, scores=roc_curve(y_score=probabilidades_poly3, y_true=y_test)\n",
    "plt.plot(fpr,fnp)\n",
    "plt.plot([0, 1], [0, 1], color='red', linestyle='--', lw=2, label='Clasificador aleatorio')"
   ]
  },
  {
   "cell_type": "markdown",
   "id": "10f30aae",
   "metadata": {},
   "source": [
    "## Discriminante Lineal"
   ]
  },
  {
   "cell_type": "code",
   "execution_count": 17,
   "id": "31a0bdca",
   "metadata": {},
   "outputs": [
    {
     "data": {
      "text/plain": [
       "[<matplotlib.lines.Line2D at 0x17587853650>]"
      ]
     },
     "execution_count": 17,
     "metadata": {},
     "output_type": "execute_result"
    },
    {
     "data": {
      "image/png": "[encoded data removed]",
      "text/plain": [
       "<Figure size 640x480 with 1 Axes>"
      ]
     },
     "metadata": {},
     "output_type": "display_data"
    }
   ],
   "source": [
    "fpr, fnp, scores=roc_curve(y_score=probabilidades_modelo_dis, y_true=y_test)\n",
    "plt.plot(fpr,fnp)\n",
    "plt.plot([0, 1], [0, 1], color='red', linestyle='--', lw=2, label='Clasificador aleatorio')"
   ]
  },
  {
   "cell_type": "markdown",
   "id": "4401b7c9",
   "metadata": {},
   "source": [
    "## Modelo KNN"
   ]
  },
  {
   "cell_type": "code",
   "execution_count": 18,
   "id": "8f0257b8",
   "metadata": {},
   "outputs": [
    {
     "data": {
      "text/plain": [
       "[<matplotlib.lines.Line2D at 0x175878bfd90>]"
      ]
     },
     "execution_count": 18,
     "metadata": {},
     "output_type": "execute_result"
    },
    {
     "data": {
      "image/png": "[encoded data removed]",
      "text/plain": [
       "<Figure size 640x480 with 1 Axes>"
      ]
     },
     "metadata": {},
     "output_type": "display_data"
    }
   ],
   "source": [
    "fpr, fnp, scores=roc_curve(y_score=probabilidades_knn, y_true=y_test)\n",
    "plt.plot(fpr,fnp)\n",
    "plt.plot([0, 1], [0, 1], color='red', linestyle='--', lw=2, label='Clasificador aleatorio')"
   ]
  },
  {
   "cell_type": "code",
   "execution_count": 19,
   "id": "02c1f60f",
   "metadata": {},
   "outputs": [
    {
     "data": {
      "text/html": [
       "<div>\n",
       "<style scoped>\n",
       "    .dataframe tbody tr th:only-of-type {\n",
       "        vertical-align: middle;\n",
       "    }\n",
       "\n",
       "    .dataframe tbody tr th {\n",
       "        vertical-align: top;\n",
       "    }\n",
       "\n",
       "    .dataframe thead th {\n",
       "        text-align: right;\n",
       "    }\n",
       "</style>\n",
       "<table border=\"1\" class=\"dataframe\">\n",
       "  <thead>\n",
       "    <tr style=\"text-align: right;\">\n",
       "      <th></th>\n",
       "      <th>Regresión logística</th>\n",
       "      <th>Polinomial grado 2</th>\n",
       "      <th>Polinomial grado 3</th>\n",
       "      <th>Discriminante lineal</th>\n",
       "      <th>Modelo KNN</th>\n",
       "    </tr>\n",
       "  </thead>\n",
       "  <tbody>\n",
       "    <tr>\n",
       "      <th>AUC</th>\n",
       "      <td>0.82327</td>\n",
       "      <td>0.777012</td>\n",
       "      <td>0.846766</td>\n",
       "      <td>0.879533</td>\n",
       "      <td>0.857406</td>\n",
       "    </tr>\n",
       "  </tbody>\n",
       "</table>\n",
       "</div>"
      ],
      "text/plain": [
       "     Regresión logística  Polinomial grado 2  Polinomial grado 3  \\\n",
       "AUC              0.82327            0.777012            0.846766   \n",
       "\n",
       "     Discriminante lineal  Modelo KNN  \n",
       "AUC              0.879533    0.857406  "
      ]
     },
     "execution_count": 19,
     "metadata": {},
     "output_type": "execute_result"
    }
   ],
   "source": [
    "tabla = pd.DataFrame({\n",
    "    'Regresión logística': [roc_auc_score(y_score=probabilidades_rl, y_true=y_test)],\n",
    "    'Polinomial grado 2': [roc_auc_score(y_score=probabilidades_poly2, y_true=y_test)],\n",
    "    'Polinomial grado 3': [roc_auc_score(y_score=probabilidades_poly3, y_true=y_test)],\n",
    "    'Discriminante lineal': [roc_auc_score(y_score=probabilidades_modelo_dis, y_true=y_test)],\n",
    "    'Modelo KNN': [roc_auc_score(y_score=probabilidades_knn, y_true=y_test)]\n",
    "}, index=['AUC'])\n",
    "\n",
    "tabla\n"
   ]
  },
  {
   "cell_type": "markdown",
   "id": "24eaba19",
   "metadata": {},
   "source": [
    "# Histogramas:"
   ]
  },
  {
   "cell_type": "code",
   "execution_count": 20,
   "id": "35d3bf22",
   "metadata": {},
   "outputs": [],
   "source": [
    "real1 = juntar[juntar['real'] == 1]\n",
    "real0 = juntar[juntar['real'] == 0]"
   ]
  },
  {
   "cell_type": "markdown",
   "id": "514c8c8a",
   "metadata": {},
   "source": [
    "## Regresión Logística"
   ]
  },
  {
   "cell_type": "code",
   "execution_count": 21,
   "id": "e7a290ce",
   "metadata": {},
   "outputs": [
    {
     "data": {
      "image/png": "[encoded data removed]",
      "text/plain": [
       "<Figure size 640x480 with 1 Axes>"
      ]
     },
     "metadata": {},
     "output_type": "display_data"
    }
   ],
   "source": [
    "plt.hist(real1.logistica1, density=True, alpha=0.5, bins=10, color = 'rosybrown')\n",
    "plt.hist(real0.logistica1, density=True, alpha=0.5, bins=10, color = 'midnightblue')\n",
    "plt.show()"
   ]
  },
  {
   "cell_type": "markdown",
   "id": "5d90ec2f",
   "metadata": {},
   "source": [
    "## Polinomial grado 2"
   ]
  },
  {
   "cell_type": "code",
   "execution_count": 22,
   "id": "2c836586",
   "metadata": {},
   "outputs": [
    {
     "data": {
      "image/png": "[encoded data removed]",
      "text/plain": [
       "<Figure size 640x480 with 1 Axes>"
      ]
     },
     "metadata": {},
     "output_type": "display_data"
    }
   ],
   "source": [
    "plt.hist(real1.logistica2, density=True, alpha=0.5, bins=10, color = 'rosybrown')\n",
    "plt.hist(real0.logistica2, density=True, alpha=0.5, bins=10, color = 'midnightblue')\n",
    "plt.show()"
   ]
  },
  {
   "cell_type": "markdown",
   "id": "8b9c6015",
   "metadata": {},
   "source": [
    "## Polinomial grado 3"
   ]
  },
  {
   "cell_type": "code",
   "execution_count": 23,
   "id": "47d04bc9",
   "metadata": {},
   "outputs": [
    {
     "data": {
      "image/png": "[encoded data removed]",
      "text/plain": [
       "<Figure size 640x480 with 1 Axes>"
      ]
     },
     "metadata": {},
     "output_type": "display_data"
    }
   ],
   "source": [
    "plt.hist(real1.logistica3, density=True, alpha=0.5, bins=10, color = 'rosybrown')\n",
    "plt.hist(real0.logistica3, density=True, alpha=0.5, bins=10, color = 'midnightblue')\n",
    "plt.show()"
   ]
  },
  {
   "cell_type": "markdown",
   "id": "8945dba5",
   "metadata": {},
   "source": [
    "## Discriminante lineal"
   ]
  },
  {
   "cell_type": "code",
   "execution_count": 24,
   "id": "8f624fac",
   "metadata": {},
   "outputs": [
    {
     "data": {
      "image/png": "[encoded data removed]",
      "text/plain": [
       "<Figure size 640x480 with 1 Axes>"
      ]
     },
     "metadata": {},
     "output_type": "display_data"
    }
   ],
   "source": [
    "plt.hist(real1.probabilidades_dis, density=True, alpha=0.5, bins=10, color = 'rosybrown')\n",
    "plt.hist(real0.probabilidades_dis, density=True, alpha=0.5, bins=10, color = 'midnightblue')\n",
    "plt.show()"
   ]
  },
  {
   "cell_type": "markdown",
   "id": "f67f1026",
   "metadata": {},
   "source": [
    "## Modelo KNN"
   ]
  },
  {
   "cell_type": "code",
   "execution_count": 25,
   "id": "3da8f801",
   "metadata": {},
   "outputs": [
    {
     "data": {
      "image/png": "[encoded data removed]",
      "text/plain": [
       "<Figure size 640x480 with 1 Axes>"
      ]
     },
     "metadata": {},
     "output_type": "display_data"
    }
   ],
   "source": [
    "plt.hist(real1.probabilidades_knn, density=True, alpha=0.5, bins=10, color = 'rosybrown')\n",
    "plt.hist(real0.probabilidades_knn, density=True, alpha=0.5, bins=10, color = 'midnightblue')\n",
    "plt.show()"
   ]
  },
  {
   "cell_type": "code",
   "execution_count": 26,
   "id": "c759f87e",
   "metadata": {},
   "outputs": [
    {
     "data": {
      "text/html": [
       "<div>\n",
       "<style scoped>\n",
       "    .dataframe tbody tr th:only-of-type {\n",
       "        vertical-align: middle;\n",
       "    }\n",
       "\n",
       "    .dataframe tbody tr th {\n",
       "        vertical-align: top;\n",
       "    }\n",
       "\n",
       "    .dataframe thead th {\n",
       "        text-align: right;\n",
       "    }\n",
       "</style>\n",
       "<table border=\"1\" class=\"dataframe\">\n",
       "  <thead>\n",
       "    <tr style=\"text-align: right;\">\n",
       "      <th></th>\n",
       "      <th>Regresión logística</th>\n",
       "      <th>Polinomial grado 2</th>\n",
       "      <th>Polinomial grado 3</th>\n",
       "      <th>Discriminante lineal</th>\n",
       "      <th>Modelo KNN</th>\n",
       "    </tr>\n",
       "  </thead>\n",
       "  <tbody>\n",
       "    <tr>\n",
       "      <th>AUC</th>\n",
       "      <td>0.82327</td>\n",
       "      <td>0.777012</td>\n",
       "      <td>0.846766</td>\n",
       "      <td>0.879533</td>\n",
       "      <td>0.857406</td>\n",
       "    </tr>\n",
       "  </tbody>\n",
       "</table>\n",
       "</div>"
      ],
      "text/plain": [
       "     Regresión logística  Polinomial grado 2  Polinomial grado 3  \\\n",
       "AUC              0.82327            0.777012            0.846766   \n",
       "\n",
       "     Discriminante lineal  Modelo KNN  \n",
       "AUC              0.879533    0.857406  "
      ]
     },
     "execution_count": 26,
     "metadata": {},
     "output_type": "execute_result"
    }
   ],
   "source": [
    "tabla"
   ]
  },
  {
   "cell_type": "markdown",
   "id": "39d5d8c0",
   "metadata": {},
   "source": [
    "### Análisis:\n",
    "\n",
    "Considerando la tabla anterior que muestra el AUC de cada modelo, podemos llegar a la conclusión de que el mejor modelo fue el de Discriminante Lineal, con un valor del AUC de 0.879533. Este valor nos indica que este modelo hace un buen trabajo clasificando los pacientes por clases, es decir, tiene una alta capacidad para clasificar si un paciente tiene alheimer o no. "
   ]
  },
  {
   "cell_type": "code",
   "execution_count": null,
   "id": "15972e25",
   "metadata": {},
   "outputs": [],
   "source": []
  }
 ],
 "metadata": {
  "kernelspec": {
   "display_name": "Python 3 (ipykernel)",
   "language": "python",
   "name": "python3"
  },
  "language_info": {
   "codemirror_mode": {
    "name": "ipython",
    "version": 3
   },
   "file_extension": ".py",
   "mimetype": "text/x-python",
   "name": "python",
   "nbconvert_exporter": "python",
   "pygments_lexer": "ipython3",
   "version": "3.11.4"
  }
 },
 "nbformat": 4,
 "nbformat_minor": 5
}
